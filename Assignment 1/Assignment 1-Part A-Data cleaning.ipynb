{
 "cells": [
  {
   "cell_type": "code",
   "execution_count": 52,
   "metadata": {},
   "outputs": [],
   "source": [
    "import pandas as pd\n",
    "import numpy as np"
   ]
  },
  {
   "cell_type": "code",
   "execution_count": 64,
   "metadata": {},
   "outputs": [
    {
     "name": "stderr",
     "output_type": "stream",
     "text": [
      "C:\\ProgramData\\Anaconda3\\lib\\site-packages\\IPython\\core\\interactiveshell.py:2785: DtypeWarning: Columns (0,38,40) have mixed types. Specify dtype option on import or set low_memory=False.\n",
      "  interactivity=interactivity, compiler=compiler, result=result)\n"
     ]
    }
   ],
   "source": [
    "df = pd.read_csv(\"clinvar_conflicting.csv\")"
   ]
  },
  {
   "cell_type": "markdown",
   "metadata": {},
   "source": [
    "Are there missing values? (10 %)"
   ]
  },
  {
   "cell_type": "markdown",
   "metadata": {},
   "source": [
    "Yes. The dataset does have missing values in several columns"
   ]
  },
  {
   "cell_type": "code",
   "execution_count": 65,
   "metadata": {},
   "outputs": [],
   "source": [
    "percent_missing = df.isnull().sum() * 100 / len(df)"
   ]
  },
  {
   "cell_type": "code",
   "execution_count": 47,
   "metadata": {},
   "outputs": [],
   "source": [
    "#percentage of missing data in each column\n"
   ]
  },
  {
   "cell_type": "markdown",
   "metadata": {},
   "source": [
    "Are there inappropraite values?\n",
    "\n",
    "Yes, The column Intron and Extron has inappropriate values"
   ]
  },
  {
   "cell_type": "code",
   "execution_count": 66,
   "metadata": {},
   "outputs": [
    {
     "data": {
      "text/plain": [
       "CHROM                  0.000000\n",
       "POS                    0.000000\n",
       "REF                    0.000000\n",
       "ALT                    0.000000\n",
       "AF_ESP                 0.000000\n",
       "AF_EXAC                0.000000\n",
       "AF_TGP                 0.000000\n",
       "CLNDISDB               0.000000\n",
       "CLNDISDBINCL          99.883414\n",
       "CLNDN                  0.000000\n",
       "CLNDNINCL             99.883414\n",
       "CLNHGVS                0.000000\n",
       "CLNSIGINCL            99.883414\n",
       "CLNVC                  0.000000\n",
       "CLNVI                 57.570412\n",
       "MC                    10.690618\n",
       "ORIGIN                 9.392833\n",
       "SSR                   99.840461\n",
       "CLASS                  0.000000\n",
       "Allele                 0.000000\n",
       "Consequence            0.000000\n",
       "IMPACT                 0.000000\n",
       "SYMBOL                 0.024544\n",
       "Feature_type           0.021476\n",
       "Feature                0.021476\n",
       "BIOTYPE                0.024544\n",
       "EXON                  13.642081\n",
       "INTRON                86.495981\n",
       "cDNA_position         13.628275\n",
       "CDS_position          15.271216\n",
       "Protein_position      15.271216\n",
       "Amino_acids           15.346383\n",
       "Codons                15.346383\n",
       "DISTANCE              99.834325\n",
       "STRAND                 0.021476\n",
       "BAM_EDIT              50.958765\n",
       "SIFT                  61.900963\n",
       "PolyPhen              61.962324\n",
       "MOTIF_NAME            99.996932\n",
       "MOTIF_POS             99.996932\n",
       "HIGH_INF_POS          99.996932\n",
       "MOTIF_SCORE_CHANGE    99.996932\n",
       "LoFtool                6.462846\n",
       "CADD_PHRED             1.675155\n",
       "CADD_RAW               1.675155\n",
       "BLOSUM62              60.739707\n",
       "dtype: float64"
      ]
     },
     "execution_count": 66,
     "metadata": {},
     "output_type": "execute_result"
    }
   ],
   "source": [
    "percent_missing"
   ]
  },
  {
   "cell_type": "markdown",
   "metadata": {},
   "source": [
    "Remove or impute any bad data\n",
    "As some of the columns have "
   ]
  },
  {
   "cell_type": "code",
   "execution_count": 67,
   "metadata": {},
   "outputs": [],
   "source": [
    "df=df.drop(['CLNDISDBINCL','CLNDNINCL','CLNSIGINCL','DISTANCE','SSR'], axis=1)"
   ]
  },
  {
   "cell_type": "code",
   "execution_count": 68,
   "metadata": {},
   "outputs": [],
   "source": [
    "df=df.drop(['MOTIF_NAME','MOTIF_POS','HIGH_INF_POS','MOTIF_SCORE_CHANGE'], axis=1)"
   ]
  },
  {
   "cell_type": "code",
   "execution_count": 69,
   "metadata": {},
   "outputs": [],
   "source": [
    "df=df.drop(['INTRON'], axis=1)"
   ]
  },
  {
   "cell_type": "code",
   "execution_count": 70,
   "metadata": {},
   "outputs": [],
   "source": [
    "df['BAM_EDIT']=df['BAM_EDIT'].fillna(\"OK\")"
   ]
  },
  {
   "cell_type": "code",
   "execution_count": 71,
   "metadata": {},
   "outputs": [],
   "source": [
    "df=df.drop(['SIFT','PolyPhen','BLOSUM62'], axis=1)"
   ]
  },
  {
   "cell_type": "code",
   "execution_count": 72,
   "metadata": {},
   "outputs": [],
   "source": [
    "df['CLNVI']=df['CLNVI'].fillna(\"No Variant\")"
   ]
  },
  {
   "cell_type": "code",
   "execution_count": 73,
   "metadata": {},
   "outputs": [],
   "source": [
    "df=df.dropna()"
   ]
  },
  {
   "cell_type": "code",
   "execution_count": 75,
   "metadata": {},
   "outputs": [],
   "source": [
    "df.to_csv(\"cleanData.csv\", index=False)"
   ]
  },
  {
   "cell_type": "code",
   "execution_count": 48,
   "metadata": {},
   "outputs": [],
   "source": [
    "#df.isnull().sum() * 100 / len(df)"
   ]
  }
 ],
 "metadata": {
  "kernelspec": {
   "display_name": "Python 3",
   "language": "python",
   "name": "python3"
  },
  "language_info": {
   "codemirror_mode": {
    "name": "ipython",
    "version": 3
   },
   "file_extension": ".py",
   "mimetype": "text/x-python",
   "name": "python",
   "nbconvert_exporter": "python",
   "pygments_lexer": "ipython3",
   "version": "3.6.5"
  }
 },
 "nbformat": 4,
 "nbformat_minor": 2
}
