{
 "cells": [
  {
   "cell_type": "code",
   "execution_count": 1,
   "metadata": {},
   "outputs": [
    {
     "name": "stdout",
     "output_type": "stream",
     "text": [
      "Checking whether there is an H2O instance running at http://localhost:54321..... not found.\n",
      "Attempting to start a local H2O server...\n",
      "; Java HotSpot(TM) 64-Bit Server VM (build 25.141-b15, mixed mode)\n",
      "  Starting server from C:\\ProgramData\\Anaconda3\\lib\\site-packages\\h2o\\backend\\bin\\h2o.jar\n",
      "  Ice root: C:\\Users\\raksh\\AppData\\Local\\Temp\\tmpn1zlabgx\n",
      "  JVM stdout: C:\\Users\\raksh\\AppData\\Local\\Temp\\tmpn1zlabgx\\h2o_raksha_started_from_python.out\n",
      "  JVM stderr: C:\\Users\\raksh\\AppData\\Local\\Temp\\tmpn1zlabgx\\h2o_raksha_started_from_python.err\n",
      "  Server is running at http://127.0.0.1:54321\n",
      "Connecting to H2O server at http://127.0.0.1:54321... successful.\n"
     ]
    },
    {
     "data": {
      "text/html": [
       "<div style=\"overflow:auto\"><table style=\"width:50%\"><tr><td>H2O cluster uptime:</td>\n",
       "<td>02 secs</td></tr>\n",
       "<tr><td>H2O cluster timezone:</td>\n",
       "<td>America/New_York</td></tr>\n",
       "<tr><td>H2O data parsing timezone:</td>\n",
       "<td>UTC</td></tr>\n",
       "<tr><td>H2O cluster version:</td>\n",
       "<td>3.20.0.8</td></tr>\n",
       "<tr><td>H2O cluster version age:</td>\n",
       "<td>20 days </td></tr>\n",
       "<tr><td>H2O cluster name:</td>\n",
       "<td>H2O_from_python_raksha_4cwzbl</td></tr>\n",
       "<tr><td>H2O cluster total nodes:</td>\n",
       "<td>1</td></tr>\n",
       "<tr><td>H2O cluster free memory:</td>\n",
       "<td>2.639 Gb</td></tr>\n",
       "<tr><td>H2O cluster total cores:</td>\n",
       "<td>4</td></tr>\n",
       "<tr><td>H2O cluster allowed cores:</td>\n",
       "<td>4</td></tr>\n",
       "<tr><td>H2O cluster status:</td>\n",
       "<td>accepting new members, healthy</td></tr>\n",
       "<tr><td>H2O connection url:</td>\n",
       "<td>http://127.0.0.1:54321</td></tr>\n",
       "<tr><td>H2O connection proxy:</td>\n",
       "<td>None</td></tr>\n",
       "<tr><td>H2O internal security:</td>\n",
       "<td>False</td></tr>\n",
       "<tr><td>H2O API Extensions:</td>\n",
       "<td>Algos, AutoML, Core V3, Core V4</td></tr>\n",
       "<tr><td>Python version:</td>\n",
       "<td>3.6.5 final</td></tr></table></div>"
      ],
      "text/plain": [
       "--------------------------  -------------------------------\n",
       "H2O cluster uptime:         02 secs\n",
       "H2O cluster timezone:       America/New_York\n",
       "H2O data parsing timezone:  UTC\n",
       "H2O cluster version:        3.20.0.8\n",
       "H2O cluster version age:    20 days\n",
       "H2O cluster name:           H2O_from_python_raksha_4cwzbl\n",
       "H2O cluster total nodes:    1\n",
       "H2O cluster free memory:    2.639 Gb\n",
       "H2O cluster total cores:    4\n",
       "H2O cluster allowed cores:  4\n",
       "H2O cluster status:         accepting new members, healthy\n",
       "H2O connection url:         http://127.0.0.1:54321\n",
       "H2O connection proxy:\n",
       "H2O internal security:      False\n",
       "H2O API Extensions:         Algos, AutoML, Core V3, Core V4\n",
       "Python version:             3.6.5 final\n",
       "--------------------------  -------------------------------"
      ]
     },
     "metadata": {},
     "output_type": "display_data"
    }
   ],
   "source": [
    "import h2o\n",
    "from h2o.automl import H2OAutoML\n",
    "h2o.init()"
   ]
  },
  {
   "cell_type": "code",
   "execution_count": 2,
   "metadata": {},
   "outputs": [
    {
     "name": "stdout",
     "output_type": "stream",
     "text": [
      "Parse progress: |█████████████████████████████████████████████████████████| 100%\n"
     ]
    }
   ],
   "source": [
    "df = h2o.import_file(\"cleanData.csv\")"
   ]
  },
  {
   "cell_type": "code",
   "execution_count": 3,
   "metadata": {},
   "outputs": [
    {
     "name": "stdout",
     "output_type": "stream",
     "text": [
      "Rows:44572\n",
      "Cols:33\n",
      "\n",
      "\n"
     ]
    },
    {
     "data": {
      "text/html": [
       "<table>\n",
       "<thead>\n",
       "<tr><th>       </th><th>CHROM            </th><th>POS               </th><th>REF  </th><th>ALT  </th><th>AF_ESP              </th><th>AF_EXAC             </th><th>AF_TGP              </th><th>CLNDISDB                                   </th><th>CLNDN                                           </th><th>CLNHGVS                 </th><th>CLNVC                    </th><th>CLNVI     </th><th>MC                           </th><th>ORIGIN            </th><th>CLASS              </th><th>Allele  </th><th>Consequence                             </th><th>IMPACT  </th><th>SYMBOL  </th><th>Feature_type  </th><th>Feature       </th><th>BIOTYPE       </th><th>EXON  </th><th>cDNA_position     </th><th>CDS_position      </th><th>Protein_position  </th><th>Amino_acids  </th><th>Codons  </th><th>STRAND              </th><th>BAM_EDIT  </th><th>LoFtool              </th><th>CADD_PHRED        </th><th>CADD_RAW          </th></tr>\n",
       "</thead>\n",
       "<tbody>\n",
       "<tr><td>type   </td><td>int              </td><td>int               </td><td>enum </td><td>enum </td><td>real                </td><td>real                </td><td>real                </td><td>enum                                       </td><td>enum                                            </td><td>string                  </td><td>enum                     </td><td>enum      </td><td>enum                         </td><td>int               </td><td>int                </td><td>enum    </td><td>enum                                    </td><td>enum    </td><td>enum    </td><td>enum          </td><td>enum          </td><td>enum          </td><td>enum  </td><td>int               </td><td>int               </td><td>int               </td><td>enum         </td><td>enum    </td><td>int                 </td><td>enum      </td><td>real                 </td><td>real              </td><td>real              </td></tr>\n",
       "<tr><td>mins   </td><td>1.0              </td><td>193245.0          </td><td>     </td><td>     </td><td>0.0                 </td><td>0.0                 </td><td>0.0                 </td><td>                                           </td><td>                                                </td><td>NaN                     </td><td>                         </td><td>          </td><td>                             </td><td>0.0               </td><td>0.0                </td><td>        </td><td>                                        </td><td>        </td><td>        </td><td>              </td><td>              </td><td>              </td><td>      </td><td>2.0               </td><td>1.0               </td><td>1.0               </td><td>             </td><td>        </td><td>-1.0                </td><td>          </td><td>6.890000000000001e-05</td><td>0.001             </td><td>-5.477391000000001</td></tr>\n",
       "<tr><td>mean   </td><td>9.643380242888952</td><td>80109179.18890783 </td><td>     </td><td>     </td><td>0.010081129408597326</td><td>0.009888802162792787</td><td>0.010461181907924262</td><td>                                           </td><td>                                                </td><td>NaN                     </td><td>                         </td><td>          </td><td>                             </td><td>1.2839226420174101</td><td>0.2444808399892309 </td><td>        </td><td>                                        </td><td>        </td><td>        </td><td>              </td><td>              </td><td>              </td><td>      </td><td>5741.176626643794 </td><td>5507.676569468265 </td><td>1831.3617050190248</td><td>             </td><td>        </td><td>0.012519070268329756</td><td>          </td><td>0.3566139603405725   </td><td>16.592505810822928</td><td>2.7758089249977558</td></tr>\n",
       "<tr><td>maxs   </td><td>22.0             </td><td>247607973.0       </td><td>     </td><td>     </td><td>0.499               </td><td>0.49988999999999995 </td><td>0.4968              </td><td>                                           </td><td>                                                </td><td>NaN                     </td><td>                         </td><td>          </td><td>                             </td><td>513.0             </td><td>1.0                </td><td>        </td><td>                                        </td><td>        </td><td>        </td><td>              </td><td>              </td><td>              </td><td>      </td><td>108186.0          </td><td>107961.0          </td><td>35987.0           </td><td>             </td><td>        </td><td>1.0                 </td><td>          </td><td>1.0                  </td><td>81.0              </td><td>34.23672          </td></tr>\n",
       "<tr><td>sigma  </td><td>6.250256927898784</td><td>60569060.095110804</td><td>     </td><td>     </td><td>0.047918410278457516</td><td>0.04935310414127118 </td><td>0.04928170503555309 </td><td>                                           </td><td>                                                </td><td>NaN                     </td><td>                         </td><td>          </td><td>                             </td><td>5.9504583794082135</td><td>0.42978378638674974</td><td>        </td><td>                                        </td><td>        </td><td>        </td><td>              </td><td>              </td><td>              </td><td>      </td><td>14371.826730205614</td><td>14369.919345572636</td><td>4783.090618683608 </td><td>             </td><td>        </td><td>0.9999328504836899  </td><td>          </td><td>0.36636068398876787  </td><td>10.899269944518988</td><td>3.1060151769501854</td></tr>\n",
       "<tr><td>zeros  </td><td>0                </td><td>0                 </td><td>     </td><td>     </td><td>25272               </td><td>16387               </td><td>27385               </td><td>                                           </td><td>                                                </td><td>0                       </td><td>                         </td><td>          </td><td>                             </td><td>9                 </td><td>33675              </td><td>        </td><td>                                        </td><td>        </td><td>        </td><td>              </td><td>              </td><td>              </td><td>      </td><td>0                 </td><td>0                 </td><td>0                 </td><td>             </td><td>        </td><td>0                   </td><td>          </td><td>0                    </td><td>0                 </td><td>0                 </td></tr>\n",
       "<tr><td>missing</td><td>1013             </td><td>0                 </td><td>0    </td><td>0    </td><td>0                   </td><td>0                   </td><td>0                   </td><td>0                                          </td><td>0                                               </td><td>0                       </td><td>0                        </td><td>0         </td><td>0                            </td><td>0                 </td><td>0                  </td><td>0       </td><td>0                                       </td><td>0       </td><td>0       </td><td>0             </td><td>0             </td><td>0             </td><td>0     </td><td>847               </td><td>847               </td><td>420               </td><td>0            </td><td>0       </td><td>0                   </td><td>0         </td><td>0                    </td><td>0                 </td><td>0                 </td></tr>\n",
       "<tr><td>0      </td><td>1.0              </td><td>955563.0          </td><td>G    </td><td>C    </td><td>0.0                 </td><td>0.0                 </td><td>0.0                 </td><td>MedGen:C3808739,OMIM:615120|MedGen:CN169374</td><td>Myasthenic_syndrome,_congenital,_8|not_specified</td><td>NC_000001.10:g.955563G>C</td><td>single_nucleotide_variant</td><td>No Variant</td><td>SO:0001583|missense_variant  </td><td>1.0               </td><td>0.0                </td><td>C       </td><td>missense_variant                        </td><td>MODERATE</td><td>AGRN    </td><td>Transcript    </td><td>NM_001305275.1</td><td>protein_coding</td><td>1/39  </td><td>61.0              </td><td>11.0              </td><td>4.0               </td><td>R/P          </td><td>cGg/cCg </td><td>1.0                 </td><td>OK        </td><td>0.421                </td><td>11.39             </td><td>1.133255          </td></tr>\n",
       "<tr><td>1      </td><td>1.0              </td><td>955597.0          </td><td>G    </td><td>T    </td><td>0.0                 </td><td>0.42418             </td><td>0.2826              </td><td>MedGen:CN169374                            </td><td>not_specified                                   </td><td>NC_000001.10:g.955597G>T</td><td>single_nucleotide_variant</td><td>No Variant</td><td>SO:0001819|synonymous_variant</td><td>1.0               </td><td>0.0                </td><td>T       </td><td>synonymous_variant                      </td><td>LOW     </td><td>AGRN    </td><td>Transcript    </td><td>NM_001305275.1</td><td>protein_coding</td><td>1/39  </td><td>95.0              </td><td>45.0              </td><td>15.0              </td><td>P            </td><td>ccG/ccT </td><td>1.0                 </td><td>OK        </td><td>0.421                </td><td>8.15              </td><td>0.5990880000000001</td></tr>\n",
       "<tr><td>2      </td><td>1.0              </td><td>955619.0          </td><td>G    </td><td>C    </td><td>0.0                 </td><td>0.03475             </td><td>0.0088              </td><td>MedGen:C3808739,OMIM:615120|MedGen:CN169374</td><td>Myasthenic_syndrome,_congenital,_8|not_specified</td><td>NC_000001.10:g.955619G>C</td><td>single_nucleotide_variant</td><td>No Variant</td><td>SO:0001583|missense_variant  </td><td>1.0               </td><td>1.0                </td><td>C       </td><td>missense_variant                        </td><td>MODERATE</td><td>AGRN    </td><td>Transcript    </td><td>NM_001305275.1</td><td>protein_coding</td><td>1/39  </td><td>117.0             </td><td>67.0              </td><td>23.0              </td><td>V/L          </td><td>Gtc/Ctc </td><td>1.0                 </td><td>OK        </td><td>0.421                </td><td>3.2880000000000003</td><td>0.069819          </td></tr>\n",
       "<tr><td>3      </td><td>1.0              </td><td>957640.0          </td><td>C    </td><td>T    </td><td>0.0318              </td><td>0.02016             </td><td>0.0328              </td><td>MedGen:C3808739,OMIM:615120|MedGen:CN169374</td><td>Myasthenic_syndrome,_congenital,_8|not_specified</td><td>NC_000001.10:g.957640C>T</td><td>single_nucleotide_variant</td><td>No Variant</td><td>SO:0001819|synonymous_variant</td><td>1.0               </td><td>0.0                </td><td>T       </td><td>synonymous_variant                      </td><td>LOW     </td><td>AGRN    </td><td>Transcript    </td><td>NM_001305275.1</td><td>protein_coding</td><td>2/39  </td><td>311.0             </td><td>261.0             </td><td>87.0              </td><td>D            </td><td>gaC/gaT </td><td>1.0                 </td><td>OK        </td><td>0.421                </td><td>12.56             </td><td>1.356499          </td></tr>\n",
       "<tr><td>4      </td><td>1.0              </td><td>976059.0          </td><td>C    </td><td>T    </td><td>0.0                 </td><td>0.00022             </td><td>0.001               </td><td>MedGen:CN169374                            </td><td>not_specified                                   </td><td>NC_000001.10:g.976059C>T</td><td>single_nucleotide_variant</td><td>No Variant</td><td>SO:0001819|synonymous_variant</td><td>1.0               </td><td>1.0                </td><td>T       </td><td>synonymous_variant                      </td><td>LOW     </td><td>AGRN    </td><td>Transcript    </td><td>NM_001305275.1</td><td>protein_coding</td><td>4/39  </td><td>576.0             </td><td>526.0             </td><td>176.0             </td><td>L            </td><td>Ctg/Ttg </td><td>1.0                 </td><td>OK        </td><td>0.421                </td><td>17.74             </td><td>2.234711          </td></tr>\n",
       "<tr><td>5      </td><td>1.0              </td><td>976554.0          </td><td>C    </td><td>G    </td><td>0.0                 </td><td>0.01494             </td><td>0.0256              </td><td>MedGen:C3808739,OMIM:615120|MedGen:CN169374</td><td>Myasthenic_syndrome,_congenital,_8|not_specified</td><td>NC_000001.10:g.976554C>G</td><td>single_nucleotide_variant</td><td>No Variant</td><td>SO:0001819|synonymous_variant</td><td>1.0               </td><td>0.0                </td><td>G       </td><td>splice_region_variant&synonymous_variant</td><td>LOW     </td><td>AGRN    </td><td>Transcript    </td><td>NM_001305275.1</td><td>protein_coding</td><td>5/39  </td><td>779.0             </td><td>729.0             </td><td>243.0             </td><td>G            </td><td>ggC/ggG </td><td>1.0                 </td><td>OK        </td><td>0.421                </td><td>3.552             </td><td>0.09474           </td></tr>\n",
       "<tr><td>6      </td><td>1.0              </td><td>976563.0          </td><td>C    </td><td>T    </td><td>0.0                 </td><td>0.00135             </td><td>0.0098              </td><td>MedGen:C3808739,OMIM:615120|MedGen:CN169374</td><td>Myasthenic_syndrome,_congenital,_8|not_specified</td><td>NC_000001.10:g.976563C>T</td><td>single_nucleotide_variant</td><td>No Variant</td><td>SO:0001819|synonymous_variant</td><td>1.0               </td><td>0.0                </td><td>T       </td><td>synonymous_variant                      </td><td>LOW     </td><td>AGRN    </td><td>Transcript    </td><td>NM_001305275.1</td><td>protein_coding</td><td>5/39  </td><td>788.0             </td><td>738.0             </td><td>246.0             </td><td>D            </td><td>gaC/gaT </td><td>1.0                 </td><td>OK        </td><td>0.421                </td><td>9.846             </td><td>0.8627889999999999</td></tr>\n",
       "<tr><td>7      </td><td>1.0              </td><td>976598.0          </td><td>C    </td><td>T    </td><td>0.0                 </td><td>0.00626             </td><td>0.0056              </td><td>MedGen:C3808739,OMIM:615120|MedGen:CN169374</td><td>Myasthenic_syndrome,_congenital,_8|not_specified</td><td>NC_000001.10:g.976598C>T</td><td>single_nucleotide_variant</td><td>No Variant</td><td>SO:0001583|missense_variant  </td><td>1.0               </td><td>0.0                </td><td>T       </td><td>missense_variant                        </td><td>MODERATE</td><td>AGRN    </td><td>Transcript    </td><td>NM_001305275.1</td><td>protein_coding</td><td>5/39  </td><td>823.0             </td><td>773.0             </td><td>258.0             </td><td>T/I          </td><td>aCc/aTc </td><td>1.0                 </td><td>OK        </td><td>0.421                </td><td>24.0              </td><td>4.2930150000000005</td></tr>\n",
       "<tr><td>8      </td><td>1.0              </td><td>976629.0          </td><td>C    </td><td>T    </td><td>0.0                 </td><td>0.01004             </td><td>0.0411              </td><td>MedGen:C3808739,OMIM:615120|MedGen:CN169374</td><td>Myasthenic_syndrome,_congenital,_8|not_specified</td><td>NC_000001.10:g.976629C>T</td><td>single_nucleotide_variant</td><td>No Variant</td><td>SO:0001819|synonymous_variant</td><td>1.0               </td><td>0.0                </td><td>T       </td><td>synonymous_variant                      </td><td>LOW     </td><td>AGRN    </td><td>Transcript    </td><td>NM_001305275.1</td><td>protein_coding</td><td>5/39  </td><td>854.0             </td><td>804.0             </td><td>268.0             </td><td>A            </td><td>gcC/gcT </td><td>1.0                 </td><td>OK        </td><td>0.421                </td><td>13.51             </td><td>1.537558          </td></tr>\n",
       "<tr><td>9      </td><td>1.0              </td><td>976963.0          </td><td>A    </td><td>G    </td><td>0.0141              </td><td>0.00461             </td><td>0.0126              </td><td>MedGen:C3808739,OMIM:615120|MedGen:CN169374</td><td>Myasthenic_syndrome,_congenital,_8|not_specified</td><td>NC_000001.10:g.976963A>G</td><td>single_nucleotide_variant</td><td>No Variant</td><td>SO:0001583|missense_variant  </td><td>1.0               </td><td>0.0                </td><td>G       </td><td>missense_variant                        </td><td>MODERATE</td><td>AGRN    </td><td>Transcript    </td><td>NM_001305275.1</td><td>protein_coding</td><td>6/39  </td><td>1108.0            </td><td>1058.0            </td><td>353.0             </td><td>Q/R          </td><td>cAg/cGg </td><td>1.0                 </td><td>OK        </td><td>0.421                </td><td>0.001             </td><td>-2.588522         </td></tr>\n",
       "</tbody>\n",
       "</table>"
      ]
     },
     "metadata": {},
     "output_type": "display_data"
    }
   ],
   "source": [
    "df.describe()"
   ]
  },
  {
   "cell_type": "code",
   "execution_count": null,
   "metadata": {},
   "outputs": [],
   "source": [
    "#Split the dataset\n"
   ]
  },
  {
   "cell_type": "code",
   "execution_count": 4,
   "metadata": {},
   "outputs": [],
   "source": [
    "y = \"CLASS\"\n",
    "x = df.columns\n",
    "x.remove(y)"
   ]
  },
  {
   "cell_type": "code",
   "execution_count": 5,
   "metadata": {},
   "outputs": [
    {
     "name": "stdout",
     "output_type": "stream",
     "text": [
      "AutoML progress: |████████████████████████████████████████████████████████| 100%\n"
     ]
    }
   ],
   "source": [
    "aml = H2OAutoML(max_models = 10, seed = 1)\n",
    "aml.train(x = x, y = y, training_frame = df)"
   ]
  },
  {
   "cell_type": "code",
   "execution_count": 6,
   "metadata": {},
   "outputs": [],
   "source": [
    "lb = aml.leaderboard"
   ]
  },
  {
   "cell_type": "code",
   "execution_count": 7,
   "metadata": {},
   "outputs": [
    {
     "data": {
      "text/html": [
       "<table>\n",
       "<thead>\n",
       "<tr><th>model_id                                             </th><th style=\"text-align: right;\">  mean_residual_deviance</th><th style=\"text-align: right;\">    rmse</th><th style=\"text-align: right;\">     mse</th><th style=\"text-align: right;\">     mae</th><th style=\"text-align: right;\">   rmsle</th></tr>\n",
       "</thead>\n",
       "<tbody>\n",
       "<tr><td>StackedEnsemble_AllModels_0_AutoML_20181011_173857   </td><td style=\"text-align: right;\">                0.136833</td><td style=\"text-align: right;\">0.369909</td><td style=\"text-align: right;\">0.136833</td><td style=\"text-align: right;\">0.281605</td><td style=\"text-align: right;\">0.260838</td></tr>\n",
       "<tr><td>StackedEnsemble_BestOfFamily_0_AutoML_20181011_173857</td><td style=\"text-align: right;\">                0.13702 </td><td style=\"text-align: right;\">0.370162</td><td style=\"text-align: right;\">0.13702 </td><td style=\"text-align: right;\">0.282157</td><td style=\"text-align: right;\">0.261034</td></tr>\n",
       "<tr><td>XRT_0_AutoML_20181011_173857                         </td><td style=\"text-align: right;\">                0.142961</td><td style=\"text-align: right;\">0.378101</td><td style=\"text-align: right;\">0.142961</td><td style=\"text-align: right;\">0.309467</td><td style=\"text-align: right;\">0.268966</td></tr>\n",
       "<tr><td>DRF_0_AutoML_20181011_173857                         </td><td style=\"text-align: right;\">                0.14321 </td><td style=\"text-align: right;\">0.378431</td><td style=\"text-align: right;\">0.14321 </td><td style=\"text-align: right;\">0.280567</td><td style=\"text-align: right;\">0.264063</td></tr>\n",
       "<tr><td>GBM_grid_0_AutoML_20181011_173857_model_2            </td><td style=\"text-align: right;\">                0.145055</td><td style=\"text-align: right;\">0.38086 </td><td style=\"text-align: right;\">0.145055</td><td style=\"text-align: right;\">0.287479</td><td style=\"text-align: right;\">0.266803</td></tr>\n",
       "<tr><td>GBM_grid_0_AutoML_20181011_173857_model_3            </td><td style=\"text-align: right;\">                0.145532</td><td style=\"text-align: right;\">0.381487</td><td style=\"text-align: right;\">0.145532</td><td style=\"text-align: right;\">0.282581</td><td style=\"text-align: right;\">0.267094</td></tr>\n",
       "<tr><td>GBM_grid_0_AutoML_20181011_173857_model_4            </td><td style=\"text-align: right;\">                0.14572 </td><td style=\"text-align: right;\">0.381733</td><td style=\"text-align: right;\">0.14572 </td><td style=\"text-align: right;\">0.286343</td><td style=\"text-align: right;\">0.267769</td></tr>\n",
       "<tr><td>GBM_grid_0_AutoML_20181011_173857_model_1            </td><td style=\"text-align: right;\">                0.146052</td><td style=\"text-align: right;\">0.382167</td><td style=\"text-align: right;\">0.146052</td><td style=\"text-align: right;\">0.291062</td><td style=\"text-align: right;\">0.267758</td></tr>\n",
       "<tr><td>GBM_grid_0_AutoML_20181011_173857_model_0            </td><td style=\"text-align: right;\">                0.147734</td><td style=\"text-align: right;\">0.384361</td><td style=\"text-align: right;\">0.147734</td><td style=\"text-align: right;\">0.296705</td><td style=\"text-align: right;\">0.269325</td></tr>\n",
       "<tr><td>DeepLearning_0_AutoML_20181011_173857                </td><td style=\"text-align: right;\">                0.153599</td><td style=\"text-align: right;\">0.391918</td><td style=\"text-align: right;\">0.153599</td><td style=\"text-align: right;\">0.295996</td><td style=\"text-align: right;\">0.275614</td></tr>\n",
       "</tbody>\n",
       "</table>"
      ]
     },
     "metadata": {},
     "output_type": "display_data"
    },
    {
     "data": {
      "text/plain": []
     },
     "execution_count": 7,
     "metadata": {},
     "output_type": "execute_result"
    }
   ],
   "source": [
    "lb.head()"
   ]
  },
  {
   "cell_type": "code",
   "execution_count": 8,
   "metadata": {},
   "outputs": [
    {
     "data": {
      "text/html": [
       "<table>\n",
       "<thead>\n",
       "<tr><th>model_id                                             </th><th style=\"text-align: right;\">  mean_residual_deviance</th><th style=\"text-align: right;\">    rmse</th><th style=\"text-align: right;\">     mse</th><th style=\"text-align: right;\">     mae</th><th style=\"text-align: right;\">   rmsle</th></tr>\n",
       "</thead>\n",
       "<tbody>\n",
       "<tr><td>StackedEnsemble_AllModels_0_AutoML_20181011_173857   </td><td style=\"text-align: right;\">                0.136833</td><td style=\"text-align: right;\">0.369909</td><td style=\"text-align: right;\">0.136833</td><td style=\"text-align: right;\">0.281605</td><td style=\"text-align: right;\">0.260838</td></tr>\n",
       "<tr><td>StackedEnsemble_BestOfFamily_0_AutoML_20181011_173857</td><td style=\"text-align: right;\">                0.13702 </td><td style=\"text-align: right;\">0.370162</td><td style=\"text-align: right;\">0.13702 </td><td style=\"text-align: right;\">0.282157</td><td style=\"text-align: right;\">0.261034</td></tr>\n",
       "<tr><td>XRT_0_AutoML_20181011_173857                         </td><td style=\"text-align: right;\">                0.142961</td><td style=\"text-align: right;\">0.378101</td><td style=\"text-align: right;\">0.142961</td><td style=\"text-align: right;\">0.309467</td><td style=\"text-align: right;\">0.268966</td></tr>\n",
       "<tr><td>DRF_0_AutoML_20181011_173857                         </td><td style=\"text-align: right;\">                0.14321 </td><td style=\"text-align: right;\">0.378431</td><td style=\"text-align: right;\">0.14321 </td><td style=\"text-align: right;\">0.280567</td><td style=\"text-align: right;\">0.264063</td></tr>\n",
       "<tr><td>GBM_grid_0_AutoML_20181011_173857_model_2            </td><td style=\"text-align: right;\">                0.145055</td><td style=\"text-align: right;\">0.38086 </td><td style=\"text-align: right;\">0.145055</td><td style=\"text-align: right;\">0.287479</td><td style=\"text-align: right;\">0.266803</td></tr>\n",
       "<tr><td>GBM_grid_0_AutoML_20181011_173857_model_3            </td><td style=\"text-align: right;\">                0.145532</td><td style=\"text-align: right;\">0.381487</td><td style=\"text-align: right;\">0.145532</td><td style=\"text-align: right;\">0.282581</td><td style=\"text-align: right;\">0.267094</td></tr>\n",
       "<tr><td>GBM_grid_0_AutoML_20181011_173857_model_4            </td><td style=\"text-align: right;\">                0.14572 </td><td style=\"text-align: right;\">0.381733</td><td style=\"text-align: right;\">0.14572 </td><td style=\"text-align: right;\">0.286343</td><td style=\"text-align: right;\">0.267769</td></tr>\n",
       "<tr><td>GBM_grid_0_AutoML_20181011_173857_model_1            </td><td style=\"text-align: right;\">                0.146052</td><td style=\"text-align: right;\">0.382167</td><td style=\"text-align: right;\">0.146052</td><td style=\"text-align: right;\">0.291062</td><td style=\"text-align: right;\">0.267758</td></tr>\n",
       "<tr><td>GBM_grid_0_AutoML_20181011_173857_model_0            </td><td style=\"text-align: right;\">                0.147734</td><td style=\"text-align: right;\">0.384361</td><td style=\"text-align: right;\">0.147734</td><td style=\"text-align: right;\">0.296705</td><td style=\"text-align: right;\">0.269325</td></tr>\n",
       "<tr><td>DeepLearning_0_AutoML_20181011_173857                </td><td style=\"text-align: right;\">                0.153599</td><td style=\"text-align: right;\">0.391918</td><td style=\"text-align: right;\">0.153599</td><td style=\"text-align: right;\">0.295996</td><td style=\"text-align: right;\">0.275614</td></tr>\n",
       "<tr><td>GLM_grid_0_AutoML_20181011_173857_model_0            </td><td style=\"text-align: right;\">                0.161213</td><td style=\"text-align: right;\">0.401514</td><td style=\"text-align: right;\">0.161213</td><td style=\"text-align: right;\">0.329811</td><td style=\"text-align: right;\">0.283599</td></tr>\n",
       "<tr><td>GBM_grid_0_AutoML_20181011_173857_model_5            </td><td style=\"text-align: right;\">                0.178043</td><td style=\"text-align: right;\">0.421951</td><td style=\"text-align: right;\">0.178043</td><td style=\"text-align: right;\">0.362268</td><td style=\"text-align: right;\">0.295538</td></tr>\n",
       "</tbody>\n",
       "</table>"
      ]
     },
     "metadata": {},
     "output_type": "display_data"
    },
    {
     "data": {
      "text/plain": []
     },
     "execution_count": 8,
     "metadata": {},
     "output_type": "execute_result"
    }
   ],
   "source": [
    "lb.head(rows=lb.nrows)"
   ]
  },
  {
   "cell_type": "code",
   "execution_count": 9,
   "metadata": {},
   "outputs": [],
   "source": [
    "model_ids = list(aml.leaderboard['model_id'].as_data_frame().iloc[:,0])\n",
    "# Get the \"All Models\" Stacked Ensemble model\n",
    "se = h2o.get_model([mid for mid in model_ids if \"StackedEnsemble_AllModels\" in mid][0])\n",
    "# Get the Stacked Ensemble metalearner model\n",
    "metalearner = h2o.get_model(aml.leader.metalearner()['name'])"
   ]
  },
  {
   "cell_type": "code",
   "execution_count": 10,
   "metadata": {},
   "outputs": [
    {
     "data": {
      "text/plain": [
       "{'Intercept': 0.24569789674952197,\n",
       " 'XRT_0_AutoML_20181011_173857': 0.10141782609745233,\n",
       " 'DRF_0_AutoML_20181011_173857': 0.03006416852229585,\n",
       " 'GBM_grid_0_AutoML_20181011_173857_model_2': 0.005067885193003858,\n",
       " 'GBM_grid_0_AutoML_20181011_173857_model_3': 0.029798182216528562,\n",
       " 'GBM_grid_0_AutoML_20181011_173857_model_4': 0.004068051388001171,\n",
       " 'GBM_grid_0_AutoML_20181011_173857_model_1': 0.0,\n",
       " 'GBM_grid_0_AutoML_20181011_173857_model_0': 0.0,\n",
       " 'DeepLearning_0_AutoML_20181011_173857': 0.03878805688071493,\n",
       " 'GLM_grid_0_AutoML_20181011_173857_model_0': 0.012036714596229823,\n",
       " 'GBM_grid_0_AutoML_20181011_173857_model_5': 0.020936566441374378}"
      ]
     },
     "execution_count": 10,
     "metadata": {},
     "output_type": "execute_result"
    }
   ],
   "source": [
    "metalearner.coef_norm()"
   ]
  },
  {
   "cell_type": "code",
   "execution_count": 11,
   "metadata": {},
   "outputs": [
    {
     "name": "stderr",
     "output_type": "stream",
     "text": [
      "C:\\ProgramData\\Anaconda3\\lib\\site-packages\\matplotlib\\cbook\\deprecation.py:107: MatplotlibDeprecationWarning: Passing one of 'on', 'true', 'off', 'false' as a boolean is deprecated; use an actual boolean (True/False) instead.\n",
      "  warnings.warn(message, mplDeprecation, stacklevel=1)\n"
     ]
    },
    {
     "data": {
      "image/png": "[encoded data removed]",
      "text/plain": [
       "<Figure size 1008x720 with 1 Axes>"
      ]
     },
     "metadata": {},
     "output_type": "display_data"
    }
   ],
   "source": [
    "%matplotlib inline\n",
    "metalearner.std_coef_plot()"
   ]
  },
  {
   "cell_type": "code",
   "execution_count": null,
   "metadata": {},
   "outputs": [],
   "source": []
  },
  {
   "cell_type": "code",
   "execution_count": null,
   "metadata": {},
   "outputs": [],
   "source": []
  },
  {
   "cell_type": "code",
   "execution_count": null,
   "metadata": {},
   "outputs": [],
   "source": []
  },
  {
   "cell_type": "code",
   "execution_count": null,
   "metadata": {},
   "outputs": [],
   "source": []
  },
  {
   "cell_type": "code",
   "execution_count": null,
   "metadata": {},
   "outputs": [],
   "source": []
  },
  {
   "cell_type": "code",
   "execution_count": null,
   "metadata": {},
   "outputs": [],
   "source": []
  },
  {
   "cell_type": "code",
   "execution_count": null,
   "metadata": {},
   "outputs": [],
   "source": []
  }
 ],
 "metadata": {
  "kernelspec": {
   "display_name": "Python 3",
   "language": "python",
   "name": "python3"
  },
  "language_info": {
   "codemirror_mode": {
    "name": "ipython",
    "version": 3
   },
   "file_extension": ".py",
   "mimetype": "text/x-python",
   "name": "python",
   "nbconvert_exporter": "python",
   "pygments_lexer": "ipython3",
   "version": "3.6.5"
  }
 },
 "nbformat": 4,
 "nbformat_minor": 2
}
