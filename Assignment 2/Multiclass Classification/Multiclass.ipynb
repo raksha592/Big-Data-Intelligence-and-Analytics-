{
 "cells": [
  {
   "cell_type": "code",
   "execution_count": 61,
   "metadata": {},
   "outputs": [],
   "source": [
    "import h2o\n",
    "from h2o.automl import H2OAutoML\n",
    "import random, os, sys\n",
    "from datetime import datetime\n",
    "import pandas as pd\n",
    "import logging\n",
    "import csv\n",
    "import optparse\n",
    "import time\n",
    "import json\n",
    "from distutils.util import strtobool"
   ]
  },
  {
   "cell_type": "code",
   "execution_count": 62,
   "metadata": {},
   "outputs": [],
   "source": [
    "data_path=None\n",
    "all_variables=None\n",
    "test_path=None\n",
    "target=None\n",
    "nthreads=1 \n",
    "min_mem_size=6 \n",
    "run_time=333\n",
    "classification=False\n",
    "scale=False\n",
    "max_models=9    \n",
    "model_path=None\n",
    "balance_y=False \n",
    "balance_threshold=0.2\n",
    "name=None \n",
    "server_path=None  \n",
    "analysis=0"
   ]
  },
  {
   "cell_type": "code",
   "execution_count": 63,
   "metadata": {},
   "outputs": [],
   "source": [
    "def alphabet(n):\n",
    "    alpha='0123456789abcdefghijklmnopqrstuvwxyzABCDEFGHIJKLMNOPQRSTUVWXYZ'    \n",
    "    str=''\n",
    "    r=len(alpha)-1   \n",
    "    while len(str)<n:\n",
    "        i=random.randint(0,r)\n",
    "        str+=alpha[i]   \n",
    "    return str\n",
    "\n",
    "def set_meta_data(run_id,analysis,target,run_time,classification,scale,model,balance,balance_threshold,name,nthreads,min_mem_size):\n",
    "    m_data={}\n",
    "    m_data['run_id'] =run_id\n",
    "    m_data['start_time'] = time.time()\n",
    "    m_data['target']=target\n",
    "    m_data['max_models']=model\n",
    "    m_data['run_time']=run_time\n",
    "    m_data['scale']=scale\n",
    "    m_data['classification']=classification\n",
    "    m_data['scale']=False\n",
    "    m_data['balance']=balance\n",
    "    m_data['balance_threshold']=balance_threshold\n",
    "    m_data['project'] =name\n",
    "    m_data['end_time'] = time.time()\n",
    "    m_data['execution_time'] = 0.0\n",
    "    m_data['nthreads'] = nthreads\n",
    "    m_data['min_mem_size'] = min_mem_size\n",
    "    m_data['analysis'] = analysis\n",
    "    return m_data\n",
    "\n",
    "def dict_to_json(dct,n):\n",
    "    j = json.dumps(dct, indent=4)\n",
    "    f = open(n, 'w')\n",
    "    print(j, file=f)\n",
    "    f.close()\n",
    "    \n",
    "def stackedensemble(mod):\n",
    "    coef_norm=None\n",
    "    try:\n",
    "        metalearner = h2o.get_model(mod.metalearner()['name'])\n",
    "        coef_norm=metalearner.coef_norm()\n",
    "    except:\n",
    "        pass        \n",
    "    return coef_norm\n",
    "\n",
    "def stackedensemble_df(df):\n",
    "    bm_algo={ 'GBM': None,'GLM': None,'DRF': None,'XRT': None,'Dee': None}\n",
    "    for index, row in df.iterrows():\n",
    "        if len(row['model_id'])>3:\n",
    "            key=row['model_id'][0:3]\n",
    "            if key in bm_algo:\n",
    "                if bm_algo[key] is None:\n",
    "                    bm_algo[key]=row['model_id']\n",
    "    bm=list(bm_algo.values()) \n",
    "    bm=list(filter(None.__ne__, bm))             \n",
    "    return bm\n",
    "\n",
    "def se_stats(modl):\n",
    "    d={}\n",
    "    d['algo']=modl.algo\n",
    "    d['model_id']=modl.model_id   \n",
    "    d['auc']=modl.auc()   \n",
    "    d['roc']=modl.roc()\n",
    "    d['mse']=modl.mse()   \n",
    "    d['null_degrees_of_freedom']=modl.null_degrees_of_freedom()\n",
    "    d['null_deviance']=modl.null_deviance()\n",
    "    d['residual_degrees_of_freedom']=modl.residual_degrees_of_freedom()   \n",
    "    d['residual_deviance']=modl.residual_deviance()\n",
    "    d['rmse']=modl.rmse()\n",
    "    return d\n",
    "\n",
    "def get_model_by_algo(algo,models_dict):\n",
    "    mod=None\n",
    "    mod_id=None    \n",
    "    for m in list(models_dict.keys()):\n",
    "        if m[0:3]==algo:\n",
    "            mod_id=m\n",
    "            mod=h2o.get_model(m)      \n",
    "    return mod,mod_id\n",
    "\n",
    "def gbm_stats(modl):\n",
    "    d={}\n",
    "    d['algo']=modl.algo\n",
    "    d['model_id']=modl.model_id   \n",
    "    d['varimp']=modl.varimp()  \n",
    "    return d\n",
    "    \n",
    "    \n",
    "def dl_stats(modl):\n",
    "    d={}\n",
    "    d['algo']=modl.algo\n",
    "    d['model_id']=modl.model_id   \n",
    "    d['varimp']=modl.varimp()  \n",
    "    return d\n",
    "    \n",
    "    \n",
    "def drf_stats(modl):\n",
    "    d={}\n",
    "    d['algo']=modl.algo\n",
    "    d['model_id']=modl.model_id   \n",
    "    d['varimp']=modl.varimp()  \n",
    "    d['roc']=modl.roc()      \n",
    "    return d\n",
    "\n",
    "def xrt_stats(modl):\n",
    "    d={}\n",
    "    d['algo']=modl.algo\n",
    "    d['model_id']=modl.model_id   \n",
    "    d['varimp']=modl.varimp()  \n",
    "    d['roc']=modl.roc()      \n",
    "    return d\n",
    "    \n",
    "    \n",
    "def glm_stats(modl):\n",
    "    d={}\n",
    "    d['algo']=modl.algo\n",
    "    d['model_id']=modl.model_id   \n",
    "    d['coef']=modl.coef()  \n",
    "    d['coef_norm']=modl.coef_norm()      \n",
    "    return d\n",
    "\n",
    "def model_performance_stats(perf):\n",
    "    d={}\n",
    "    try:    \n",
    "        d['mse']=perf.mse()\n",
    "    except:\n",
    "        pass      \n",
    "    try:    \n",
    "        d['rmse']=perf.rmse() \n",
    "    except:\n",
    "        pass      \n",
    "    try:    \n",
    "        d['null_degrees_of_freedom']=perf.null_degrees_of_freedom()\n",
    "    except:\n",
    "        pass      \n",
    "    try:    \n",
    "        d['residual_degrees_of_freedom']=perf.residual_degrees_of_freedom()\n",
    "    except:\n",
    "        pass      \n",
    "    try:    \n",
    "        d['residual_deviance']=perf.residual_deviance() \n",
    "    except:\n",
    "        pass      \n",
    "    try:    \n",
    "        d['null_deviance']=perf.null_deviance() \n",
    "    except:\n",
    "        pass      \n",
    "    try:    \n",
    "        d['aic']=perf.aic() \n",
    "    except:\n",
    "        pass      \n",
    "    try:\n",
    "        d['logloss']=perf.logloss() \n",
    "    except:\n",
    "        pass    \n",
    "    try:\n",
    "        d['auc']=perf.auc()\n",
    "    except:\n",
    "        pass  \n",
    "    try:\n",
    "        d['gini']=perf.gini()\n",
    "    except:\n",
    "        pass    \n",
    "    return d\n",
    "\n",
    "def impute_missing_values(df, x, scal=False):\n",
    "    # determine column types\n",
    "    ints, reals, enums = [], [], []\n",
    "    for key, val in df.types.items():\n",
    "        if key in x:\n",
    "            if val == 'enum':\n",
    "                enums.append(key)\n",
    "            elif val == 'int':\n",
    "                ints.append(key)            \n",
    "            else: \n",
    "                reals.append(key)    \n",
    "    _ = df[reals].impute(method='mean')\n",
    "    _ = df[ints].impute(method='median')\n",
    "    if scal:\n",
    "        df[reals] = df[reals].scale()\n",
    "        df[ints] = df[ints].scale()    \n",
    "    return\n",
    "\n",
    "\n",
    "def get_independent_variables(df, targ):\n",
    "    C = [name for name in df.columns if name != targ]\n",
    "    # determine column types\n",
    "    ints, reals, enums = [], [], []\n",
    "    for key, val in df.types.items():\n",
    "        if key in C:\n",
    "            if val == 'enum':\n",
    "                enums.append(key)\n",
    "            elif val == 'int':\n",
    "                ints.append(key)            \n",
    "            else: \n",
    "                reals.append(key)    \n",
    "    x=ints+enums+reals\n",
    "    return x\n",
    "    \n",
    "def get_all_variables_csv(i):\n",
    "    ivd={}\n",
    "    try:\n",
    "        iv = pd.read_csv(i,header=None)\n",
    "    except:\n",
    "        sys.exit(1)    \n",
    "    col=iv.values.tolist()[0]\n",
    "    dt=iv.values.tolist()[1]\n",
    "    i=0\n",
    "    for c in col:\n",
    "        ivd[c.strip()]=dt[i].strip()\n",
    "        i+=1        \n",
    "    return ivd\n",
    "    \n",
    "    \n",
    "\n",
    "def check_all_variables(df,dct,y=None):     \n",
    "    targ=list(dct.keys())     \n",
    "    for key, val in df.types.items():\n",
    "        if key in targ:\n",
    "            if dct[key] not in ['real','int','enum']:                      \n",
    "                targ.remove(key)  \n",
    "    for key, val in df.types.items():\n",
    "        if key in targ:            \n",
    "            if dct[key] != val:\n",
    "                print('convert ',key,' ',dct[key],' ',val)\n",
    "            if dct[key]=='enum':\n",
    "                try:\n",
    "                    df[key] = df[key].asfactor() \n",
    "                except:\n",
    "                    targ.remove(key)                 \n",
    "            if dct[key]=='int': \n",
    "                try:                \n",
    "                    df[key] = df[key].asnumeric() \n",
    "                except:\n",
    "                    targ.remove(key)                  \n",
    "            if dct[key]=='real':\n",
    "                try:                \n",
    "                    df[key] = df[key].asnumeric()  \n",
    "                except:\n",
    "                    targ.remove(key)                  \n",
    "    if y is None:\n",
    "        y=df.columns[-1] \n",
    "    if y in targ:\n",
    "        targ.remove(y)\n",
    "    else:\n",
    "        y=targ.pop()            \n",
    "    return targ\n",
    "\n",
    "def check_X(x,df):\n",
    "    for name in x:\n",
    "        if name not in df.columns:\n",
    "            x.remove(name)  \n",
    "    return x \n",
    "\n",
    "def get_stacked_ensemble(lst):\n",
    "    se=None\n",
    "    for model in model_set:\n",
    "        if 'BestOfFamily' in model:\n",
    "            se=model\n",
    "        if se is None:     \n",
    "            for model in model_set:\n",
    "                if 'AllModels'in model:\n",
    "                    se=model           \n",
    "    return se \n",
    "\n",
    "def get_variables_types(df):\n",
    "    d={}\n",
    "    for key, val in df.types.items():\n",
    "        d[key]=val           \n",
    "    return d "
   ]
  },
  {
   "cell_type": "code",
   "execution_count": 64,
   "metadata": {},
   "outputs": [],
   "source": [
    "data_path= 'car.csv'"
   ]
  },
  {
   "cell_type": "code",
   "execution_count": 65,
   "metadata": {},
   "outputs": [],
   "source": [
    "df=pd.read_csv(data_path)"
   ]
  },
  {
   "cell_type": "code",
   "execution_count": 66,
   "metadata": {},
   "outputs": [],
   "source": [
    "df.columns=['buying','maint','doors','persons','lug_boot','safety','class']"
   ]
  },
  {
   "cell_type": "code",
   "execution_count": 67,
   "metadata": {},
   "outputs": [],
   "source": [
    "df.to_csv(\"car_clean.csv\")"
   ]
  },
  {
   "cell_type": "code",
   "execution_count": 68,
   "metadata": {},
   "outputs": [],
   "source": [
    "data_path=\"car_clean.csv\""
   ]
  },
  {
   "cell_type": "code",
   "execution_count": 69,
   "metadata": {},
   "outputs": [],
   "source": [
    "data_path = os.path.join(os.path.abspath(os.curdir),data_path)"
   ]
  },
  {
   "cell_type": "code",
   "execution_count": 70,
   "metadata": {},
   "outputs": [],
   "source": [
    "all_variables=None"
   ]
  },
  {
   "cell_type": "code",
   "execution_count": 71,
   "metadata": {},
   "outputs": [
    {
     "name": "stdout",
     "output_type": "stream",
     "text": [
      "slht1Q1Um\n"
     ]
    }
   ],
   "source": [
    "run_id=alphabet(9)\n",
    "# run_id to std out\n",
    "print (run_id)"
   ]
  },
  {
   "cell_type": "code",
   "execution_count": 72,
   "metadata": {},
   "outputs": [],
   "source": [
    "server_path=os.path.abspath(os.curdir)\n",
    "os.chdir(server_path) \n",
    "run_dir = os.path.join(server_path,run_id)\n",
    "os.mkdir(run_dir)\n",
    "os.chdir(run_dir)"
   ]
  },
  {
   "cell_type": "code",
   "execution_count": 73,
   "metadata": {},
   "outputs": [
    {
     "name": "stdout",
     "output_type": "stream",
     "text": [
      "Checking whether there is an H2O instance running at http://localhost:13232..... not found.\n",
      "Attempting to start a local H2O server...\n",
      "; Java HotSpot(TM) 64-Bit Server VM (build 25.141-b15, mixed mode)\n",
      "  Starting server from C:\\ProgramData\\Anaconda3\\lib\\site-packages\\h2o\\backend\\bin\\h2o.jar\n",
      "  Ice root: C:\\Users\\raksh\\AppData\\Local\\Temp\\tmpbc8jyfky\n",
      "  JVM stdout: C:\\Users\\raksh\\AppData\\Local\\Temp\\tmpbc8jyfky\\h2o_raksha_started_from_python.out\n",
      "  JVM stderr: C:\\Users\\raksh\\AppData\\Local\\Temp\\tmpbc8jyfky\\h2o_raksha_started_from_python.err\n",
      "  Server is running at http://127.0.0.1:13232\n",
      "Connecting to H2O server at http://127.0.0.1:13232... successful.\n"
     ]
    },
    {
     "data": {
      "text/html": [
       "<div style=\"overflow:auto\"><table style=\"width:50%\"><tr><td>H2O cluster uptime:</td>\n",
       "<td>03 secs</td></tr>\n",
       "<tr><td>H2O cluster timezone:</td>\n",
       "<td>America/New_York</td></tr>\n",
       "<tr><td>H2O data parsing timezone:</td>\n",
       "<td>UTC</td></tr>\n",
       "<tr><td>H2O cluster version:</td>\n",
       "<td>3.20.0.8</td></tr>\n",
       "<tr><td>H2O cluster version age:</td>\n",
       "<td>24 days </td></tr>\n",
       "<tr><td>H2O cluster name:</td>\n",
       "<td>H2O_from_python_raksha_xdw4jk</td></tr>\n",
       "<tr><td>H2O cluster total nodes:</td>\n",
       "<td>1</td></tr>\n",
       "<tr><td>H2O cluster free memory:</td>\n",
       "<td>5.750 Gb</td></tr>\n",
       "<tr><td>H2O cluster total cores:</td>\n",
       "<td>4</td></tr>\n",
       "<tr><td>H2O cluster allowed cores:</td>\n",
       "<td>4</td></tr>\n",
       "<tr><td>H2O cluster status:</td>\n",
       "<td>accepting new members, healthy</td></tr>\n",
       "<tr><td>H2O connection url:</td>\n",
       "<td>http://127.0.0.1:13232</td></tr>\n",
       "<tr><td>H2O connection proxy:</td>\n",
       "<td>None</td></tr>\n",
       "<tr><td>H2O internal security:</td>\n",
       "<td>False</td></tr>\n",
       "<tr><td>H2O API Extensions:</td>\n",
       "<td>Algos, AutoML, Core V3, Core V4</td></tr>\n",
       "<tr><td>Python version:</td>\n",
       "<td>3.6.5 final</td></tr></table></div>"
      ],
      "text/plain": [
       "--------------------------  -------------------------------\n",
       "H2O cluster uptime:         03 secs\n",
       "H2O cluster timezone:       America/New_York\n",
       "H2O data parsing timezone:  UTC\n",
       "H2O cluster version:        3.20.0.8\n",
       "H2O cluster version age:    24 days\n",
       "H2O cluster name:           H2O_from_python_raksha_xdw4jk\n",
       "H2O cluster total nodes:    1\n",
       "H2O cluster free memory:    5.750 Gb\n",
       "H2O cluster total cores:    4\n",
       "H2O cluster allowed cores:  4\n",
       "H2O cluster status:         accepting new members, healthy\n",
       "H2O connection url:         http://127.0.0.1:13232\n",
       "H2O connection proxy:\n",
       "H2O internal security:      False\n",
       "H2O API Extensions:         Algos, AutoML, Core V3, Core V4\n",
       "Python version:             3.6.5 final\n",
       "--------------------------  -------------------------------"
      ]
     },
     "metadata": {},
     "output_type": "display_data"
    }
   ],
   "source": [
    "port_no=random.randint(5555,55555)\n",
    "h2o.init(strict_version_check=False,min_mem_size_GB=6,port=port_no)"
   ]
  },
  {
   "cell_type": "code",
   "execution_count": 74,
   "metadata": {},
   "outputs": [
    {
     "name": "stdout",
     "output_type": "stream",
     "text": [
      "{'run_id': 'slht1Q1Um', 'start_time': 1539642097.7804172, 'target': None, 'max_models': 9, 'run_time': 333, 'scale': False, 'classification': False, 'balance': False, 'balance_threshold': 0.2, 'project': None, 'end_time': 1539642097.7804172, 'execution_time': 0.0, 'nthreads': 1, 'min_mem_size': 6, 'analysis': 0}\n"
     ]
    }
   ],
   "source": [
    "meta_data = set_meta_data(run_id,analysis,target,run_time,classification,scale,max_models,balance_y,balance_threshold,name,nthreads,min_mem_size)\n",
    "print(meta_data)"
   ]
  },
  {
   "cell_type": "code",
   "execution_count": 75,
   "metadata": {},
   "outputs": [
    {
     "name": "stdout",
     "output_type": "stream",
     "text": [
      "Parse progress: |█████████████████████████████████████████████████████████| 100%\n"
     ]
    }
   ],
   "source": [
    "df = h2o.import_file(data_path)"
   ]
  },
  {
   "cell_type": "code",
   "execution_count": 76,
   "metadata": {},
   "outputs": [
    {
     "name": "stdout",
     "output_type": "stream",
     "text": [
      "Rows:1727\n",
      "Cols:8\n",
      "\n",
      "\n"
     ]
    },
    {
     "data": {
      "text/html": [
       "<table>\n",
       "<thead>\n",
       "<tr><th>       </th><th>C1               </th><th>buying  </th><th>maint  </th><th>doors             </th><th>persons           </th><th>lug_boot  </th><th>safety  </th><th>class  </th></tr>\n",
       "</thead>\n",
       "<tbody>\n",
       "<tr><td>type   </td><td>int              </td><td>enum    </td><td>enum   </td><td>int               </td><td>int               </td><td>enum      </td><td>enum    </td><td>enum   </td></tr>\n",
       "<tr><td>mins   </td><td>0.0              </td><td>        </td><td>       </td><td>2.0               </td><td>2.0               </td><td>          </td><td>        </td><td>       </td></tr>\n",
       "<tr><td>mean   </td><td>863.0            </td><td>        </td><td>       </td><td>3.0007722007722   </td><td>3.0008688097306666</td><td>          </td><td>        </td><td>       </td></tr>\n",
       "<tr><td>maxs   </td><td>1726.0           </td><td>        </td><td>       </td><td>4.0               </td><td>4.0               </td><td>          </td><td>        </td><td>       </td></tr>\n",
       "<tr><td>sigma  </td><td>498.6862741243236</td><td>        </td><td>       </td><td>0.8166539469613198</td><td>1.0004343105525066</td><td>          </td><td>        </td><td>       </td></tr>\n",
       "<tr><td>zeros  </td><td>1                </td><td>        </td><td>       </td><td>0                 </td><td>0                 </td><td>          </td><td>        </td><td>       </td></tr>\n",
       "<tr><td>missing</td><td>0                </td><td>0       </td><td>0      </td><td>432               </td><td>576               </td><td>0         </td><td>0       </td><td>0      </td></tr>\n",
       "<tr><td>0      </td><td>0.0              </td><td>vhigh   </td><td>vhigh  </td><td>2.0               </td><td>2.0               </td><td>small     </td><td>med     </td><td>unacc  </td></tr>\n",
       "<tr><td>1      </td><td>1.0              </td><td>vhigh   </td><td>vhigh  </td><td>2.0               </td><td>2.0               </td><td>small     </td><td>high    </td><td>unacc  </td></tr>\n",
       "<tr><td>2      </td><td>2.0              </td><td>vhigh   </td><td>vhigh  </td><td>2.0               </td><td>2.0               </td><td>med       </td><td>low     </td><td>unacc  </td></tr>\n",
       "<tr><td>3      </td><td>3.0              </td><td>vhigh   </td><td>vhigh  </td><td>2.0               </td><td>2.0               </td><td>med       </td><td>med     </td><td>unacc  </td></tr>\n",
       "<tr><td>4      </td><td>4.0              </td><td>vhigh   </td><td>vhigh  </td><td>2.0               </td><td>2.0               </td><td>med       </td><td>high    </td><td>unacc  </td></tr>\n",
       "<tr><td>5      </td><td>5.0              </td><td>vhigh   </td><td>vhigh  </td><td>2.0               </td><td>2.0               </td><td>big       </td><td>low     </td><td>unacc  </td></tr>\n",
       "<tr><td>6      </td><td>6.0              </td><td>vhigh   </td><td>vhigh  </td><td>2.0               </td><td>2.0               </td><td>big       </td><td>med     </td><td>unacc  </td></tr>\n",
       "<tr><td>7      </td><td>7.0              </td><td>vhigh   </td><td>vhigh  </td><td>2.0               </td><td>2.0               </td><td>big       </td><td>high    </td><td>unacc  </td></tr>\n",
       "<tr><td>8      </td><td>8.0              </td><td>vhigh   </td><td>vhigh  </td><td>2.0               </td><td>4.0               </td><td>small     </td><td>low     </td><td>unacc  </td></tr>\n",
       "<tr><td>9      </td><td>9.0              </td><td>vhigh   </td><td>vhigh  </td><td>2.0               </td><td>4.0               </td><td>small     </td><td>med     </td><td>unacc  </td></tr>\n",
       "</tbody>\n",
       "</table>"
      ]
     },
     "metadata": {},
     "output_type": "display_data"
    }
   ],
   "source": [
    "df.describe()"
   ]
  },
  {
   "cell_type": "code",
   "execution_count": 77,
   "metadata": {},
   "outputs": [],
   "source": [
    "y='class'"
   ]
  },
  {
   "cell_type": "code",
   "execution_count": 78,
   "metadata": {},
   "outputs": [
    {
     "name": "stdout",
     "output_type": "stream",
     "text": [
      "None\n"
     ]
    }
   ],
   "source": [
    "print(all_variables)"
   ]
  },
  {
   "cell_type": "code",
   "execution_count": 79,
   "metadata": {},
   "outputs": [],
   "source": [
    "X = []  \n",
    "if all_variables is None:\n",
    "    X=get_independent_variables(df, y)  \n",
    "else: \n",
    "    ivd=get_all_variables_csv(all_variables)    \n",
    "    X=check_all_variables(df, ivd)\n",
    "\n",
    "\n",
    "X=check_X(X,df)\n",
    "\n",
    "\n",
    "# Add independent variables\n",
    "\n",
    "meta_data['X']=X  \n",
    "\n",
    "\n",
    "# impute missing values\n",
    "\n",
    "_=impute_missing_values(df,X, scale)"
   ]
  },
  {
   "cell_type": "code",
   "execution_count": 80,
   "metadata": {},
   "outputs": [],
   "source": [
    "df[y] = df[y].asfactor()"
   ]
  },
  {
   "cell_type": "code",
   "execution_count": 81,
   "metadata": {},
   "outputs": [],
   "source": [
    "def check_y(y,df):\n",
    "    ok=False\n",
    "    C = [name for name in df.columns if name == y]\n",
    "    for key, val in df.types.items():\n",
    "        if key in C:\n",
    "            if val in ['real','int','enum']:        \n",
    "                ok=True         \n",
    "    return ok, val"
   ]
  },
  {
   "cell_type": "code",
   "execution_count": 82,
   "metadata": {},
   "outputs": [],
   "source": [
    "ok,val=check_y(y,df)"
   ]
  },
  {
   "cell_type": "code",
   "execution_count": 83,
   "metadata": {},
   "outputs": [
    {
     "data": {
      "text/plain": [
       "True"
      ]
     },
     "execution_count": 83,
     "metadata": {},
     "output_type": "execute_result"
    }
   ],
   "source": [
    "ok"
   ]
  },
  {
   "cell_type": "code",
   "execution_count": 84,
   "metadata": {},
   "outputs": [
    {
     "data": {
      "text/plain": [
       "'enum'"
      ]
     },
     "execution_count": 84,
     "metadata": {},
     "output_type": "execute_result"
    }
   ],
   "source": [
    "val"
   ]
  },
  {
   "cell_type": "code",
   "execution_count": 85,
   "metadata": {},
   "outputs": [
    {
     "name": "stdout",
     "output_type": "stream",
     "text": [
      "[['acc', 'good', 'unacc', 'vgood']]\n"
     ]
    }
   ],
   "source": [
    "if val=='enum':\n",
    "    print(df[y].levels())"
   ]
  },
  {
   "cell_type": "code",
   "execution_count": 86,
   "metadata": {},
   "outputs": [
    {
     "data": {
      "text/plain": [
       "{'C1': 'int',\n",
       " 'buying': 'enum',\n",
       " 'maint': 'enum',\n",
       " 'doors': 'int',\n",
       " 'persons': 'int',\n",
       " 'lug_boot': 'enum',\n",
       " 'safety': 'enum',\n",
       " 'class': 'enum'}"
      ]
     },
     "execution_count": 86,
     "metadata": {},
     "output_type": "execute_result"
    }
   ],
   "source": [
    "allV=get_variables_types(df)\n",
    "allV"
   ]
  },
  {
   "cell_type": "code",
   "execution_count": 87,
   "metadata": {},
   "outputs": [],
   "source": [
    "meta_data['variables']=allV"
   ]
  },
  {
   "cell_type": "code",
   "execution_count": 88,
   "metadata": {},
   "outputs": [],
   "source": [
    "train, test = df.split_frame([0.9])"
   ]
  },
  {
   "cell_type": "code",
   "execution_count": 89,
   "metadata": {},
   "outputs": [
    {
     "name": "stdout",
     "output_type": "stream",
     "text": [
      "AutoML progress: |████████████████████████████████████████████████████████| 100%\n"
     ]
    }
   ],
   "source": [
    "aml = H2OAutoML(max_runtime_secs=run_time,project_name = name)\n",
    "model_start_time = time.time()\n",
    "aml.train(x=X,y=y,training_frame=train)"
   ]
  },
  {
   "cell_type": "code",
   "execution_count": 90,
   "metadata": {},
   "outputs": [],
   "source": [
    "meta_data['model_execution_time'] = time.time() - model_start_time"
   ]
  },
  {
   "cell_type": "code",
   "execution_count": 91,
   "metadata": {},
   "outputs": [],
   "source": [
    "aml_leaderboard_df=aml.leaderboard.as_data_frame()"
   ]
  },
  {
   "cell_type": "code",
   "execution_count": 92,
   "metadata": {},
   "outputs": [
    {
     "data": {
      "text/html": [
       "<div>\n",
       "<style scoped>\n",
       "    .dataframe tbody tr th:only-of-type {\n",
       "        vertical-align: middle;\n",
       "    }\n",
       "\n",
       "    .dataframe tbody tr th {\n",
       "        vertical-align: top;\n",
       "    }\n",
       "\n",
       "    .dataframe thead th {\n",
       "        text-align: right;\n",
       "    }\n",
       "</style>\n",
       "<table border=\"1\" class=\"dataframe\">\n",
       "  <thead>\n",
       "    <tr style=\"text-align: right;\">\n",
       "      <th></th>\n",
       "      <th>model_id</th>\n",
       "      <th>mean_per_class_error</th>\n",
       "      <th>logloss</th>\n",
       "      <th>rmse</th>\n",
       "      <th>mse</th>\n",
       "    </tr>\n",
       "  </thead>\n",
       "  <tbody>\n",
       "    <tr>\n",
       "      <th>0</th>\n",
       "      <td>StackedEnsemble_BestOfFamily_0_AutoML_20181015_182139</td>\n",
       "      <td>0.084032</td>\n",
       "      <td>0.098849</td>\n",
       "      <td>0.165929</td>\n",
       "      <td>0.027532</td>\n",
       "    </tr>\n",
       "    <tr>\n",
       "      <th>1</th>\n",
       "      <td>GBM_grid_0_AutoML_20181015_182139_model_4</td>\n",
       "      <td>0.090978</td>\n",
       "      <td>0.097603</td>\n",
       "      <td>0.169973</td>\n",
       "      <td>0.028891</td>\n",
       "    </tr>\n",
       "    <tr>\n",
       "      <th>2</th>\n",
       "      <td>GBM_grid_0_AutoML_20181015_182139_model_27</td>\n",
       "      <td>0.091427</td>\n",
       "      <td>0.091810</td>\n",
       "      <td>0.164923</td>\n",
       "      <td>0.027200</td>\n",
       "    </tr>\n",
       "    <tr>\n",
       "      <th>3</th>\n",
       "      <td>GBM_grid_0_AutoML_20181015_182139_model_39</td>\n",
       "      <td>0.095601</td>\n",
       "      <td>0.105589</td>\n",
       "      <td>0.180946</td>\n",
       "      <td>0.032741</td>\n",
       "    </tr>\n",
       "    <tr>\n",
       "      <th>4</th>\n",
       "      <td>GBM_grid_0_AutoML_20181015_182139_model_49</td>\n",
       "      <td>0.097187</td>\n",
       "      <td>0.079849</td>\n",
       "      <td>0.153783</td>\n",
       "      <td>0.023649</td>\n",
       "    </tr>\n",
       "    <tr>\n",
       "      <th>5</th>\n",
       "      <td>GBM_grid_0_AutoML_20181015_182139_model_15</td>\n",
       "      <td>0.097687</td>\n",
       "      <td>0.098312</td>\n",
       "      <td>0.169897</td>\n",
       "      <td>0.028865</td>\n",
       "    </tr>\n",
       "    <tr>\n",
       "      <th>6</th>\n",
       "      <td>GBM_grid_0_AutoML_20181015_182139_model_33</td>\n",
       "      <td>0.099742</td>\n",
       "      <td>0.116841</td>\n",
       "      <td>0.188604</td>\n",
       "      <td>0.035571</td>\n",
       "    </tr>\n",
       "    <tr>\n",
       "      <th>7</th>\n",
       "      <td>GBM_grid_0_AutoML_20181015_182139_model_44</td>\n",
       "      <td>0.103988</td>\n",
       "      <td>0.121647</td>\n",
       "      <td>0.148554</td>\n",
       "      <td>0.022068</td>\n",
       "    </tr>\n",
       "    <tr>\n",
       "      <th>8</th>\n",
       "      <td>StackedEnsemble_AllModels_0_AutoML_20181015_182139</td>\n",
       "      <td>0.105725</td>\n",
       "      <td>0.083789</td>\n",
       "      <td>0.150147</td>\n",
       "      <td>0.022544</td>\n",
       "    </tr>\n",
       "    <tr>\n",
       "      <th>9</th>\n",
       "      <td>GBM_grid_0_AutoML_20181015_182139_model_6</td>\n",
       "      <td>0.108621</td>\n",
       "      <td>0.091884</td>\n",
       "      <td>0.162994</td>\n",
       "      <td>0.026567</td>\n",
       "    </tr>\n",
       "    <tr>\n",
       "      <th>10</th>\n",
       "      <td>GBM_grid_0_AutoML_20181015_182139_model_43</td>\n",
       "      <td>0.109992</td>\n",
       "      <td>0.090654</td>\n",
       "      <td>0.165567</td>\n",
       "      <td>0.027412</td>\n",
       "    </tr>\n",
       "    <tr>\n",
       "      <th>11</th>\n",
       "      <td>GBM_grid_0_AutoML_20181015_182139_model_53</td>\n",
       "      <td>0.111953</td>\n",
       "      <td>0.099164</td>\n",
       "      <td>0.178140</td>\n",
       "      <td>0.031734</td>\n",
       "    </tr>\n",
       "    <tr>\n",
       "      <th>12</th>\n",
       "      <td>GBM_grid_0_AutoML_20181015_182139_model_37</td>\n",
       "      <td>0.113983</td>\n",
       "      <td>0.127111</td>\n",
       "      <td>0.195389</td>\n",
       "      <td>0.038177</td>\n",
       "    </tr>\n",
       "    <tr>\n",
       "      <th>13</th>\n",
       "      <td>GBM_grid_0_AutoML_20181015_182139_model_3</td>\n",
       "      <td>0.114882</td>\n",
       "      <td>0.094876</td>\n",
       "      <td>0.166335</td>\n",
       "      <td>0.027667</td>\n",
       "    </tr>\n",
       "    <tr>\n",
       "      <th>14</th>\n",
       "      <td>GBM_grid_0_AutoML_20181015_182139_model_9</td>\n",
       "      <td>0.116063</td>\n",
       "      <td>0.169460</td>\n",
       "      <td>0.227923</td>\n",
       "      <td>0.051949</td>\n",
       "    </tr>\n",
       "    <tr>\n",
       "      <th>15</th>\n",
       "      <td>GBM_grid_0_AutoML_20181015_182139_model_2</td>\n",
       "      <td>0.118730</td>\n",
       "      <td>0.088072</td>\n",
       "      <td>0.163871</td>\n",
       "      <td>0.026854</td>\n",
       "    </tr>\n",
       "    <tr>\n",
       "      <th>16</th>\n",
       "      <td>GBM_grid_0_AutoML_20181015_182139_model_36</td>\n",
       "      <td>0.119816</td>\n",
       "      <td>0.099983</td>\n",
       "      <td>0.174805</td>\n",
       "      <td>0.030557</td>\n",
       "    </tr>\n",
       "    <tr>\n",
       "      <th>17</th>\n",
       "      <td>GBM_grid_0_AutoML_20181015_182139_model_23</td>\n",
       "      <td>0.121710</td>\n",
       "      <td>0.131841</td>\n",
       "      <td>0.182648</td>\n",
       "      <td>0.033360</td>\n",
       "    </tr>\n",
       "    <tr>\n",
       "      <th>18</th>\n",
       "      <td>GBM_grid_0_AutoML_20181015_182139_model_24</td>\n",
       "      <td>0.122368</td>\n",
       "      <td>0.123528</td>\n",
       "      <td>0.166819</td>\n",
       "      <td>0.027828</td>\n",
       "    </tr>\n",
       "    <tr>\n",
       "      <th>19</th>\n",
       "      <td>GBM_grid_0_AutoML_20181015_182139_model_12</td>\n",
       "      <td>0.123830</td>\n",
       "      <td>0.093110</td>\n",
       "      <td>0.168665</td>\n",
       "      <td>0.028448</td>\n",
       "    </tr>\n",
       "    <tr>\n",
       "      <th>20</th>\n",
       "      <td>GBM_grid_0_AutoML_20181015_182139_model_34</td>\n",
       "      <td>0.131142</td>\n",
       "      <td>0.156695</td>\n",
       "      <td>0.186341</td>\n",
       "      <td>0.034723</td>\n",
       "    </tr>\n",
       "    <tr>\n",
       "      <th>21</th>\n",
       "      <td>GBM_grid_0_AutoML_20181015_182139_model_59</td>\n",
       "      <td>0.131918</td>\n",
       "      <td>0.122409</td>\n",
       "      <td>0.187785</td>\n",
       "      <td>0.035263</td>\n",
       "    </tr>\n",
       "    <tr>\n",
       "      <th>22</th>\n",
       "      <td>GBM_grid_0_AutoML_20181015_182139_model_56</td>\n",
       "      <td>0.133305</td>\n",
       "      <td>0.120860</td>\n",
       "      <td>0.191759</td>\n",
       "      <td>0.036772</td>\n",
       "    </tr>\n",
       "    <tr>\n",
       "      <th>23</th>\n",
       "      <td>GBM_grid_0_AutoML_20181015_182139_model_61</td>\n",
       "      <td>0.135557</td>\n",
       "      <td>0.123801</td>\n",
       "      <td>0.177488</td>\n",
       "      <td>0.031502</td>\n",
       "    </tr>\n",
       "    <tr>\n",
       "      <th>24</th>\n",
       "      <td>GBM_grid_0_AutoML_20181015_182139_model_1</td>\n",
       "      <td>0.136317</td>\n",
       "      <td>0.088315</td>\n",
       "      <td>0.162840</td>\n",
       "      <td>0.026517</td>\n",
       "    </tr>\n",
       "    <tr>\n",
       "      <th>25</th>\n",
       "      <td>GBM_grid_0_AutoML_20181015_182139_model_30</td>\n",
       "      <td>0.136827</td>\n",
       "      <td>0.103164</td>\n",
       "      <td>0.180878</td>\n",
       "      <td>0.032717</td>\n",
       "    </tr>\n",
       "    <tr>\n",
       "      <th>26</th>\n",
       "      <td>GBM_grid_0_AutoML_20181015_182139_model_51</td>\n",
       "      <td>0.140189</td>\n",
       "      <td>0.116708</td>\n",
       "      <td>0.183084</td>\n",
       "      <td>0.033520</td>\n",
       "    </tr>\n",
       "    <tr>\n",
       "      <th>27</th>\n",
       "      <td>GBM_grid_0_AutoML_20181015_182139_model_29</td>\n",
       "      <td>0.146602</td>\n",
       "      <td>0.150455</td>\n",
       "      <td>0.210998</td>\n",
       "      <td>0.044520</td>\n",
       "    </tr>\n",
       "    <tr>\n",
       "      <th>28</th>\n",
       "      <td>GBM_grid_0_AutoML_20181015_182139_model_10</td>\n",
       "      <td>0.149484</td>\n",
       "      <td>0.140538</td>\n",
       "      <td>0.210996</td>\n",
       "      <td>0.044519</td>\n",
       "    </tr>\n",
       "    <tr>\n",
       "      <th>29</th>\n",
       "      <td>GBM_grid_0_AutoML_20181015_182139_model_57</td>\n",
       "      <td>0.151651</td>\n",
       "      <td>0.132871</td>\n",
       "      <td>0.191738</td>\n",
       "      <td>0.036763</td>\n",
       "    </tr>\n",
       "    <tr>\n",
       "      <th>...</th>\n",
       "      <td>...</td>\n",
       "      <td>...</td>\n",
       "      <td>...</td>\n",
       "      <td>...</td>\n",
       "      <td>...</td>\n",
       "    </tr>\n",
       "    <tr>\n",
       "      <th>39</th>\n",
       "      <td>GBM_grid_0_AutoML_20181015_182139_model_7</td>\n",
       "      <td>0.178740</td>\n",
       "      <td>0.168234</td>\n",
       "      <td>0.224476</td>\n",
       "      <td>0.050389</td>\n",
       "    </tr>\n",
       "    <tr>\n",
       "      <th>40</th>\n",
       "      <td>GBM_grid_0_AutoML_20181015_182139_model_41</td>\n",
       "      <td>0.181652</td>\n",
       "      <td>0.235062</td>\n",
       "      <td>0.269648</td>\n",
       "      <td>0.072710</td>\n",
       "    </tr>\n",
       "    <tr>\n",
       "      <th>41</th>\n",
       "      <td>GBM_grid_0_AutoML_20181015_182139_model_21</td>\n",
       "      <td>0.181710</td>\n",
       "      <td>0.151976</td>\n",
       "      <td>0.218999</td>\n",
       "      <td>0.047961</td>\n",
       "    </tr>\n",
       "    <tr>\n",
       "      <th>42</th>\n",
       "      <td>GBM_grid_0_AutoML_20181015_182139_model_50</td>\n",
       "      <td>0.190742</td>\n",
       "      <td>0.231181</td>\n",
       "      <td>0.261153</td>\n",
       "      <td>0.068201</td>\n",
       "    </tr>\n",
       "    <tr>\n",
       "      <th>43</th>\n",
       "      <td>GBM_grid_0_AutoML_20181015_182139_model_8</td>\n",
       "      <td>0.198687</td>\n",
       "      <td>0.193839</td>\n",
       "      <td>0.238897</td>\n",
       "      <td>0.057072</td>\n",
       "    </tr>\n",
       "    <tr>\n",
       "      <th>44</th>\n",
       "      <td>GBM_grid_0_AutoML_20181015_182139_model_18</td>\n",
       "      <td>0.202645</td>\n",
       "      <td>0.320369</td>\n",
       "      <td>0.232896</td>\n",
       "      <td>0.054241</td>\n",
       "    </tr>\n",
       "    <tr>\n",
       "      <th>45</th>\n",
       "      <td>GBM_grid_0_AutoML_20181015_182139_model_26</td>\n",
       "      <td>0.205574</td>\n",
       "      <td>0.230245</td>\n",
       "      <td>0.244308</td>\n",
       "      <td>0.059687</td>\n",
       "    </tr>\n",
       "    <tr>\n",
       "      <th>46</th>\n",
       "      <td>GBM_grid_0_AutoML_20181015_182139_model_46</td>\n",
       "      <td>0.211763</td>\n",
       "      <td>0.199504</td>\n",
       "      <td>0.250671</td>\n",
       "      <td>0.062836</td>\n",
       "    </tr>\n",
       "    <tr>\n",
       "      <th>47</th>\n",
       "      <td>GLM_grid_0_AutoML_20181015_182139_model_0</td>\n",
       "      <td>0.239045</td>\n",
       "      <td>0.292093</td>\n",
       "      <td>0.313387</td>\n",
       "      <td>0.098212</td>\n",
       "    </tr>\n",
       "    <tr>\n",
       "      <th>48</th>\n",
       "      <td>XRT_0_AutoML_20181015_182139</td>\n",
       "      <td>0.247325</td>\n",
       "      <td>0.236093</td>\n",
       "      <td>0.248804</td>\n",
       "      <td>0.061904</td>\n",
       "    </tr>\n",
       "    <tr>\n",
       "      <th>49</th>\n",
       "      <td>GBM_grid_0_AutoML_20181015_182139_model_20</td>\n",
       "      <td>0.255766</td>\n",
       "      <td>4.410580</td>\n",
       "      <td>0.391998</td>\n",
       "      <td>0.153662</td>\n",
       "    </tr>\n",
       "    <tr>\n",
       "      <th>50</th>\n",
       "      <td>GBM_grid_0_AutoML_20181015_182139_model_17</td>\n",
       "      <td>0.327094</td>\n",
       "      <td>0.365441</td>\n",
       "      <td>0.340020</td>\n",
       "      <td>0.115614</td>\n",
       "    </tr>\n",
       "    <tr>\n",
       "      <th>51</th>\n",
       "      <td>GBM_grid_0_AutoML_20181015_182139_model_31</td>\n",
       "      <td>0.328046</td>\n",
       "      <td>0.322829</td>\n",
       "      <td>0.323421</td>\n",
       "      <td>0.104601</td>\n",
       "    </tr>\n",
       "    <tr>\n",
       "      <th>52</th>\n",
       "      <td>DeepLearning_0_AutoML_20181015_182139</td>\n",
       "      <td>0.346026</td>\n",
       "      <td>0.274235</td>\n",
       "      <td>0.299417</td>\n",
       "      <td>0.089651</td>\n",
       "    </tr>\n",
       "    <tr>\n",
       "      <th>53</th>\n",
       "      <td>GBM_grid_0_AutoML_20181015_182139_model_55</td>\n",
       "      <td>0.361848</td>\n",
       "      <td>0.359374</td>\n",
       "      <td>0.342261</td>\n",
       "      <td>0.117143</td>\n",
       "    </tr>\n",
       "    <tr>\n",
       "      <th>54</th>\n",
       "      <td>GBM_grid_0_AutoML_20181015_182139_model_45</td>\n",
       "      <td>0.395504</td>\n",
       "      <td>8.791162</td>\n",
       "      <td>0.518221</td>\n",
       "      <td>0.268553</td>\n",
       "    </tr>\n",
       "    <tr>\n",
       "      <th>55</th>\n",
       "      <td>GBM_grid_0_AutoML_20181015_182139_model_60</td>\n",
       "      <td>0.423572</td>\n",
       "      <td>0.364034</td>\n",
       "      <td>0.342674</td>\n",
       "      <td>0.117426</td>\n",
       "    </tr>\n",
       "    <tr>\n",
       "      <th>56</th>\n",
       "      <td>GBM_grid_0_AutoML_20181015_182139_model_38</td>\n",
       "      <td>0.545352</td>\n",
       "      <td>0.468903</td>\n",
       "      <td>0.394024</td>\n",
       "      <td>0.155255</td>\n",
       "    </tr>\n",
       "    <tr>\n",
       "      <th>57</th>\n",
       "      <td>GBM_grid_0_AutoML_20181015_182139_model_40</td>\n",
       "      <td>0.557164</td>\n",
       "      <td>0.530222</td>\n",
       "      <td>0.421837</td>\n",
       "      <td>0.177947</td>\n",
       "    </tr>\n",
       "    <tr>\n",
       "      <th>58</th>\n",
       "      <td>GBM_grid_0_AutoML_20181015_182139_model_47</td>\n",
       "      <td>0.615461</td>\n",
       "      <td>0.500839</td>\n",
       "      <td>0.408197</td>\n",
       "      <td>0.166625</td>\n",
       "    </tr>\n",
       "    <tr>\n",
       "      <th>59</th>\n",
       "      <td>GBM_grid_0_AutoML_20181015_182139_model_48</td>\n",
       "      <td>0.637738</td>\n",
       "      <td>0.552337</td>\n",
       "      <td>0.431960</td>\n",
       "      <td>0.186589</td>\n",
       "    </tr>\n",
       "    <tr>\n",
       "      <th>60</th>\n",
       "      <td>GBM_grid_0_AutoML_20181015_182139_model_22</td>\n",
       "      <td>0.645258</td>\n",
       "      <td>0.552900</td>\n",
       "      <td>0.431958</td>\n",
       "      <td>0.186588</td>\n",
       "    </tr>\n",
       "    <tr>\n",
       "      <th>61</th>\n",
       "      <td>GBM_grid_0_AutoML_20181015_182139_model_28</td>\n",
       "      <td>0.646720</td>\n",
       "      <td>1.338896</td>\n",
       "      <td>0.737803</td>\n",
       "      <td>0.544353</td>\n",
       "    </tr>\n",
       "    <tr>\n",
       "      <th>62</th>\n",
       "      <td>GBM_grid_0_AutoML_20181015_182139_model_11</td>\n",
       "      <td>0.687792</td>\n",
       "      <td>0.602565</td>\n",
       "      <td>0.454247</td>\n",
       "      <td>0.206341</td>\n",
       "    </tr>\n",
       "    <tr>\n",
       "      <th>63</th>\n",
       "      <td>GBM_grid_0_AutoML_20181015_182139_model_32</td>\n",
       "      <td>0.728299</td>\n",
       "      <td>0.745634</td>\n",
       "      <td>0.518469</td>\n",
       "      <td>0.268810</td>\n",
       "    </tr>\n",
       "    <tr>\n",
       "      <th>64</th>\n",
       "      <td>GBM_grid_0_AutoML_20181015_182139_model_42</td>\n",
       "      <td>0.748264</td>\n",
       "      <td>1.343945</td>\n",
       "      <td>0.739124</td>\n",
       "      <td>0.546304</td>\n",
       "    </tr>\n",
       "    <tr>\n",
       "      <th>65</th>\n",
       "      <td>GBM_grid_0_AutoML_20181015_182139_model_19</td>\n",
       "      <td>0.750000</td>\n",
       "      <td>1.346369</td>\n",
       "      <td>0.739753</td>\n",
       "      <td>0.547234</td>\n",
       "    </tr>\n",
       "    <tr>\n",
       "      <th>66</th>\n",
       "      <td>GBM_grid_0_AutoML_20181015_182139_model_5</td>\n",
       "      <td>0.750000</td>\n",
       "      <td>1.345889</td>\n",
       "      <td>0.739628</td>\n",
       "      <td>0.547050</td>\n",
       "    </tr>\n",
       "    <tr>\n",
       "      <th>67</th>\n",
       "      <td>GBM_grid_0_AutoML_20181015_182139_model_58</td>\n",
       "      <td>0.750000</td>\n",
       "      <td>1.347651</td>\n",
       "      <td>0.740086</td>\n",
       "      <td>0.547727</td>\n",
       "    </tr>\n",
       "    <tr>\n",
       "      <th>68</th>\n",
       "      <td>GBM_grid_0_AutoML_20181015_182139_model_52</td>\n",
       "      <td>0.750000</td>\n",
       "      <td>1.347519</td>\n",
       "      <td>0.740050</td>\n",
       "      <td>0.547675</td>\n",
       "    </tr>\n",
       "  </tbody>\n",
       "</table>\n",
       "<p>69 rows × 5 columns</p>\n",
       "</div>"
      ],
      "text/plain": [
       "                                                 model_id  \\\n",
       "0   StackedEnsemble_BestOfFamily_0_AutoML_20181015_182139   \n",
       "1               GBM_grid_0_AutoML_20181015_182139_model_4   \n",
       "2              GBM_grid_0_AutoML_20181015_182139_model_27   \n",
       "3              GBM_grid_0_AutoML_20181015_182139_model_39   \n",
       "4              GBM_grid_0_AutoML_20181015_182139_model_49   \n",
       "5              GBM_grid_0_AutoML_20181015_182139_model_15   \n",
       "6              GBM_grid_0_AutoML_20181015_182139_model_33   \n",
       "7              GBM_grid_0_AutoML_20181015_182139_model_44   \n",
       "8      StackedEnsemble_AllModels_0_AutoML_20181015_182139   \n",
       "9               GBM_grid_0_AutoML_20181015_182139_model_6   \n",
       "10             GBM_grid_0_AutoML_20181015_182139_model_43   \n",
       "11             GBM_grid_0_AutoML_20181015_182139_model_53   \n",
       "12             GBM_grid_0_AutoML_20181015_182139_model_37   \n",
       "13              GBM_grid_0_AutoML_20181015_182139_model_3   \n",
       "14              GBM_grid_0_AutoML_20181015_182139_model_9   \n",
       "15              GBM_grid_0_AutoML_20181015_182139_model_2   \n",
       "16             GBM_grid_0_AutoML_20181015_182139_model_36   \n",
       "17             GBM_grid_0_AutoML_20181015_182139_model_23   \n",
       "18             GBM_grid_0_AutoML_20181015_182139_model_24   \n",
       "19             GBM_grid_0_AutoML_20181015_182139_model_12   \n",
       "20             GBM_grid_0_AutoML_20181015_182139_model_34   \n",
       "21             GBM_grid_0_AutoML_20181015_182139_model_59   \n",
       "22             GBM_grid_0_AutoML_20181015_182139_model_56   \n",
       "23             GBM_grid_0_AutoML_20181015_182139_model_61   \n",
       "24              GBM_grid_0_AutoML_20181015_182139_model_1   \n",
       "25             GBM_grid_0_AutoML_20181015_182139_model_30   \n",
       "26             GBM_grid_0_AutoML_20181015_182139_model_51   \n",
       "27             GBM_grid_0_AutoML_20181015_182139_model_29   \n",
       "28             GBM_grid_0_AutoML_20181015_182139_model_10   \n",
       "29             GBM_grid_0_AutoML_20181015_182139_model_57   \n",
       "..                                                    ...   \n",
       "39              GBM_grid_0_AutoML_20181015_182139_model_7   \n",
       "40             GBM_grid_0_AutoML_20181015_182139_model_41   \n",
       "41             GBM_grid_0_AutoML_20181015_182139_model_21   \n",
       "42             GBM_grid_0_AutoML_20181015_182139_model_50   \n",
       "43              GBM_grid_0_AutoML_20181015_182139_model_8   \n",
       "44             GBM_grid_0_AutoML_20181015_182139_model_18   \n",
       "45             GBM_grid_0_AutoML_20181015_182139_model_26   \n",
       "46             GBM_grid_0_AutoML_20181015_182139_model_46   \n",
       "47              GLM_grid_0_AutoML_20181015_182139_model_0   \n",
       "48                           XRT_0_AutoML_20181015_182139   \n",
       "49             GBM_grid_0_AutoML_20181015_182139_model_20   \n",
       "50             GBM_grid_0_AutoML_20181015_182139_model_17   \n",
       "51             GBM_grid_0_AutoML_20181015_182139_model_31   \n",
       "52                  DeepLearning_0_AutoML_20181015_182139   \n",
       "53             GBM_grid_0_AutoML_20181015_182139_model_55   \n",
       "54             GBM_grid_0_AutoML_20181015_182139_model_45   \n",
       "55             GBM_grid_0_AutoML_20181015_182139_model_60   \n",
       "56             GBM_grid_0_AutoML_20181015_182139_model_38   \n",
       "57             GBM_grid_0_AutoML_20181015_182139_model_40   \n",
       "58             GBM_grid_0_AutoML_20181015_182139_model_47   \n",
       "59             GBM_grid_0_AutoML_20181015_182139_model_48   \n",
       "60             GBM_grid_0_AutoML_20181015_182139_model_22   \n",
       "61             GBM_grid_0_AutoML_20181015_182139_model_28   \n",
       "62             GBM_grid_0_AutoML_20181015_182139_model_11   \n",
       "63             GBM_grid_0_AutoML_20181015_182139_model_32   \n",
       "64             GBM_grid_0_AutoML_20181015_182139_model_42   \n",
       "65             GBM_grid_0_AutoML_20181015_182139_model_19   \n",
       "66              GBM_grid_0_AutoML_20181015_182139_model_5   \n",
       "67             GBM_grid_0_AutoML_20181015_182139_model_58   \n",
       "68             GBM_grid_0_AutoML_20181015_182139_model_52   \n",
       "\n",
       "    mean_per_class_error   logloss      rmse       mse  \n",
       "0               0.084032  0.098849  0.165929  0.027532  \n",
       "1               0.090978  0.097603  0.169973  0.028891  \n",
       "2               0.091427  0.091810  0.164923  0.027200  \n",
       "3               0.095601  0.105589  0.180946  0.032741  \n",
       "4               0.097187  0.079849  0.153783  0.023649  \n",
       "5               0.097687  0.098312  0.169897  0.028865  \n",
       "6               0.099742  0.116841  0.188604  0.035571  \n",
       "7               0.103988  0.121647  0.148554  0.022068  \n",
       "8               0.105725  0.083789  0.150147  0.022544  \n",
       "9               0.108621  0.091884  0.162994  0.026567  \n",
       "10              0.109992  0.090654  0.165567  0.027412  \n",
       "11              0.111953  0.099164  0.178140  0.031734  \n",
       "12              0.113983  0.127111  0.195389  0.038177  \n",
       "13              0.114882  0.094876  0.166335  0.027667  \n",
       "14              0.116063  0.169460  0.227923  0.051949  \n",
       "15              0.118730  0.088072  0.163871  0.026854  \n",
       "16              0.119816  0.099983  0.174805  0.030557  \n",
       "17              0.121710  0.131841  0.182648  0.033360  \n",
       "18              0.122368  0.123528  0.166819  0.027828  \n",
       "19              0.123830  0.093110  0.168665  0.028448  \n",
       "20              0.131142  0.156695  0.186341  0.034723  \n",
       "21              0.131918  0.122409  0.187785  0.035263  \n",
       "22              0.133305  0.120860  0.191759  0.036772  \n",
       "23              0.135557  0.123801  0.177488  0.031502  \n",
       "24              0.136317  0.088315  0.162840  0.026517  \n",
       "25              0.136827  0.103164  0.180878  0.032717  \n",
       "26              0.140189  0.116708  0.183084  0.033520  \n",
       "27              0.146602  0.150455  0.210998  0.044520  \n",
       "28              0.149484  0.140538  0.210996  0.044519  \n",
       "29              0.151651  0.132871  0.191738  0.036763  \n",
       "..                   ...       ...       ...       ...  \n",
       "39              0.178740  0.168234  0.224476  0.050389  \n",
       "40              0.181652  0.235062  0.269648  0.072710  \n",
       "41              0.181710  0.151976  0.218999  0.047961  \n",
       "42              0.190742  0.231181  0.261153  0.068201  \n",
       "43              0.198687  0.193839  0.238897  0.057072  \n",
       "44              0.202645  0.320369  0.232896  0.054241  \n",
       "45              0.205574  0.230245  0.244308  0.059687  \n",
       "46              0.211763  0.199504  0.250671  0.062836  \n",
       "47              0.239045  0.292093  0.313387  0.098212  \n",
       "48              0.247325  0.236093  0.248804  0.061904  \n",
       "49              0.255766  4.410580  0.391998  0.153662  \n",
       "50              0.327094  0.365441  0.340020  0.115614  \n",
       "51              0.328046  0.322829  0.323421  0.104601  \n",
       "52              0.346026  0.274235  0.299417  0.089651  \n",
       "53              0.361848  0.359374  0.342261  0.117143  \n",
       "54              0.395504  8.791162  0.518221  0.268553  \n",
       "55              0.423572  0.364034  0.342674  0.117426  \n",
       "56              0.545352  0.468903  0.394024  0.155255  \n",
       "57              0.557164  0.530222  0.421837  0.177947  \n",
       "58              0.615461  0.500839  0.408197  0.166625  \n",
       "59              0.637738  0.552337  0.431960  0.186589  \n",
       "60              0.645258  0.552900  0.431958  0.186588  \n",
       "61              0.646720  1.338896  0.737803  0.544353  \n",
       "62              0.687792  0.602565  0.454247  0.206341  \n",
       "63              0.728299  0.745634  0.518469  0.268810  \n",
       "64              0.748264  1.343945  0.739124  0.546304  \n",
       "65              0.750000  1.346369  0.739753  0.547234  \n",
       "66              0.750000  1.345889  0.739628  0.547050  \n",
       "67              0.750000  1.347651  0.740086  0.547727  \n",
       "68              0.750000  1.347519  0.740050  0.547675  \n",
       "\n",
       "[69 rows x 5 columns]"
      ]
     },
     "execution_count": 92,
     "metadata": {},
     "output_type": "execute_result"
    }
   ],
   "source": [
    "aml_leaderboard_df"
   ]
  },
  {
   "cell_type": "code",
   "execution_count": 93,
   "metadata": {},
   "outputs": [],
   "source": [
    "# STart best model as first model\n",
    "\n",
    "model_set=aml_leaderboard_df['model_id']\n",
    "mod_best=h2o.get_model(model_set[0])"
   ]
  },
  {
   "cell_type": "code",
   "execution_count": 94,
   "metadata": {},
   "outputs": [
    {
     "data": {
      "text/plain": [
       "'StackedEnsemble_BestOfFamily_0_AutoML_20181015_182139'"
      ]
     },
     "execution_count": 94,
     "metadata": {},
     "output_type": "execute_result"
    }
   ],
   "source": [
    "mod_best._id"
   ]
  },
  {
   "cell_type": "code",
   "execution_count": 95,
   "metadata": {},
   "outputs": [],
   "source": [
    "se=get_stacked_ensemble(model_set)"
   ]
  },
  {
   "cell_type": "code",
   "execution_count": 96,
   "metadata": {},
   "outputs": [
    {
     "name": "stdout",
     "output_type": "stream",
     "text": [
      "StackedEnsemble_BestOfFamily_0_AutoML_20181015_182139\n"
     ]
    }
   ],
   "source": [
    "print(se)"
   ]
  },
  {
   "cell_type": "code",
   "execution_count": 97,
   "metadata": {},
   "outputs": [],
   "source": [
    "if se is not None:\n",
    "    mod_best=h2o.get_model(se)"
   ]
  },
  {
   "cell_type": "code",
   "execution_count": 98,
   "metadata": {},
   "outputs": [
    {
     "name": "stdout",
     "output_type": "stream",
     "text": [
      "Model Details\n",
      "=============\n",
      "H2OStackedEnsembleEstimator :  Stacked Ensemble\n",
      "Model Key:  StackedEnsemble_BestOfFamily_0_AutoML_20181015_182139\n",
      "No model summary for this model\n",
      "\n",
      "\n",
      "ModelMetricsMultinomialGLM: stackedensemble\n",
      "** Reported on train data. **\n",
      "\n",
      "MSE: 0.0019889134390328658\n",
      "RMSE: 0.04459723577793657\n",
      "\n",
      "ModelMetricsMultinomialGLM: stackedensemble\n",
      "** Reported on validation data. **\n",
      "\n",
      "MSE: 0.013208008139794527\n",
      "RMSE: 0.11492609860164282\n",
      "\n",
      "ModelMetricsMultinomialGLM: stackedensemble\n",
      "** Reported on cross-validation data. **\n",
      "\n",
      "MSE: 0.027532499380325575\n",
      "RMSE: 0.16592919990262586\n"
     ]
    },
    {
     "data": {
      "text/plain": []
     },
     "execution_count": 98,
     "metadata": {},
     "output_type": "execute_result"
    }
   ],
   "source": [
    "mod_best"
   ]
  },
  {
   "cell_type": "code",
   "execution_count": 99,
   "metadata": {},
   "outputs": [
    {
     "name": "stdout",
     "output_type": "stream",
     "text": [
      "Model Details\n",
      "=============\n",
      "H2OStackedEnsembleEstimator :  Stacked Ensemble\n",
      "Model Key:  StackedEnsemble_BestOfFamily_0_AutoML_20181015_182139\n",
      "No model summary for this model\n",
      "\n",
      "\n",
      "ModelMetricsMultinomialGLM: stackedensemble\n",
      "** Reported on train data. **\n",
      "\n",
      "MSE: 0.0019889134390328658\n",
      "RMSE: 0.04459723577793657\n",
      "\n",
      "ModelMetricsMultinomialGLM: stackedensemble\n",
      "** Reported on validation data. **\n",
      "\n",
      "MSE: 0.013208008139794527\n",
      "RMSE: 0.11492609860164282\n",
      "\n",
      "ModelMetricsMultinomialGLM: stackedensemble\n",
      "** Reported on cross-validation data. **\n",
      "\n",
      "MSE: 0.027532499380325575\n",
      "RMSE: 0.16592919990262586\n",
      "<bound method ModelBase.coef_norm of >\n"
     ]
    }
   ],
   "source": [
    "mods=mod_best.coef_norm\n",
    "print(mods)"
   ]
  },
  {
   "cell_type": "code",
   "execution_count": 100,
   "metadata": {},
   "outputs": [],
   "source": [
    "bm=stackedensemble_df(aml_leaderboard_df)"
   ]
  },
  {
   "cell_type": "code",
   "execution_count": 101,
   "metadata": {},
   "outputs": [
    {
     "data": {
      "text/plain": [
       "['GBM_grid_0_AutoML_20181015_182139_model_4',\n",
       " 'GLM_grid_0_AutoML_20181015_182139_model_0',\n",
       " 'DRF_0_AutoML_20181015_182139',\n",
       " 'XRT_0_AutoML_20181015_182139',\n",
       " 'DeepLearning_0_AutoML_20181015_182139']"
      ]
     },
     "execution_count": 101,
     "metadata": {},
     "output_type": "execute_result"
    }
   ],
   "source": [
    "bm"
   ]
  },
  {
   "cell_type": "code",
   "execution_count": 102,
   "metadata": {},
   "outputs": [],
   "source": [
    "#  Get best_models and coef_norm()\n",
    "best_models={}\n",
    "best_models=stackedensemble(mod_best)\n",
    "bm=[]\n",
    "if best_models is not None: \n",
    "    if 'Intercept' in best_models.keys():\n",
    "        del best_models['Intercept']\n",
    "    bm=list(best_models.keys())\n",
    "else:\n",
    "    best_models={}\n",
    "    bm=stackedensemble_df(aml_leaderboard_df)   \n",
    "    for b in bm:   \n",
    "        best_models[b]=None\n",
    "\n",
    "if mod_best.model_id not in bm:\n",
    "    bm.append(mod_best.model_id)"
   ]
  },
  {
   "cell_type": "code",
   "execution_count": 103,
   "metadata": {},
   "outputs": [],
   "source": [
    "aml_leaderboard_df=aml_leaderboard_df.loc[aml_leaderboard_df['model_id'].isin(bm)]"
   ]
  },
  {
   "cell_type": "code",
   "execution_count": 104,
   "metadata": {},
   "outputs": [
    {
     "data": {
      "text/html": [
       "<div>\n",
       "<style scoped>\n",
       "    .dataframe tbody tr th:only-of-type {\n",
       "        vertical-align: middle;\n",
       "    }\n",
       "\n",
       "    .dataframe tbody tr th {\n",
       "        vertical-align: top;\n",
       "    }\n",
       "\n",
       "    .dataframe thead th {\n",
       "        text-align: right;\n",
       "    }\n",
       "</style>\n",
       "<table border=\"1\" class=\"dataframe\">\n",
       "  <thead>\n",
       "    <tr style=\"text-align: right;\">\n",
       "      <th></th>\n",
       "      <th>model_id</th>\n",
       "      <th>mean_per_class_error</th>\n",
       "      <th>logloss</th>\n",
       "      <th>rmse</th>\n",
       "      <th>mse</th>\n",
       "    </tr>\n",
       "  </thead>\n",
       "  <tbody>\n",
       "    <tr>\n",
       "      <th>0</th>\n",
       "      <td>StackedEnsemble_BestOfFamily_0_AutoML_20181015_182139</td>\n",
       "      <td>0.084032</td>\n",
       "      <td>0.098849</td>\n",
       "      <td>0.165929</td>\n",
       "      <td>0.027532</td>\n",
       "    </tr>\n",
       "    <tr>\n",
       "      <th>1</th>\n",
       "      <td>GBM_grid_0_AutoML_20181015_182139_model_4</td>\n",
       "      <td>0.090978</td>\n",
       "      <td>0.097603</td>\n",
       "      <td>0.169973</td>\n",
       "      <td>0.028891</td>\n",
       "    </tr>\n",
       "    <tr>\n",
       "      <th>37</th>\n",
       "      <td>DRF_0_AutoML_20181015_182139</td>\n",
       "      <td>0.166576</td>\n",
       "      <td>0.233635</td>\n",
       "      <td>0.232169</td>\n",
       "      <td>0.053902</td>\n",
       "    </tr>\n",
       "    <tr>\n",
       "      <th>47</th>\n",
       "      <td>GLM_grid_0_AutoML_20181015_182139_model_0</td>\n",
       "      <td>0.239045</td>\n",
       "      <td>0.292093</td>\n",
       "      <td>0.313387</td>\n",
       "      <td>0.098212</td>\n",
       "    </tr>\n",
       "    <tr>\n",
       "      <th>48</th>\n",
       "      <td>XRT_0_AutoML_20181015_182139</td>\n",
       "      <td>0.247325</td>\n",
       "      <td>0.236093</td>\n",
       "      <td>0.248804</td>\n",
       "      <td>0.061904</td>\n",
       "    </tr>\n",
       "    <tr>\n",
       "      <th>52</th>\n",
       "      <td>DeepLearning_0_AutoML_20181015_182139</td>\n",
       "      <td>0.346026</td>\n",
       "      <td>0.274235</td>\n",
       "      <td>0.299417</td>\n",
       "      <td>0.089651</td>\n",
       "    </tr>\n",
       "  </tbody>\n",
       "</table>\n",
       "</div>"
      ],
      "text/plain": [
       "                                                 model_id  \\\n",
       "0   StackedEnsemble_BestOfFamily_0_AutoML_20181015_182139   \n",
       "1               GBM_grid_0_AutoML_20181015_182139_model_4   \n",
       "37                           DRF_0_AutoML_20181015_182139   \n",
       "47              GLM_grid_0_AutoML_20181015_182139_model_0   \n",
       "48                           XRT_0_AutoML_20181015_182139   \n",
       "52                  DeepLearning_0_AutoML_20181015_182139   \n",
       "\n",
       "    mean_per_class_error   logloss      rmse       mse  \n",
       "0               0.084032  0.098849  0.165929  0.027532  \n",
       "1               0.090978  0.097603  0.169973  0.028891  \n",
       "37              0.166576  0.233635  0.232169  0.053902  \n",
       "47              0.239045  0.292093  0.313387  0.098212  \n",
       "48              0.247325  0.236093  0.248804  0.061904  \n",
       "52              0.346026  0.274235  0.299417  0.089651  "
      ]
     },
     "execution_count": 104,
     "metadata": {},
     "output_type": "execute_result"
    }
   ],
   "source": [
    "aml_leaderboard_df"
   ]
  },
  {
   "cell_type": "code",
   "execution_count": 105,
   "metadata": {},
   "outputs": [],
   "source": [
    "\n",
    "# save leaderboard\n",
    "leaderboard_stats=run_id+'_leaderboard.csv'\n",
    "aml_leaderboard_df.to_csv(leaderboard_stats)"
   ]
  },
  {
   "cell_type": "code",
   "execution_count": 106,
   "metadata": {},
   "outputs": [
    {
     "name": "stdout",
     "output_type": "stream",
     "text": [
      "StackedEnsemble_BestOfFamily_0_AutoML_20181015_182139\n"
     ]
    }
   ],
   "source": [
    "top=aml_leaderboard_df.iloc[0]['model_id']\n",
    "print(top)"
   ]
  },
  {
   "cell_type": "code",
   "execution_count": 107,
   "metadata": {},
   "outputs": [
    {
     "name": "stdout",
     "output_type": "stream",
     "text": [
      "StackedEnsemble_BestOfFamily_0_AutoML_20181015_182139\n",
      "stackedensemble\n"
     ]
    }
   ],
   "source": [
    "mod_best=h2o.get_model(top)\n",
    "print(mod_best._id)\n",
    "print(mod_best.algo)"
   ]
  },
  {
   "cell_type": "code",
   "execution_count": 108,
   "metadata": {},
   "outputs": [],
   "source": [
    "meta_data['mod_best']=mod_best._id\n",
    "meta_data['mod_best_algo']=mod_best.algo"
   ]
  },
  {
   "cell_type": "code",
   "execution_count": 109,
   "metadata": {},
   "outputs": [],
   "source": [
    "meta_data['models']=bm"
   ]
  },
  {
   "cell_type": "code",
   "execution_count": 110,
   "metadata": {},
   "outputs": [],
   "source": [
    "models_path=os.path.join(run_dir,'models')\n",
    "for mod in bm:\n",
    "    try:   \n",
    "        m=h2o.get_model(mod) \n",
    "        h2o.save_model(m, path = models_path)\n",
    "    except:    \n",
    "        pass"
   ]
  },
  {
   "cell_type": "code",
   "execution_count": 111,
   "metadata": {},
   "outputs": [
    {
     "name": "stdout",
     "output_type": "stream",
     "text": [
      "{'algo': 'gbm', 'model_id': 'GBM_grid_0_AutoML_20181015_182139_model_4', 'varimp': [('safety', 553.5850219726562, 1.0, 0.3260288677697011), ('persons', 506.49200439453125, 0.914930831382842, 0.29829386304333927), ('C1', 351.782958984375, 0.6354632893260449, 0.2071793767281804), ('maint', 101.58878326416016, 0.1835107151240411, 0.05982979067549928), ('lug_boot', 78.74455261230469, 0.14224473113760328, 0.04637588863899834), ('buying', 76.21196746826172, 0.13766985095927348, 0.04488434563427543), ('doors', 29.557918548583984, 0.053393638511491315, 0.017407867510006222)]}\n"
     ]
    }
   ],
   "source": [
    "# GBM\n",
    " \n",
    "mod,mod_id=get_model_by_algo(\"GBM\",best_models)\n",
    "if mod is not None:\n",
    "    try:     \n",
    "        sh_df=mod.scoring_history()\n",
    "        sh_df.to_csv(run_id+'_gbm_scoring_history.csv') \n",
    "    except:\n",
    "        pass   \n",
    "    try:     \n",
    "        stats_gbm={}\n",
    "        stats_gbm=gbm_stats(mod)\n",
    "        n=run_id+'_gbm_stats.json'\n",
    "        dict_to_json(stats_gbm,n)\n",
    "        print(stats_gbm)\n",
    "    except:\n",
    "        pass"
   ]
  },
  {
   "cell_type": "code",
   "execution_count": 112,
   "metadata": {},
   "outputs": [],
   "source": [
    "# DeepLearning\n",
    "\n",
    "mod,mod_id=get_model_by_algo(\"Dee\",best_models)"
   ]
  },
  {
   "cell_type": "code",
   "execution_count": 113,
   "metadata": {},
   "outputs": [
    {
     "name": "stdout",
     "output_type": "stream",
     "text": [
      "{'algo': 'deeplearning', 'model_id': 'DeepLearning_0_AutoML_20181015_182139', 'varimp': [('safety.high', 1.0, 1.0, 0.08718939269698223), ('maint.vhigh', 0.9426842331886292, 0.9426842331886292, 0.08219206579673696), ('persons', 0.8620752692222595, 0.8620752692222595, 0.07516381918257627), ('safety.low', 0.8315789103507996, 0.8315789103507996, 0.07250486017310445), ('maint.high', 0.7918141484260559, 0.7918141484260559, 0.06903779473014596), ('maint.low', 0.787296712398529, 0.787296712398529, 0.06864392222635843), ('maint.med', 0.7624334692955017, 0.7624334692955017, 0.06647611115972804), ('safety.med', 0.7585445046424866, 0.7585445046424866, 0.06613703469341162), ('lug_boot.big', 0.6838441491127014, 0.6838441491127014, 0.059623956060521), ('buying.low', 0.6690362691879272, 0.6690362691879272, 0.0583328660027501), ('lug_boot.med', 0.6470198631286621, 0.6470198631286621, 0.05641326892907261), ('C1', 0.6392287611961365, 0.6392287611961365, 0.05573396748313542), ('lug_boot.small', 0.5374957919120789, 0.5374957919120789, 0.04686393167399769), ('buying.high', 0.4714295268058777, 0.4714295268058777, 0.04110365414163018), ('buying.med', 0.41673728823661804, 0.41673728823661804, 0.03633507107553796), ('buying.vhigh', 0.3529326915740967, 0.3529326915740967, 0.03077198704125683), ('doors', 0.3151334822177887, 0.3151334822177887, 0.027476296933054246), ('buying.missing(NA)', 0.0, 0.0, 0.0), ('maint.missing(NA)', 0.0, 0.0, 0.0), ('lug_boot.missing(NA)', 0.0, 0.0, 0.0), ('safety.missing(NA)', 0.0, 0.0, 0.0)]}\n"
     ]
    }
   ],
   "source": [
    "if mod is not None:\n",
    "    try:    \n",
    "        sh_df=mod.scoring_history()\n",
    "        sh_df.to_csv(run_id+'_dl_scoring_history.csv') \n",
    "    except:\n",
    "        pass \n",
    "    try:\n",
    "        stats_dl={}\n",
    "        stats_dl=dl_stats(mod)\n",
    "        n=run_id+'_dl_stats.json'\n",
    "        dict_to_json(stats_dl,n)\n",
    "        print(stats_dl)\n",
    "    except:\n",
    "        pass    \n",
    "    try:\n",
    "        cf=mod.confusion_matrix()    \n",
    "        cf_df.to_csv(run_id+'_dl_confusion_matrix.csv')\n",
    "    except:\n",
    "        pass"
   ]
  },
  {
   "cell_type": "code",
   "execution_count": 114,
   "metadata": {},
   "outputs": [],
   "source": [
    "# GLM\n",
    "\n",
    "mod,mod_id=get_model_by_algo(\"GLM\",best_models)\n",
    "if mod is not None:\n",
    "    try:     \n",
    "        stats_glm={}\n",
    "        stats_glm=glm_stats(mod)\n",
    "        n=run_id+'_glm_stats.json'\n",
    "        dict_to_json(stats_glm,n)\n",
    "        print(stats_glm)\n",
    "    except:\n",
    "         pass"
   ]
  },
  {
   "cell_type": "code",
   "execution_count": 115,
   "metadata": {},
   "outputs": [],
   "source": [
    "def predictions(mod,data,run_id):\n",
    "    test = h2o.import_file(data)\n",
    "    mod_perf=mod_best.model_performance(test)\n",
    "              \n",
    "    stats_test={}\n",
    "    stats_test=model_performance_stats(mod_perf)\n",
    "\n",
    "    n=run_id+'_test_stats.json'\n",
    "    dict_to_json(stats_test,n) \n",
    "\n",
    "    try:    \n",
    "        cf=mod_perf.confusion_matrix(metrics=[\"f1\",\"f2\",\"f0point5\",\"accuracy\",\"precision\",\"recall\",\"specificity\",\"absolute_mcc\",\"min_per_class_accuracy\",\"mean_per_class_accuracy\"])\n",
    "        cf_df=cf[0].table.as_data_frame()\n",
    "        cf_df.to_csv(run_id+'_test_confusion_matrix.csv')\n",
    "    except:\n",
    "        pass\n",
    "\n",
    "    predictions = mod_best.predict(test)\n",
    "    predictions_df=test.cbind(predictions).as_data_frame() \n",
    "    predictions_df.to_csv(run_id+'_predictions.csv')\n",
    "    return\n",
    "\n",
    "def predictions_test(mod,test,run_id):\n",
    "    mod_perf=mod_best.model_performance(test)          \n",
    "    stats_test={}\n",
    "    stats_test=model_performance_stats(mod_perf)\n",
    "    n=run_id+'_test_stats.json'\n",
    "    dict_to_json(stats_test,n) \n",
    "    try:\n",
    "        cf=mod_perf.confusion_matrix(metrics=[\"f1\",\"f2\",\"f0point5\",\"accuracy\",\"precision\",\"recall\",\"specificity\",\"absolute_mcc\",\"min_per_class_accuracy\",\"mean_per_class_accuracy\"])\n",
    "        cf_df=cf[0].table.as_data_frame()\n",
    "        cf_df.to_csv(run_id+'_test_confusion_matrix.csv')\n",
    "    except:\n",
    "        pass\n",
    "    predictions = mod_best.predict(test)    \n",
    "    predictions_df=test.cbind(predictions).as_data_frame() \n",
    "    predictions_df.to_csv(run_id+'_predictions.csv')\n",
    "    return predictions"
   ]
  },
  {
   "cell_type": "code",
   "execution_count": 116,
   "metadata": {},
   "outputs": [
    {
     "name": "stdout",
     "output_type": "stream",
     "text": [
      "stackedensemble prediction progress: |████████████████████████████████████| 100%\n"
     ]
    }
   ],
   "source": [
    "predictions = mod_best.predict(test)    \n",
    "predictions_df=test.cbind(predictions).as_data_frame() \n",
    "predictions_df.to_csv(run_id+'_predictions.csv')"
   ]
  },
  {
   "cell_type": "code",
   "execution_count": 117,
   "metadata": {},
   "outputs": [],
   "source": [
    "# Update and save meta data\n",
    "\n",
    "meta_data['end_time'] = time.time()\n",
    "meta_data['execution_time'] = meta_data['end_time'] - meta_data['start_time']\n",
    "  \n",
    "n=run_id+'_meta_data.json'\n",
    "dict_to_json(meta_data,n)"
   ]
  },
  {
   "cell_type": "code",
   "execution_count": 118,
   "metadata": {},
   "outputs": [
    {
     "data": {
      "text/plain": [
       "{'run_id': 'slht1Q1Um',\n",
       " 'start_time': 1539642097.7804172,\n",
       " 'target': None,\n",
       " 'max_models': 9,\n",
       " 'run_time': 333,\n",
       " 'scale': False,\n",
       " 'classification': False,\n",
       " 'balance': False,\n",
       " 'balance_threshold': 0.2,\n",
       " 'project': None,\n",
       " 'end_time': 1539642632.0936809,\n",
       " 'execution_time': 534.3132636547089,\n",
       " 'nthreads': 1,\n",
       " 'min_mem_size': 6,\n",
       " 'analysis': 0,\n",
       " 'X': ['C1', 'doors', 'persons', 'buying', 'maint', 'lug_boot', 'safety'],\n",
       " 'variables': {'C1': 'int',\n",
       "  'buying': 'enum',\n",
       "  'maint': 'enum',\n",
       "  'doors': 'int',\n",
       "  'persons': 'int',\n",
       "  'lug_boot': 'enum',\n",
       "  'safety': 'enum',\n",
       "  'class': 'enum'},\n",
       " 'model_execution_time': 530.645843744278,\n",
       " 'mod_best': 'StackedEnsemble_BestOfFamily_0_AutoML_20181015_182139',\n",
       " 'mod_best_algo': 'stackedensemble',\n",
       " 'models': ['GBM_grid_0_AutoML_20181015_182139_model_4',\n",
       "  'GLM_grid_0_AutoML_20181015_182139_model_0',\n",
       "  'DRF_0_AutoML_20181015_182139',\n",
       "  'XRT_0_AutoML_20181015_182139',\n",
       "  'DeepLearning_0_AutoML_20181015_182139',\n",
       "  'StackedEnsemble_BestOfFamily_0_AutoML_20181015_182139']}"
      ]
     },
     "execution_count": 118,
     "metadata": {},
     "output_type": "execute_result"
    }
   ],
   "source": [
    "meta_data"
   ]
  },
  {
   "cell_type": "code",
   "execution_count": 121,
   "metadata": {},
   "outputs": [],
   "source": [
    "plots=aml.leaderboard"
   ]
  },
  {
   "cell_type": "code",
   "execution_count": 125,
   "metadata": {},
   "outputs": [],
   "source": [
    "varImp=h2o.get_model(plots[52,\"model_id\"])"
   ]
  },
  {
   "cell_type": "code",
   "execution_count": 127,
   "metadata": {},
   "outputs": [
    {
     "data": {
      "text/html": [
       "<div>\n",
       "<style scoped>\n",
       "    .dataframe tbody tr th:only-of-type {\n",
       "        vertical-align: middle;\n",
       "    }\n",
       "\n",
       "    .dataframe tbody tr th {\n",
       "        vertical-align: top;\n",
       "    }\n",
       "\n",
       "    .dataframe thead th {\n",
       "        text-align: right;\n",
       "    }\n",
       "</style>\n",
       "<table border=\"1\" class=\"dataframe\">\n",
       "  <thead>\n",
       "    <tr style=\"text-align: right;\">\n",
       "      <th></th>\n",
       "      <th>variable</th>\n",
       "      <th>relative_importance</th>\n",
       "      <th>scaled_importance</th>\n",
       "      <th>percentage</th>\n",
       "    </tr>\n",
       "  </thead>\n",
       "  <tbody>\n",
       "    <tr>\n",
       "      <th>0</th>\n",
       "      <td>safety.high</td>\n",
       "      <td>1.000000</td>\n",
       "      <td>1.000000</td>\n",
       "      <td>0.087189</td>\n",
       "    </tr>\n",
       "    <tr>\n",
       "      <th>1</th>\n",
       "      <td>maint.vhigh</td>\n",
       "      <td>0.942684</td>\n",
       "      <td>0.942684</td>\n",
       "      <td>0.082192</td>\n",
       "    </tr>\n",
       "    <tr>\n",
       "      <th>2</th>\n",
       "      <td>persons</td>\n",
       "      <td>0.862075</td>\n",
       "      <td>0.862075</td>\n",
       "      <td>0.075164</td>\n",
       "    </tr>\n",
       "    <tr>\n",
       "      <th>3</th>\n",
       "      <td>safety.low</td>\n",
       "      <td>0.831579</td>\n",
       "      <td>0.831579</td>\n",
       "      <td>0.072505</td>\n",
       "    </tr>\n",
       "    <tr>\n",
       "      <th>4</th>\n",
       "      <td>maint.high</td>\n",
       "      <td>0.791814</td>\n",
       "      <td>0.791814</td>\n",
       "      <td>0.069038</td>\n",
       "    </tr>\n",
       "    <tr>\n",
       "      <th>5</th>\n",
       "      <td>maint.low</td>\n",
       "      <td>0.787297</td>\n",
       "      <td>0.787297</td>\n",
       "      <td>0.068644</td>\n",
       "    </tr>\n",
       "    <tr>\n",
       "      <th>6</th>\n",
       "      <td>maint.med</td>\n",
       "      <td>0.762433</td>\n",
       "      <td>0.762433</td>\n",
       "      <td>0.066476</td>\n",
       "    </tr>\n",
       "    <tr>\n",
       "      <th>7</th>\n",
       "      <td>safety.med</td>\n",
       "      <td>0.758545</td>\n",
       "      <td>0.758545</td>\n",
       "      <td>0.066137</td>\n",
       "    </tr>\n",
       "    <tr>\n",
       "      <th>8</th>\n",
       "      <td>lug_boot.big</td>\n",
       "      <td>0.683844</td>\n",
       "      <td>0.683844</td>\n",
       "      <td>0.059624</td>\n",
       "    </tr>\n",
       "    <tr>\n",
       "      <th>9</th>\n",
       "      <td>buying.low</td>\n",
       "      <td>0.669036</td>\n",
       "      <td>0.669036</td>\n",
       "      <td>0.058333</td>\n",
       "    </tr>\n",
       "    <tr>\n",
       "      <th>10</th>\n",
       "      <td>lug_boot.med</td>\n",
       "      <td>0.647020</td>\n",
       "      <td>0.647020</td>\n",
       "      <td>0.056413</td>\n",
       "    </tr>\n",
       "    <tr>\n",
       "      <th>11</th>\n",
       "      <td>C1</td>\n",
       "      <td>0.639229</td>\n",
       "      <td>0.639229</td>\n",
       "      <td>0.055734</td>\n",
       "    </tr>\n",
       "    <tr>\n",
       "      <th>12</th>\n",
       "      <td>lug_boot.small</td>\n",
       "      <td>0.537496</td>\n",
       "      <td>0.537496</td>\n",
       "      <td>0.046864</td>\n",
       "    </tr>\n",
       "    <tr>\n",
       "      <th>13</th>\n",
       "      <td>buying.high</td>\n",
       "      <td>0.471430</td>\n",
       "      <td>0.471430</td>\n",
       "      <td>0.041104</td>\n",
       "    </tr>\n",
       "    <tr>\n",
       "      <th>14</th>\n",
       "      <td>buying.med</td>\n",
       "      <td>0.416737</td>\n",
       "      <td>0.416737</td>\n",
       "      <td>0.036335</td>\n",
       "    </tr>\n",
       "    <tr>\n",
       "      <th>15</th>\n",
       "      <td>buying.vhigh</td>\n",
       "      <td>0.352933</td>\n",
       "      <td>0.352933</td>\n",
       "      <td>0.030772</td>\n",
       "    </tr>\n",
       "    <tr>\n",
       "      <th>16</th>\n",
       "      <td>doors</td>\n",
       "      <td>0.315133</td>\n",
       "      <td>0.315133</td>\n",
       "      <td>0.027476</td>\n",
       "    </tr>\n",
       "    <tr>\n",
       "      <th>17</th>\n",
       "      <td>buying.missing(NA)</td>\n",
       "      <td>0.000000</td>\n",
       "      <td>0.000000</td>\n",
       "      <td>0.000000</td>\n",
       "    </tr>\n",
       "    <tr>\n",
       "      <th>18</th>\n",
       "      <td>maint.missing(NA)</td>\n",
       "      <td>0.000000</td>\n",
       "      <td>0.000000</td>\n",
       "      <td>0.000000</td>\n",
       "    </tr>\n",
       "    <tr>\n",
       "      <th>19</th>\n",
       "      <td>lug_boot.missing(NA)</td>\n",
       "      <td>0.000000</td>\n",
       "      <td>0.000000</td>\n",
       "      <td>0.000000</td>\n",
       "    </tr>\n",
       "    <tr>\n",
       "      <th>20</th>\n",
       "      <td>safety.missing(NA)</td>\n",
       "      <td>0.000000</td>\n",
       "      <td>0.000000</td>\n",
       "      <td>0.000000</td>\n",
       "    </tr>\n",
       "  </tbody>\n",
       "</table>\n",
       "</div>"
      ],
      "text/plain": [
       "                variable  relative_importance  scaled_importance  percentage\n",
       "0            safety.high             1.000000           1.000000    0.087189\n",
       "1            maint.vhigh             0.942684           0.942684    0.082192\n",
       "2                persons             0.862075           0.862075    0.075164\n",
       "3             safety.low             0.831579           0.831579    0.072505\n",
       "4             maint.high             0.791814           0.791814    0.069038\n",
       "5              maint.low             0.787297           0.787297    0.068644\n",
       "6              maint.med             0.762433           0.762433    0.066476\n",
       "7             safety.med             0.758545           0.758545    0.066137\n",
       "8           lug_boot.big             0.683844           0.683844    0.059624\n",
       "9             buying.low             0.669036           0.669036    0.058333\n",
       "10          lug_boot.med             0.647020           0.647020    0.056413\n",
       "11                    C1             0.639229           0.639229    0.055734\n",
       "12        lug_boot.small             0.537496           0.537496    0.046864\n",
       "13           buying.high             0.471430           0.471430    0.041104\n",
       "14            buying.med             0.416737           0.416737    0.036335\n",
       "15          buying.vhigh             0.352933           0.352933    0.030772\n",
       "16                 doors             0.315133           0.315133    0.027476\n",
       "17    buying.missing(NA)             0.000000           0.000000    0.000000\n",
       "18     maint.missing(NA)             0.000000           0.000000    0.000000\n",
       "19  lug_boot.missing(NA)             0.000000           0.000000    0.000000\n",
       "20    safety.missing(NA)             0.000000           0.000000    0.000000"
      ]
     },
     "execution_count": 127,
     "metadata": {},
     "output_type": "execute_result"
    }
   ],
   "source": [
    "varImp.varimp(use_pandas=True)"
   ]
  },
  {
   "cell_type": "code",
   "execution_count": 129,
   "metadata": {},
   "outputs": [
    {
     "data": {
      "image/png": "[encoded data removed]",
      "text/plain": [
       "<Figure size 1008x720 with 1 Axes>"
      ]
     },
     "metadata": {},
     "output_type": "display_data"
    }
   ],
   "source": [
    "varImp.varimp_plot()"
   ]
  },
  {
   "cell_type": "code",
   "execution_count": 140,
   "metadata": {},
   "outputs": [
    {
     "data": {
      "image/png": "[encoded data removed]",
      "text/plain": [
       "<Figure size 432x288 with 1 Axes>"
      ]
     },
     "metadata": {},
     "output_type": "display_data"
    }
   ],
   "source": [
    "varImp.plot()"
   ]
  },
  {
   "cell_type": "code",
   "execution_count": 143,
   "metadata": {},
   "outputs": [
    {
     "name": "stdout",
     "output_type": "stream",
     "text": [
      "Model Details\n",
      "=============\n",
      "H2ODeepLearningEstimator :  Deep Learning\n",
      "Model Key:  DeepLearning_0_AutoML_20181015_182139\n",
      "\n",
      "\n",
      "ModelMetricsMultinomial: deeplearning\n",
      "** Reported on train data. **\n",
      "\n",
      "MSE: 0.05596219173676882\n",
      "RMSE: 0.23656329329963433\n",
      "LogLoss: 0.18207870584127683\n",
      "Mean Per-Class Error: 0.17479321300044984\n",
      "Confusion Matrix: Row labels: Actual class; Column labels: Predicted class\n",
      "\n"
     ]
    },
    {
     "data": {
      "text/html": [
       "<div style=\"overflow:auto\"><table style=\"width:50%\"><tr><td><b>acc</b></td>\n",
       "<td><b>good</b></td>\n",
       "<td><b>unacc</b></td>\n",
       "<td><b>vgood</b></td>\n",
       "<td><b>Error</b></td>\n",
       "<td><b>Rate</b></td></tr>\n",
       "<tr><td>273.0</td>\n",
       "<td>2.0</td>\n",
       "<td>13.0</td>\n",
       "<td>0.0</td>\n",
       "<td>0.0520833</td>\n",
       "<td>15 / 288</td></tr>\n",
       "<tr><td>11.0</td>\n",
       "<td>34.0</td>\n",
       "<td>0.0</td>\n",
       "<td>7.0</td>\n",
       "<td>0.3461538</td>\n",
       "<td>18 / 52</td></tr>\n",
       "<tr><td>34.0</td>\n",
       "<td>0.0</td>\n",
       "<td>820.0</td>\n",
       "<td>1.0</td>\n",
       "<td>0.0409357</td>\n",
       "<td>35 / 855</td></tr>\n",
       "<tr><td>3.0</td>\n",
       "<td>10.0</td>\n",
       "<td>0.0</td>\n",
       "<td>37.0</td>\n",
       "<td>0.26</td>\n",
       "<td>13 / 50</td></tr>\n",
       "<tr><td>321.0</td>\n",
       "<td>46.0</td>\n",
       "<td>833.0</td>\n",
       "<td>45.0</td>\n",
       "<td>0.0650602</td>\n",
       "<td>81 / 1,245</td></tr></table></div>"
      ],
      "text/plain": [
       "acc    good    unacc    vgood    Error      Rate\n",
       "-----  ------  -------  -------  ---------  ----------\n",
       "273    2       13       0        0.0520833  15 / 288\n",
       "11     34      0        7        0.346154   18 / 52\n",
       "34     0       820      1        0.0409357  35 / 855\n",
       "3      10      0        37       0.26       13 / 50\n",
       "321    46      833      45       0.0650602  81 / 1,245"
      ]
     },
     "metadata": {},
     "output_type": "display_data"
    },
    {
     "name": "stdout",
     "output_type": "stream",
     "text": [
      "Top-4 Hit Ratios: \n"
     ]
    },
    {
     "data": {
      "text/html": [
       "<div style=\"overflow:auto\"><table style=\"width:50%\"><tr><td><b>k</b></td>\n",
       "<td><b>hit_ratio</b></td></tr>\n",
       "<tr><td>1</td>\n",
       "<td>0.9349397</td></tr>\n",
       "<tr><td>2</td>\n",
       "<td>0.9943775</td></tr>\n",
       "<tr><td>3</td>\n",
       "<td>0.9991968</td></tr>\n",
       "<tr><td>4</td>\n",
       "<td>1.0</td></tr></table></div>"
      ],
      "text/plain": [
       "k    hit_ratio\n",
       "---  -----------\n",
       "1    0.93494\n",
       "2    0.994378\n",
       "3    0.999197\n",
       "4    1"
      ]
     },
     "metadata": {},
     "output_type": "display_data"
    },
    {
     "name": "stdout",
     "output_type": "stream",
     "text": [
      "\n",
      "ModelMetricsMultinomial: deeplearning\n",
      "** Reported on validation data. **\n",
      "\n",
      "MSE: 0.063877915710602\n",
      "RMSE: 0.25274080737111293\n",
      "LogLoss: 0.20294484368045546\n",
      "Mean Per-Class Error: 0.24576495351297806\n",
      "Confusion Matrix: Row labels: Actual class; Column labels: Predicted class\n",
      "\n"
     ]
    },
    {
     "data": {
      "text/html": [
       "<div style=\"overflow:auto\"><table style=\"width:50%\"><tr><td><b>acc</b></td>\n",
       "<td><b>good</b></td>\n",
       "<td><b>unacc</b></td>\n",
       "<td><b>vgood</b></td>\n",
       "<td><b>Error</b></td>\n",
       "<td><b>Rate</b></td></tr>\n",
       "<tr><td>60.0</td>\n",
       "<td>1.0</td>\n",
       "<td>6.0</td>\n",
       "<td>0.0</td>\n",
       "<td>0.1044776</td>\n",
       "<td>7 / 67</td></tr>\n",
       "<tr><td>5.0</td>\n",
       "<td>6.0</td>\n",
       "<td>0.0</td>\n",
       "<td>1.0</td>\n",
       "<td>0.5</td>\n",
       "<td>6 / 12</td></tr>\n",
       "<tr><td>10.0</td>\n",
       "<td>0.0</td>\n",
       "<td>211.0</td>\n",
       "<td>0.0</td>\n",
       "<td>0.0452489</td>\n",
       "<td>10 / 221</td></tr>\n",
       "<tr><td>1.0</td>\n",
       "<td>2.0</td>\n",
       "<td>0.0</td>\n",
       "<td>6.0</td>\n",
       "<td>0.3333333</td>\n",
       "<td>3 / 9</td></tr>\n",
       "<tr><td>76.0</td>\n",
       "<td>9.0</td>\n",
       "<td>217.0</td>\n",
       "<td>7.0</td>\n",
       "<td>0.0841424</td>\n",
       "<td>26 / 309</td></tr></table></div>"
      ],
      "text/plain": [
       "acc    good    unacc    vgood    Error      Rate\n",
       "-----  ------  -------  -------  ---------  --------\n",
       "60     1       6        0        0.104478   7 / 67\n",
       "5      6       0        1        0.5        6 / 12\n",
       "10     0       211      0        0.0452489  10 / 221\n",
       "1      2       0        6        0.333333   3 / 9\n",
       "76     9       217      7        0.0841424  26 / 309"
      ]
     },
     "metadata": {},
     "output_type": "display_data"
    },
    {
     "name": "stdout",
     "output_type": "stream",
     "text": [
      "Top-4 Hit Ratios: \n"
     ]
    },
    {
     "data": {
      "text/html": [
       "<div style=\"overflow:auto\"><table style=\"width:50%\"><tr><td><b>k</b></td>\n",
       "<td><b>hit_ratio</b></td></tr>\n",
       "<tr><td>1</td>\n",
       "<td>0.9158576</td></tr>\n",
       "<tr><td>2</td>\n",
       "<td>0.9935275</td></tr>\n",
       "<tr><td>3</td>\n",
       "<td>1.0</td></tr>\n",
       "<tr><td>4</td>\n",
       "<td>1.0</td></tr></table></div>"
      ],
      "text/plain": [
       "k    hit_ratio\n",
       "---  -----------\n",
       "1    0.915858\n",
       "2    0.993528\n",
       "3    1\n",
       "4    1"
      ]
     },
     "metadata": {},
     "output_type": "display_data"
    },
    {
     "name": "stdout",
     "output_type": "stream",
     "text": [
      "\n",
      "ModelMetricsMultinomial: deeplearning\n",
      "** Reported on cross-validation data. **\n",
      "\n",
      "MSE: 0.08965061023534958\n",
      "RMSE: 0.2994171174721806\n",
      "LogLoss: 0.2742351339325952\n",
      "Mean Per-Class Error: 0.34602648448043183\n",
      "Confusion Matrix: Row labels: Actual class; Column labels: Predicted class\n",
      "\n"
     ]
    },
    {
     "data": {
      "text/html": [
       "<div style=\"overflow:auto\"><table style=\"width:50%\"><tr><td><b>acc</b></td>\n",
       "<td><b>good</b></td>\n",
       "<td><b>unacc</b></td>\n",
       "<td><b>vgood</b></td>\n",
       "<td><b>Error</b></td>\n",
       "<td><b>Rate</b></td></tr>\n",
       "<tr><td>230.0</td>\n",
       "<td>6.0</td>\n",
       "<td>51.0</td>\n",
       "<td>1.0</td>\n",
       "<td>0.2013889</td>\n",
       "<td>58 / 288</td></tr>\n",
       "<tr><td>28.0</td>\n",
       "<td>16.0</td>\n",
       "<td>0.0</td>\n",
       "<td>8.0</td>\n",
       "<td>0.6923077</td>\n",
       "<td>36 / 52</td></tr>\n",
       "<tr><td>26.0</td>\n",
       "<td>0.0</td>\n",
       "<td>829.0</td>\n",
       "<td>0.0</td>\n",
       "<td>0.0304094</td>\n",
       "<td>26 / 855</td></tr>\n",
       "<tr><td>11.0</td>\n",
       "<td>12.0</td>\n",
       "<td>0.0</td>\n",
       "<td>27.0</td>\n",
       "<td>0.46</td>\n",
       "<td>23 / 50</td></tr>\n",
       "<tr><td>295.0</td>\n",
       "<td>34.0</td>\n",
       "<td>880.0</td>\n",
       "<td>36.0</td>\n",
       "<td>0.1148594</td>\n",
       "<td>143 / 1,245</td></tr></table></div>"
      ],
      "text/plain": [
       "acc    good    unacc    vgood    Error      Rate\n",
       "-----  ------  -------  -------  ---------  -----------\n",
       "230    6       51       1        0.201389   58 / 288\n",
       "28     16      0        8        0.692308   36 / 52\n",
       "26     0       829      0        0.0304094  26 / 855\n",
       "11     12      0        27       0.46       23 / 50\n",
       "295    34      880      36       0.114859   143 / 1,245"
      ]
     },
     "metadata": {},
     "output_type": "display_data"
    },
    {
     "name": "stdout",
     "output_type": "stream",
     "text": [
      "Top-4 Hit Ratios: \n"
     ]
    },
    {
     "data": {
      "text/html": [
       "<div style=\"overflow:auto\"><table style=\"width:50%\"><tr><td><b>k</b></td>\n",
       "<td><b>hit_ratio</b></td></tr>\n",
       "<tr><td>1</td>\n",
       "<td>0.8851405</td></tr>\n",
       "<tr><td>2</td>\n",
       "<td>0.9751004</td></tr>\n",
       "<tr><td>3</td>\n",
       "<td>0.9927711</td></tr>\n",
       "<tr><td>4</td>\n",
       "<td>1.0</td></tr></table></div>"
      ],
      "text/plain": [
       "k    hit_ratio\n",
       "---  -----------\n",
       "1    0.885141\n",
       "2    0.9751\n",
       "3    0.992771\n",
       "4    1"
      ]
     },
     "metadata": {},
     "output_type": "display_data"
    },
    {
     "name": "stdout",
     "output_type": "stream",
     "text": [
      "Cross-Validation Metrics Summary: \n"
     ]
    },
    {
     "data": {
      "text/html": [
       "<div style=\"overflow:auto\"><table style=\"width:50%\"><tr><td><b></b></td>\n",
       "<td><b>mean</b></td>\n",
       "<td><b>sd</b></td>\n",
       "<td><b>cv_1_valid</b></td>\n",
       "<td><b>cv_2_valid</b></td>\n",
       "<td><b>cv_3_valid</b></td>\n",
       "<td><b>cv_4_valid</b></td>\n",
       "<td><b>cv_5_valid</b></td></tr>\n",
       "<tr><td>accuracy</td>\n",
       "<td>0.8851405</td>\n",
       "<td>0.0183688</td>\n",
       "<td>0.9076305</td>\n",
       "<td>0.8554217</td>\n",
       "<td>0.9076305</td>\n",
       "<td>0.9036145</td>\n",
       "<td>0.8514056</td></tr>\n",
       "<tr><td>err</td>\n",
       "<td>0.1148594</td>\n",
       "<td>0.0183688</td>\n",
       "<td>0.0923695</td>\n",
       "<td>0.1445783</td>\n",
       "<td>0.0923695</td>\n",
       "<td>0.0963855</td>\n",
       "<td>0.1485944</td></tr>\n",
       "<tr><td>err_count</td>\n",
       "<td>28.6</td>\n",
       "<td>4.5738387</td>\n",
       "<td>23.0</td>\n",
       "<td>36.0</td>\n",
       "<td>23.0</td>\n",
       "<td>24.0</td>\n",
       "<td>37.0</td></tr>\n",
       "<tr><td>logloss</td>\n",
       "<td>0.2742351</td>\n",
       "<td>0.0342855</td>\n",
       "<td>0.2160985</td>\n",
       "<td>0.2981893</td>\n",
       "<td>0.2889747</td>\n",
       "<td>0.2231494</td>\n",
       "<td>0.3447637</td></tr>\n",
       "<tr><td>max_per_class_error</td>\n",
       "<td>0.7571428</td>\n",
       "<td>0.0991174</td>\n",
       "<td>0.75</td>\n",
       "<td>0.5833333</td>\n",
       "<td>0.6666667</td>\n",
       "<td>1.0</td>\n",
       "<td>0.7857143</td></tr>\n",
       "<tr><td>mean_per_class_accuracy</td>\n",
       "<td>0.659216</td>\n",
       "<td>0.0414394</td>\n",
       "<td>0.6937965</td>\n",
       "<td>0.699151</td>\n",
       "<td>0.7257195</td>\n",
       "<td>0.5915120</td>\n",
       "<td>0.585901</td></tr>\n",
       "<tr><td>mean_per_class_error</td>\n",
       "<td>0.340784</td>\n",
       "<td>0.0414394</td>\n",
       "<td>0.3062035</td>\n",
       "<td>0.3008490</td>\n",
       "<td>0.2742805</td>\n",
       "<td>0.4084881</td>\n",
       "<td>0.4140990</td></tr>\n",
       "<tr><td>mse</td>\n",
       "<td>0.0896506</td>\n",
       "<td>0.0117676</td>\n",
       "<td>0.0699582</td>\n",
       "<td>0.1016505</td>\n",
       "<td>0.0880954</td>\n",
       "<td>0.0741771</td>\n",
       "<td>0.1143718</td></tr>\n",
       "<tr><td>r2</td>\n",
       "<td>0.8864963</td>\n",
       "<td>0.0156475</td>\n",
       "<td>0.9082985</td>\n",
       "<td>0.8717036</td>\n",
       "<td>0.8915409</td>\n",
       "<td>0.9092459</td>\n",
       "<td>0.8516927</td></tr>\n",
       "<tr><td>rmse</td>\n",
       "<td>0.2981351</td>\n",
       "<td>0.0195715</td>\n",
       "<td>0.2644962</td>\n",
       "<td>0.3188268</td>\n",
       "<td>0.2968086</td>\n",
       "<td>0.2723548</td>\n",
       "<td>0.3381890</td></tr></table></div>"
      ],
      "text/plain": [
       "                         mean       sd         cv_1_valid    cv_2_valid    cv_3_valid    cv_4_valid    cv_5_valid\n",
       "-----------------------  ---------  ---------  ------------  ------------  ------------  ------------  ------------\n",
       "accuracy                 0.885141   0.0183688  0.907631      0.855422      0.907631      0.903614      0.851406\n",
       "err                      0.114859   0.0183688  0.0923695     0.144578      0.0923695     0.0963855     0.148594\n",
       "err_count                28.6       4.57384    23            36            23            24            37\n",
       "logloss                  0.274235   0.0342855  0.216098      0.298189      0.288975      0.223149      0.344764\n",
       "max_per_class_error      0.757143   0.0991174  0.75          0.583333      0.666667      1             0.785714\n",
       "mean_per_class_accuracy  0.659216   0.0414394  0.693796      0.699151      0.725719      0.591512      0.585901\n",
       "mean_per_class_error     0.340784   0.0414394  0.306204      0.300849      0.274281      0.408488      0.414099\n",
       "mse                      0.0896506  0.0117676  0.0699582     0.101651      0.0880954     0.0741771     0.114372\n",
       "r2                       0.886496   0.0156475  0.908299      0.871704      0.891541      0.909246      0.851693\n",
       "rmse                     0.298135   0.0195715  0.264496      0.318827      0.296809      0.272355      0.338189"
      ]
     },
     "metadata": {},
     "output_type": "display_data"
    },
    {
     "name": "stdout",
     "output_type": "stream",
     "text": [
      "Scoring History: \n"
     ]
    },
    {
     "data": {
      "text/html": [
       "<div style=\"overflow:auto\"><table style=\"width:50%\"><tr><td><b></b></td>\n",
       "<td><b>timestamp</b></td>\n",
       "<td><b>duration</b></td>\n",
       "<td><b>training_speed</b></td>\n",
       "<td><b>epochs</b></td>\n",
       "<td><b>iterations</b></td>\n",
       "<td><b>samples</b></td>\n",
       "<td><b>training_rmse</b></td>\n",
       "<td><b>training_logloss</b></td>\n",
       "<td><b>training_r2</b></td>\n",
       "<td><b>training_classification_error</b></td>\n",
       "<td><b>validation_rmse</b></td>\n",
       "<td><b>validation_logloss</b></td>\n",
       "<td><b>validation_r2</b></td>\n",
       "<td><b>validation_classification_error</b></td></tr>\n",
       "<tr><td></td>\n",
       "<td>2018-10-15 18:22:09</td>\n",
       "<td> 0.000 sec</td>\n",
       "<td>None</td>\n",
       "<td>0.0</td>\n",
       "<td>0</td>\n",
       "<td>0.0</td>\n",
       "<td>nan</td>\n",
       "<td>nan</td>\n",
       "<td>nan</td>\n",
       "<td>nan</td>\n",
       "<td>nan</td>\n",
       "<td>nan</td>\n",
       "<td>nan</td>\n",
       "<td>nan</td></tr>\n",
       "<tr><td></td>\n",
       "<td>2018-10-15 18:22:09</td>\n",
       "<td> 1.237 sec</td>\n",
       "<td>186000 obs/sec</td>\n",
       "<td>1.0457831</td>\n",
       "<td>1</td>\n",
       "<td>1302.0</td>\n",
       "<td>0.4628086</td>\n",
       "<td>0.6780953</td>\n",
       "<td>0.7294514</td>\n",
       "<td>0.2722892</td>\n",
       "<td>0.4531358</td>\n",
       "<td>0.6606239</td>\n",
       "<td>0.7220367</td>\n",
       "<td>0.2621359</td></tr>\n",
       "<tr><td></td>\n",
       "<td>2018-10-15 18:22:09</td>\n",
       "<td> 1.308 sec</td>\n",
       "<td>201828 obs/sec</td>\n",
       "<td>11.3477912</td>\n",
       "<td>11</td>\n",
       "<td>14128.0</td>\n",
       "<td>0.2365633</td>\n",
       "<td>0.1820787</td>\n",
       "<td>0.9293134</td>\n",
       "<td>0.0650602</td>\n",
       "<td>0.2527408</td>\n",
       "<td>0.2029448</td>\n",
       "<td>0.9135268</td>\n",
       "<td>0.0841424</td></tr></table></div>"
      ],
      "text/plain": [
       "    timestamp            duration    training_speed    epochs    iterations    samples    training_rmse    training_logloss    training_r2    training_classification_error    validation_rmse    validation_logloss    validation_r2    validation_classification_error\n",
       "--  -------------------  ----------  ----------------  --------  ------------  ---------  ---------------  ------------------  -------------  -------------------------------  -----------------  --------------------  ---------------  ---------------------------------\n",
       "    2018-10-15 18:22:09  0.000 sec                     0         0             0          nan              nan                 nan            nan                              nan                nan                   nan              nan\n",
       "    2018-10-15 18:22:09  1.237 sec   186000 obs/sec    1.04578   1             1302       0.462809         0.678095            0.729451       0.272289                         0.453136           0.660624              0.722037         0.262136\n",
       "    2018-10-15 18:22:09  1.308 sec   201828 obs/sec    11.3478   11            14128      0.236563         0.182079            0.929313       0.0650602                        0.252741           0.202945              0.913527         0.0841424"
      ]
     },
     "metadata": {},
     "output_type": "display_data"
    },
    {
     "name": "stdout",
     "output_type": "stream",
     "text": [
      "Variable Importances: \n"
     ]
    },
    {
     "data": {
      "text/html": [
       "<div style=\"overflow:auto\"><table style=\"width:50%\"><tr><td><b>variable</b></td>\n",
       "<td><b>relative_importance</b></td>\n",
       "<td><b>scaled_importance</b></td>\n",
       "<td><b>percentage</b></td></tr>\n",
       "<tr><td>safety.high</td>\n",
       "<td>1.0</td>\n",
       "<td>1.0</td>\n",
       "<td>0.0871894</td></tr>\n",
       "<tr><td>maint.vhigh</td>\n",
       "<td>0.9426842</td>\n",
       "<td>0.9426842</td>\n",
       "<td>0.0821921</td></tr>\n",
       "<tr><td>persons</td>\n",
       "<td>0.8620753</td>\n",
       "<td>0.8620753</td>\n",
       "<td>0.0751638</td></tr>\n",
       "<tr><td>safety.low</td>\n",
       "<td>0.8315789</td>\n",
       "<td>0.8315789</td>\n",
       "<td>0.0725049</td></tr>\n",
       "<tr><td>maint.high</td>\n",
       "<td>0.7918141</td>\n",
       "<td>0.7918141</td>\n",
       "<td>0.0690378</td></tr>\n",
       "<tr><td>---</td>\n",
       "<td>---</td>\n",
       "<td>---</td>\n",
       "<td>---</td></tr>\n",
       "<tr><td>doors</td>\n",
       "<td>0.3151335</td>\n",
       "<td>0.3151335</td>\n",
       "<td>0.0274763</td></tr>\n",
       "<tr><td>buying.missing(NA)</td>\n",
       "<td>0.0</td>\n",
       "<td>0.0</td>\n",
       "<td>0.0</td></tr>\n",
       "<tr><td>maint.missing(NA)</td>\n",
       "<td>0.0</td>\n",
       "<td>0.0</td>\n",
       "<td>0.0</td></tr>\n",
       "<tr><td>lug_boot.missing(NA)</td>\n",
       "<td>0.0</td>\n",
       "<td>0.0</td>\n",
       "<td>0.0</td></tr>\n",
       "<tr><td>safety.missing(NA)</td>\n",
       "<td>0.0</td>\n",
       "<td>0.0</td>\n",
       "<td>0.0</td></tr></table></div>"
      ],
      "text/plain": [
       "variable              relative_importance    scaled_importance    percentage\n",
       "--------------------  ---------------------  -------------------  --------------------\n",
       "safety.high           1.0                    1.0                  0.08718939269698223\n",
       "maint.vhigh           0.9426842331886292     0.9426842331886292   0.08219206579673696\n",
       "persons               0.8620752692222595     0.8620752692222595   0.07516381918257627\n",
       "safety.low            0.8315789103507996     0.8315789103507996   0.07250486017310445\n",
       "maint.high            0.7918141484260559     0.7918141484260559   0.06903779473014596\n",
       "---                   ---                    ---                  ---\n",
       "doors                 0.3151334822177887     0.3151334822177887   0.027476296933054246\n",
       "buying.missing(NA)    0.0                    0.0                  0.0\n",
       "maint.missing(NA)     0.0                    0.0                  0.0\n",
       "lug_boot.missing(NA)  0.0                    0.0                  0.0\n",
       "safety.missing(NA)    0.0                    0.0                  0.0"
      ]
     },
     "metadata": {},
     "output_type": "display_data"
    },
    {
     "name": "stdout",
     "output_type": "stream",
     "text": [
      "\n",
      "See the whole table with table.as_data_frame()\n"
     ]
    },
    {
     "data": {
      "text/plain": [
       "<bound method H2OMultinomialModel.confusion_matrix of >"
      ]
     },
     "execution_count": 143,
     "metadata": {},
     "output_type": "execute_result"
    }
   ],
   "source": [
    "varImp.confusion_matrix"
   ]
  },
  {
   "cell_type": "code",
   "execution_count": 148,
   "metadata": {
    "scrolled": true
   },
   "outputs": [
    {
     "name": "stdout",
     "output_type": "stream",
     "text": [
      "\n",
      "ModelMetricsMultinomial: deeplearning\n",
      "** Reported on train data. **\n",
      "\n",
      "MSE: 0.05596219173676882\n",
      "RMSE: 0.23656329329963433\n",
      "LogLoss: 0.18207870584127683\n",
      "Mean Per-Class Error: 0.17479321300044984\n",
      "Confusion Matrix: Row labels: Actual class; Column labels: Predicted class\n",
      "\n"
     ]
    },
    {
     "data": {
      "text/html": [
       "<div style=\"overflow:auto\"><table style=\"width:50%\"><tr><td><b>acc</b></td>\n",
       "<td><b>good</b></td>\n",
       "<td><b>unacc</b></td>\n",
       "<td><b>vgood</b></td>\n",
       "<td><b>Error</b></td>\n",
       "<td><b>Rate</b></td></tr>\n",
       "<tr><td>273.0</td>\n",
       "<td>2.0</td>\n",
       "<td>13.0</td>\n",
       "<td>0.0</td>\n",
       "<td>0.0520833</td>\n",
       "<td>15 / 288</td></tr>\n",
       "<tr><td>11.0</td>\n",
       "<td>34.0</td>\n",
       "<td>0.0</td>\n",
       "<td>7.0</td>\n",
       "<td>0.3461538</td>\n",
       "<td>18 / 52</td></tr>\n",
       "<tr><td>34.0</td>\n",
       "<td>0.0</td>\n",
       "<td>820.0</td>\n",
       "<td>1.0</td>\n",
       "<td>0.0409357</td>\n",
       "<td>35 / 855</td></tr>\n",
       "<tr><td>3.0</td>\n",
       "<td>10.0</td>\n",
       "<td>0.0</td>\n",
       "<td>37.0</td>\n",
       "<td>0.26</td>\n",
       "<td>13 / 50</td></tr>\n",
       "<tr><td>321.0</td>\n",
       "<td>46.0</td>\n",
       "<td>833.0</td>\n",
       "<td>45.0</td>\n",
       "<td>0.0650602</td>\n",
       "<td>81 / 1,245</td></tr></table></div>"
      ],
      "text/plain": [
       "acc    good    unacc    vgood    Error      Rate\n",
       "-----  ------  -------  -------  ---------  ----------\n",
       "273    2       13       0        0.0520833  15 / 288\n",
       "11     34      0        7        0.346154   18 / 52\n",
       "34     0       820      1        0.0409357  35 / 855\n",
       "3      10      0        37       0.26       13 / 50\n",
       "321    46      833      45       0.0650602  81 / 1,245"
      ]
     },
     "metadata": {},
     "output_type": "display_data"
    },
    {
     "name": "stdout",
     "output_type": "stream",
     "text": [
      "Top-4 Hit Ratios: \n"
     ]
    },
    {
     "data": {
      "text/html": [
       "<div style=\"overflow:auto\"><table style=\"width:50%\"><tr><td><b>k</b></td>\n",
       "<td><b>hit_ratio</b></td></tr>\n",
       "<tr><td>1</td>\n",
       "<td>0.9349397</td></tr>\n",
       "<tr><td>2</td>\n",
       "<td>0.9943775</td></tr>\n",
       "<tr><td>3</td>\n",
       "<td>0.9991968</td></tr>\n",
       "<tr><td>4</td>\n",
       "<td>1.0</td></tr></table></div>"
      ],
      "text/plain": [
       "k    hit_ratio\n",
       "---  -----------\n",
       "1    0.93494\n",
       "2    0.994378\n",
       "3    0.999197\n",
       "4    1"
      ]
     },
     "metadata": {},
     "output_type": "display_data"
    }
   ],
   "source": [
    "roc=varImp.model_performance()\n",
    "roc.show()"
   ]
  },
  {
   "cell_type": "code",
   "execution_count": 156,
   "metadata": {},
   "outputs": [
    {
     "data": {
      "text/html": [
       "<table>\n",
       "<thead>\n",
       "<tr><th>predict  </th><th style=\"text-align: right;\">        acc</th><th style=\"text-align: right;\">       good</th><th style=\"text-align: right;\">   unacc</th><th style=\"text-align: right;\">      vgood</th></tr>\n",
       "</thead>\n",
       "<tbody>\n",
       "<tr><td>unacc    </td><td style=\"text-align: right;\">0.000866648</td><td style=\"text-align: right;\">1.82336e-05</td><td style=\"text-align: right;\">0.999088</td><td style=\"text-align: right;\">2.72623e-05</td></tr>\n",
       "<tr><td>unacc    </td><td style=\"text-align: right;\">0.000866466</td><td style=\"text-align: right;\">1.82153e-05</td><td style=\"text-align: right;\">0.999088</td><td style=\"text-align: right;\">2.72577e-05</td></tr>\n",
       "<tr><td>unacc    </td><td style=\"text-align: right;\">0.00127717 </td><td style=\"text-align: right;\">3.53003e-05</td><td style=\"text-align: right;\">0.998647</td><td style=\"text-align: right;\">4.01343e-05</td></tr>\n",
       "<tr><td>unacc    </td><td style=\"text-align: right;\">0.000871765</td><td style=\"text-align: right;\">1.85661e-05</td><td style=\"text-align: right;\">0.999082</td><td style=\"text-align: right;\">2.74108e-05</td></tr>\n",
       "<tr><td>unacc    </td><td style=\"text-align: right;\">0.00122566 </td><td style=\"text-align: right;\">2.98771e-05</td><td style=\"text-align: right;\">0.998704</td><td style=\"text-align: right;\">4.05198e-05</td></tr>\n",
       "<tr><td>unacc    </td><td style=\"text-align: right;\">0.000897944</td><td style=\"text-align: right;\">1.90879e-05</td><td style=\"text-align: right;\">0.999053</td><td style=\"text-align: right;\">2.98528e-05</td></tr>\n",
       "<tr><td>unacc    </td><td style=\"text-align: right;\">0.00129051 </td><td style=\"text-align: right;\">3.08591e-05</td><td style=\"text-align: right;\">0.998633</td><td style=\"text-align: right;\">4.59316e-05</td></tr>\n",
       "<tr><td>unacc    </td><td style=\"text-align: right;\">0.000867116</td><td style=\"text-align: right;\">1.82684e-05</td><td style=\"text-align: right;\">0.999087</td><td style=\"text-align: right;\">2.72783e-05</td></tr>\n",
       "<tr><td>unacc    </td><td style=\"text-align: right;\">0.00121806 </td><td style=\"text-align: right;\">3.40517e-05</td><td style=\"text-align: right;\">0.99871 </td><td style=\"text-align: right;\">3.83169e-05</td></tr>\n",
       "<tr><td>unacc    </td><td style=\"text-align: right;\">0.000907715</td><td style=\"text-align: right;\">1.9436e-05 </td><td style=\"text-align: right;\">0.999043</td><td style=\"text-align: right;\">3.01462e-05</td></tr>\n",
       "</tbody>\n",
       "</table>"
      ]
     },
     "metadata": {},
     "output_type": "display_data"
    },
    {
     "data": {
      "text/plain": []
     },
     "execution_count": 156,
     "metadata": {},
     "output_type": "execute_result"
    }
   ],
   "source": []
  },
  {
   "cell_type": "code",
   "execution_count": null,
   "metadata": {},
   "outputs": [],
   "source": []
  },
  {
   "cell_type": "code",
   "execution_count": 119,
   "metadata": {},
   "outputs": [],
   "source": [
    "#os.chdir(server_path)"
   ]
  },
  {
   "cell_type": "code",
   "execution_count": 120,
   "metadata": {},
   "outputs": [],
   "source": [
    "#h2o.cluster().shutdown()"
   ]
  }
 ],
 "metadata": {
  "kernelspec": {
   "display_name": "Python 3",
   "language": "python",
   "name": "python3"
  },
  "language_info": {
   "codemirror_mode": {
    "name": "ipython",
    "version": 3
   },
   "file_extension": ".py",
   "mimetype": "text/x-python",
   "name": "python",
   "nbconvert_exporter": "python",
   "pygments_lexer": "ipython3",
   "version": "3.6.5"
  }
 },
 "nbformat": 4,
 "nbformat_minor": 2
}
