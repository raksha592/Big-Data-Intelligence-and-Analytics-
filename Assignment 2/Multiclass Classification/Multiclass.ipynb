{
 "cells": [
  {
   "cell_type": "markdown",
   "metadata": {},
   "source": [
    "## Multiclass Classification"
   ]
  },
  {
   "cell_type": "code",
   "execution_count": 75,
   "metadata": {},
   "outputs": [],
   "source": [
    "import h2o\n",
    "from h2o.automl import H2OAutoML\n",
    "import random, os, sys\n",
    "from datetime import datetime\n",
    "import pandas as pd\n",
    "import logging\n",
    "import csv\n",
    "import optparse\n",
    "import time\n",
    "import json\n",
    "from distutils.util import strtobool"
   ]
  },
  {
   "cell_type": "markdown",
   "metadata": {},
   "source": [
    "Initialize the variable"
   ]
  },
  {
   "cell_type": "code",
   "execution_count": 76,
   "metadata": {},
   "outputs": [],
   "source": [
    "data_path=None\n",
    "all_variables=None\n",
    "test_path=None\n",
    "target=None\n",
    "nthreads=1 \n",
    "min_mem_size=6 \n",
    "run_time=333\n",
    "classification=False\n",
    "scale=False\n",
    "max_models=9    \n",
    "model_path=None\n",
    "balance_y=False \n",
    "balance_threshold=0.2\n",
    "name=None \n",
    "server_path=None  \n",
    "analysis=0"
   ]
  },
  {
   "cell_type": "markdown",
   "metadata": {},
   "source": [
    "Starter functions for the AutoML model"
   ]
  },
  {
   "cell_type": "code",
   "execution_count": 77,
   "metadata": {},
   "outputs": [],
   "source": [
    "def alphabet(n):\n",
    "    alpha='0123456789abcdefghijklmnopqrstuvwxyzABCDEFGHIJKLMNOPQRSTUVWXYZ'    \n",
    "    str=''\n",
    "    r=len(alpha)-1   \n",
    "    while len(str)<n:\n",
    "        i=random.randint(0,r)\n",
    "        str+=alpha[i]   \n",
    "    return str\n",
    "\n",
    "def set_meta_data(run_id,analysis,target,run_time,classification,scale,model,balance,balance_threshold,name,nthreads,min_mem_size):\n",
    "    m_data={}\n",
    "    m_data['run_id'] =run_id\n",
    "    m_data['start_time'] = time.time()\n",
    "    m_data['target']=target\n",
    "    m_data['max_models']=model\n",
    "    m_data['run_time']=run_time\n",
    "    m_data['scale']=scale\n",
    "    m_data['classification']=classification\n",
    "    m_data['scale']=False\n",
    "    m_data['balance']=balance\n",
    "    m_data['balance_threshold']=balance_threshold\n",
    "    m_data['project'] =name\n",
    "    m_data['end_time'] = time.time()\n",
    "    m_data['execution_time'] = 0.0\n",
    "    m_data['nthreads'] = nthreads\n",
    "    m_data['min_mem_size'] = min_mem_size\n",
    "    m_data['analysis'] = analysis\n",
    "    return m_data\n",
    "\n",
    "def dict_to_json(dct,n):\n",
    "    j = json.dumps(dct, indent=4)\n",
    "    f = open(n, 'w')\n",
    "    print(j, file=f)\n",
    "    f.close()\n",
    "    \n",
    "def stackedensemble(mod):\n",
    "    coef_norm=None\n",
    "    try:\n",
    "        metalearner = h2o.get_model(mod.metalearner()['name'])\n",
    "        coef_norm=metalearner.coef_norm()\n",
    "    except:\n",
    "        pass        \n",
    "    return coef_norm\n",
    "\n",
    "def stackedensemble_df(df):\n",
    "    bm_algo={ 'GBM': None,'GLM': None,'DRF': None,'XRT': None,'Dee': None}\n",
    "    for index, row in df.iterrows():\n",
    "        if len(row['model_id'])>3:\n",
    "            key=row['model_id'][0:3]\n",
    "            if key in bm_algo:\n",
    "                if bm_algo[key] is None:\n",
    "                    bm_algo[key]=row['model_id']\n",
    "    bm=list(bm_algo.values()) \n",
    "    bm=list(filter(None.__ne__, bm))             \n",
    "    return bm\n",
    "\n",
    "def se_stats(modl):\n",
    "    d={}\n",
    "    d['algo']=modl.algo\n",
    "    d['model_id']=modl.model_id   \n",
    "    d['auc']=modl.auc()   \n",
    "    d['roc']=modl.roc()\n",
    "    d['mse']=modl.mse()   \n",
    "    d['null_degrees_of_freedom']=modl.null_degrees_of_freedom()\n",
    "    d['null_deviance']=modl.null_deviance()\n",
    "    d['residual_degrees_of_freedom']=modl.residual_degrees_of_freedom()   \n",
    "    d['residual_deviance']=modl.residual_deviance()\n",
    "    d['rmse']=modl.rmse()\n",
    "    return d\n",
    "\n",
    "def get_model_by_algo(algo,models_dict):\n",
    "    mod=None\n",
    "    mod_id=None    \n",
    "    for m in list(models_dict.keys()):\n",
    "        if m[0:3]==algo:\n",
    "            mod_id=m\n",
    "            mod=h2o.get_model(m)      \n",
    "    return mod,mod_id\n",
    "\n",
    "def gbm_stats(modl):\n",
    "    d={}\n",
    "    d['algo']=modl.algo\n",
    "    d['model_id']=modl.model_id   \n",
    "    d['varimp']=modl.varimp()  \n",
    "    return d\n",
    "    \n",
    "    \n",
    "def dl_stats(modl):\n",
    "    d={}\n",
    "    d['algo']=modl.algo\n",
    "    d['model_id']=modl.model_id   \n",
    "    d['varimp']=modl.varimp()  \n",
    "    return d\n",
    "    \n",
    "    \n",
    "def drf_stats(modl):\n",
    "    d={}\n",
    "    d['algo']=modl.algo\n",
    "    d['model_id']=modl.model_id   \n",
    "    d['varimp']=modl.varimp()  \n",
    "    d['roc']=modl.roc()      \n",
    "    return d\n",
    "\n",
    "def xrt_stats(modl):\n",
    "    d={}\n",
    "    d['algo']=modl.algo\n",
    "    d['model_id']=modl.model_id   \n",
    "    d['varimp']=modl.varimp()  \n",
    "    d['roc']=modl.roc()      \n",
    "    return d\n",
    "    \n",
    "    \n",
    "def glm_stats(modl):\n",
    "    d={}\n",
    "    d['algo']=modl.algo\n",
    "    d['model_id']=modl.model_id   \n",
    "    d['coef']=modl.coef()  \n",
    "    d['coef_norm']=modl.coef_norm()      \n",
    "    return d\n",
    "\n",
    "def model_performance_stats(perf):\n",
    "    d={}\n",
    "    try:    \n",
    "        d['mse']=perf.mse()\n",
    "    except:\n",
    "        pass      \n",
    "    try:    \n",
    "        d['rmse']=perf.rmse() \n",
    "    except:\n",
    "        pass      \n",
    "    try:    \n",
    "        d['null_degrees_of_freedom']=perf.null_degrees_of_freedom()\n",
    "    except:\n",
    "        pass      \n",
    "    try:    \n",
    "        d['residual_degrees_of_freedom']=perf.residual_degrees_of_freedom()\n",
    "    except:\n",
    "        pass      \n",
    "    try:    \n",
    "        d['residual_deviance']=perf.residual_deviance() \n",
    "    except:\n",
    "        pass      \n",
    "    try:    \n",
    "        d['null_deviance']=perf.null_deviance() \n",
    "    except:\n",
    "        pass      \n",
    "    try:    \n",
    "        d['aic']=perf.aic() \n",
    "    except:\n",
    "        pass      \n",
    "    try:\n",
    "        d['logloss']=perf.logloss() \n",
    "    except:\n",
    "        pass    \n",
    "    try:\n",
    "        d['auc']=perf.auc()\n",
    "    except:\n",
    "        pass  \n",
    "    try:\n",
    "        d['gini']=perf.gini()\n",
    "    except:\n",
    "        pass    \n",
    "    return d\n",
    "\n",
    "def impute_missing_values(df, x, scal=False):\n",
    "    # determine column types\n",
    "    ints, reals, enums = [], [], []\n",
    "    for key, val in df.types.items():\n",
    "        if key in x:\n",
    "            if val == 'enum':\n",
    "                enums.append(key)\n",
    "            elif val == 'int':\n",
    "                ints.append(key)            \n",
    "            else: \n",
    "                reals.append(key)    \n",
    "    _ = df[reals].impute(method='mean')\n",
    "    _ = df[ints].impute(method='median')\n",
    "    if scal:\n",
    "        df[reals] = df[reals].scale()\n",
    "        df[ints] = df[ints].scale()    \n",
    "    return\n",
    "\n",
    "\n",
    "def get_independent_variables(df, targ):\n",
    "    C = [name for name in df.columns if name != targ]\n",
    "    # determine column types\n",
    "    ints, reals, enums = [], [], []\n",
    "    for key, val in df.types.items():\n",
    "        if key in C:\n",
    "            if val == 'enum':\n",
    "                enums.append(key)\n",
    "            elif val == 'int':\n",
    "                ints.append(key)            \n",
    "            else: \n",
    "                reals.append(key)    \n",
    "    x=ints+enums+reals\n",
    "    return x\n",
    "    \n",
    "def get_all_variables_csv(i):\n",
    "    ivd={}\n",
    "    try:\n",
    "        iv = pd.read_csv(i,header=None)\n",
    "    except:\n",
    "        sys.exit(1)    \n",
    "    col=iv.values.tolist()[0]\n",
    "    dt=iv.values.tolist()[1]\n",
    "    i=0\n",
    "    for c in col:\n",
    "        ivd[c.strip()]=dt[i].strip()\n",
    "        i+=1        \n",
    "    return ivd\n",
    "    \n",
    "    \n",
    "\n",
    "def check_all_variables(df,dct,y=None):     \n",
    "    targ=list(dct.keys())     \n",
    "    for key, val in df.types.items():\n",
    "        if key in targ:\n",
    "            if dct[key] not in ['real','int','enum']:                      \n",
    "                targ.remove(key)  \n",
    "    for key, val in df.types.items():\n",
    "        if key in targ:            \n",
    "            if dct[key] != val:\n",
    "                print('convert ',key,' ',dct[key],' ',val)\n",
    "            if dct[key]=='enum':\n",
    "                try:\n",
    "                    df[key] = df[key].asfactor() \n",
    "                except:\n",
    "                    targ.remove(key)                 \n",
    "            if dct[key]=='int': \n",
    "                try:                \n",
    "                    df[key] = df[key].asnumeric() \n",
    "                except:\n",
    "                    targ.remove(key)                  \n",
    "            if dct[key]=='real':\n",
    "                try:                \n",
    "                    df[key] = df[key].asnumeric()  \n",
    "                except:\n",
    "                    targ.remove(key)                  \n",
    "    if y is None:\n",
    "        y=df.columns[-1] \n",
    "    if y in targ:\n",
    "        targ.remove(y)\n",
    "    else:\n",
    "        y=targ.pop()            \n",
    "    return targ\n",
    "\n",
    "def check_X(x,df):\n",
    "    for name in x:\n",
    "        if name not in df.columns:\n",
    "            x.remove(name)  \n",
    "    return x \n",
    "\n",
    "def get_stacked_ensemble(lst):\n",
    "    se=None\n",
    "    for model in model_set:\n",
    "        if 'BestOfFamily' in model:\n",
    "            se=model\n",
    "        if se is None:     \n",
    "            for model in model_set:\n",
    "                if 'AllModels'in model:\n",
    "                    se=model           \n",
    "    return se \n",
    "\n",
    "def get_variables_types(df):\n",
    "    d={}\n",
    "    for key, val in df.types.items():\n",
    "        d[key]=val           \n",
    "    return d "
   ]
  },
  {
   "cell_type": "markdown",
   "metadata": {},
   "source": [
    "Add column headers to the dataset"
   ]
  },
  {
   "cell_type": "code",
   "execution_count": 78,
   "metadata": {},
   "outputs": [],
   "source": [
    "data_path= 'car.csv'"
   ]
  },
  {
   "cell_type": "code",
   "execution_count": 79,
   "metadata": {},
   "outputs": [],
   "source": [
    "df=pd.read_csv(data_path)"
   ]
  },
  {
   "cell_type": "code",
   "execution_count": 80,
   "metadata": {},
   "outputs": [],
   "source": [
    "df.columns=['buying','maint','doors','persons','lug_boot','safety','class']"
   ]
  },
  {
   "cell_type": "code",
   "execution_count": 81,
   "metadata": {},
   "outputs": [],
   "source": [
    "df.to_csv(\"car_clean.csv\")"
   ]
  },
  {
   "cell_type": "code",
   "execution_count": 82,
   "metadata": {},
   "outputs": [],
   "source": [
    "data_path=\"car_clean.csv\""
   ]
  },
  {
   "cell_type": "code",
   "execution_count": 83,
   "metadata": {},
   "outputs": [],
   "source": [
    "data_path = os.path.join(os.path.abspath(os.curdir),data_path)"
   ]
  },
  {
   "cell_type": "code",
   "execution_count": 84,
   "metadata": {},
   "outputs": [],
   "source": [
    "all_variables=None"
   ]
  },
  {
   "cell_type": "markdown",
   "metadata": {},
   "source": [
    "Create a directory to store all the results"
   ]
  },
  {
   "cell_type": "code",
   "execution_count": 85,
   "metadata": {},
   "outputs": [
    {
     "name": "stdout",
     "output_type": "stream",
     "text": [
      "rY5hrHhNl\n"
     ]
    }
   ],
   "source": [
    "run_id=alphabet(9)\n",
    "# run_id to std out\n",
    "print (run_id)"
   ]
  },
  {
   "cell_type": "code",
   "execution_count": 86,
   "metadata": {},
   "outputs": [],
   "source": [
    "server_path=os.path.abspath(os.curdir)\n",
    "os.chdir(server_path) \n",
    "run_dir = os.path.join(server_path,run_id)\n",
    "os.mkdir(run_dir)\n",
    "os.chdir(run_dir)"
   ]
  },
  {
   "cell_type": "markdown",
   "metadata": {},
   "source": [
    "Initialize H2O and import the data"
   ]
  },
  {
   "cell_type": "code",
   "execution_count": 87,
   "metadata": {},
   "outputs": [
    {
     "name": "stdout",
     "output_type": "stream",
     "text": [
      "Checking whether there is an H2O instance running at http://localhost:33958..... not found.\n",
      "Attempting to start a local H2O server...\n",
      "; Java HotSpot(TM) 64-Bit Server VM (build 25.141-b15, mixed mode)\n",
      "  Starting server from C:\\ProgramData\\Anaconda3\\lib\\site-packages\\h2o\\backend\\bin\\h2o.jar\n",
      "  Ice root: C:\\Users\\raksh\\AppData\\Local\\Temp\\tmpkrc5lpg1\n",
      "  JVM stdout: C:\\Users\\raksh\\AppData\\Local\\Temp\\tmpkrc5lpg1\\h2o_raksha_started_from_python.out\n",
      "  JVM stderr: C:\\Users\\raksh\\AppData\\Local\\Temp\\tmpkrc5lpg1\\h2o_raksha_started_from_python.err\n",
      "  Server is running at http://127.0.0.1:33958\n",
      "Connecting to H2O server at http://127.0.0.1:33958... successful.\n"
     ]
    },
    {
     "data": {
      "text/html": [
       "<div style=\"overflow:auto\"><table style=\"width:50%\"><tr><td>H2O cluster uptime:</td>\n",
       "<td>03 secs</td></tr>\n",
       "<tr><td>H2O cluster timezone:</td>\n",
       "<td>America/New_York</td></tr>\n",
       "<tr><td>H2O data parsing timezone:</td>\n",
       "<td>UTC</td></tr>\n",
       "<tr><td>H2O cluster version:</td>\n",
       "<td>3.20.0.8</td></tr>\n",
       "<tr><td>H2O cluster version age:</td>\n",
       "<td>24 days </td></tr>\n",
       "<tr><td>H2O cluster name:</td>\n",
       "<td>H2O_from_python_raksha_6i4pyj</td></tr>\n",
       "<tr><td>H2O cluster total nodes:</td>\n",
       "<td>1</td></tr>\n",
       "<tr><td>H2O cluster free memory:</td>\n",
       "<td>5.750 Gb</td></tr>\n",
       "<tr><td>H2O cluster total cores:</td>\n",
       "<td>4</td></tr>\n",
       "<tr><td>H2O cluster allowed cores:</td>\n",
       "<td>4</td></tr>\n",
       "<tr><td>H2O cluster status:</td>\n",
       "<td>accepting new members, healthy</td></tr>\n",
       "<tr><td>H2O connection url:</td>\n",
       "<td>http://127.0.0.1:33958</td></tr>\n",
       "<tr><td>H2O connection proxy:</td>\n",
       "<td>None</td></tr>\n",
       "<tr><td>H2O internal security:</td>\n",
       "<td>False</td></tr>\n",
       "<tr><td>H2O API Extensions:</td>\n",
       "<td>Algos, AutoML, Core V3, Core V4</td></tr>\n",
       "<tr><td>Python version:</td>\n",
       "<td>3.6.5 final</td></tr></table></div>"
      ],
      "text/plain": [
       "--------------------------  -------------------------------\n",
       "H2O cluster uptime:         03 secs\n",
       "H2O cluster timezone:       America/New_York\n",
       "H2O data parsing timezone:  UTC\n",
       "H2O cluster version:        3.20.0.8\n",
       "H2O cluster version age:    24 days\n",
       "H2O cluster name:           H2O_from_python_raksha_6i4pyj\n",
       "H2O cluster total nodes:    1\n",
       "H2O cluster free memory:    5.750 Gb\n",
       "H2O cluster total cores:    4\n",
       "H2O cluster allowed cores:  4\n",
       "H2O cluster status:         accepting new members, healthy\n",
       "H2O connection url:         http://127.0.0.1:33958\n",
       "H2O connection proxy:\n",
       "H2O internal security:      False\n",
       "H2O API Extensions:         Algos, AutoML, Core V3, Core V4\n",
       "Python version:             3.6.5 final\n",
       "--------------------------  -------------------------------"
      ]
     },
     "metadata": {},
     "output_type": "display_data"
    }
   ],
   "source": [
    "port_no=random.randint(5555,55555)\n",
    "h2o.init(strict_version_check=False,min_mem_size_GB=6,port=port_no)"
   ]
  },
  {
   "cell_type": "code",
   "execution_count": 88,
   "metadata": {},
   "outputs": [
    {
     "name": "stdout",
     "output_type": "stream",
     "text": [
      "{'run_id': 'rY5hrHhNl', 'start_time': 1539722312.2699974, 'target': None, 'max_models': 9, 'run_time': 333, 'scale': False, 'classification': False, 'balance': False, 'balance_threshold': 0.2, 'project': None, 'end_time': 1539722312.2699974, 'execution_time': 0.0, 'nthreads': 1, 'min_mem_size': 6, 'analysis': 0}\n"
     ]
    }
   ],
   "source": [
    "meta_data = set_meta_data(run_id,analysis,target,run_time,classification,scale,max_models,balance_y,balance_threshold,name,nthreads,min_mem_size)\n",
    "print(meta_data)"
   ]
  },
  {
   "cell_type": "code",
   "execution_count": 89,
   "metadata": {},
   "outputs": [
    {
     "name": "stdout",
     "output_type": "stream",
     "text": [
      "Parse progress: |█████████████████████████████████████████████████████████| 100%\n"
     ]
    }
   ],
   "source": [
    "df = h2o.import_file(data_path)"
   ]
  },
  {
   "cell_type": "code",
   "execution_count": 90,
   "metadata": {},
   "outputs": [
    {
     "name": "stdout",
     "output_type": "stream",
     "text": [
      "Rows:1727\n",
      "Cols:8\n",
      "\n",
      "\n"
     ]
    },
    {
     "data": {
      "text/html": [
       "<table>\n",
       "<thead>\n",
       "<tr><th>       </th><th>C1               </th><th>buying  </th><th>maint  </th><th>doors             </th><th>persons           </th><th>lug_boot  </th><th>safety  </th><th>class  </th></tr>\n",
       "</thead>\n",
       "<tbody>\n",
       "<tr><td>type   </td><td>int              </td><td>enum    </td><td>enum   </td><td>int               </td><td>int               </td><td>enum      </td><td>enum    </td><td>enum   </td></tr>\n",
       "<tr><td>mins   </td><td>0.0              </td><td>        </td><td>       </td><td>2.0               </td><td>2.0               </td><td>          </td><td>        </td><td>       </td></tr>\n",
       "<tr><td>mean   </td><td>863.0            </td><td>        </td><td>       </td><td>3.0007722007722   </td><td>3.0008688097306666</td><td>          </td><td>        </td><td>       </td></tr>\n",
       "<tr><td>maxs   </td><td>1726.0           </td><td>        </td><td>       </td><td>4.0               </td><td>4.0               </td><td>          </td><td>        </td><td>       </td></tr>\n",
       "<tr><td>sigma  </td><td>498.6862741243236</td><td>        </td><td>       </td><td>0.8166539469613198</td><td>1.0004343105525066</td><td>          </td><td>        </td><td>       </td></tr>\n",
       "<tr><td>zeros  </td><td>1                </td><td>        </td><td>       </td><td>0                 </td><td>0                 </td><td>          </td><td>        </td><td>       </td></tr>\n",
       "<tr><td>missing</td><td>0                </td><td>0       </td><td>0      </td><td>432               </td><td>576               </td><td>0         </td><td>0       </td><td>0      </td></tr>\n",
       "<tr><td>0      </td><td>0.0              </td><td>vhigh   </td><td>vhigh  </td><td>2.0               </td><td>2.0               </td><td>small     </td><td>med     </td><td>unacc  </td></tr>\n",
       "<tr><td>1      </td><td>1.0              </td><td>vhigh   </td><td>vhigh  </td><td>2.0               </td><td>2.0               </td><td>small     </td><td>high    </td><td>unacc  </td></tr>\n",
       "<tr><td>2      </td><td>2.0              </td><td>vhigh   </td><td>vhigh  </td><td>2.0               </td><td>2.0               </td><td>med       </td><td>low     </td><td>unacc  </td></tr>\n",
       "<tr><td>3      </td><td>3.0              </td><td>vhigh   </td><td>vhigh  </td><td>2.0               </td><td>2.0               </td><td>med       </td><td>med     </td><td>unacc  </td></tr>\n",
       "<tr><td>4      </td><td>4.0              </td><td>vhigh   </td><td>vhigh  </td><td>2.0               </td><td>2.0               </td><td>med       </td><td>high    </td><td>unacc  </td></tr>\n",
       "<tr><td>5      </td><td>5.0              </td><td>vhigh   </td><td>vhigh  </td><td>2.0               </td><td>2.0               </td><td>big       </td><td>low     </td><td>unacc  </td></tr>\n",
       "<tr><td>6      </td><td>6.0              </td><td>vhigh   </td><td>vhigh  </td><td>2.0               </td><td>2.0               </td><td>big       </td><td>med     </td><td>unacc  </td></tr>\n",
       "<tr><td>7      </td><td>7.0              </td><td>vhigh   </td><td>vhigh  </td><td>2.0               </td><td>2.0               </td><td>big       </td><td>high    </td><td>unacc  </td></tr>\n",
       "<tr><td>8      </td><td>8.0              </td><td>vhigh   </td><td>vhigh  </td><td>2.0               </td><td>4.0               </td><td>small     </td><td>low     </td><td>unacc  </td></tr>\n",
       "<tr><td>9      </td><td>9.0              </td><td>vhigh   </td><td>vhigh  </td><td>2.0               </td><td>4.0               </td><td>small     </td><td>med     </td><td>unacc  </td></tr>\n",
       "</tbody>\n",
       "</table>"
      ]
     },
     "metadata": {},
     "output_type": "display_data"
    }
   ],
   "source": [
    "df.describe()"
   ]
  },
  {
   "cell_type": "code",
   "execution_count": 91,
   "metadata": {},
   "outputs": [],
   "source": [
    "y='class'"
   ]
  },
  {
   "cell_type": "code",
   "execution_count": 92,
   "metadata": {},
   "outputs": [
    {
     "name": "stdout",
     "output_type": "stream",
     "text": [
      "None\n"
     ]
    }
   ],
   "source": [
    "print(all_variables)"
   ]
  },
  {
   "cell_type": "markdown",
   "metadata": {},
   "source": [
    "Check and impute the missing values"
   ]
  },
  {
   "cell_type": "code",
   "execution_count": 93,
   "metadata": {},
   "outputs": [],
   "source": [
    "X = []  \n",
    "if all_variables is None:\n",
    "    X=get_independent_variables(df, y)  \n",
    "else: \n",
    "    ivd=get_all_variables_csv(all_variables)    \n",
    "    X=check_all_variables(df, ivd)\n",
    "\n",
    "\n",
    "X=check_X(X,df)\n",
    "\n",
    "\n",
    "# Add independent variables\n",
    "\n",
    "meta_data['X']=X  \n",
    "\n",
    "\n",
    "# impute missing values\n",
    "\n",
    "_=impute_missing_values(df,X, scale)"
   ]
  },
  {
   "cell_type": "code",
   "execution_count": 94,
   "metadata": {},
   "outputs": [],
   "source": [
    "df[y] = df[y].asfactor()"
   ]
  },
  {
   "cell_type": "code",
   "execution_count": 95,
   "metadata": {},
   "outputs": [],
   "source": [
    "def check_y(y,df):\n",
    "    ok=False\n",
    "    C = [name for name in df.columns if name == y]\n",
    "    for key, val in df.types.items():\n",
    "        if key in C:\n",
    "            if val in ['real','int','enum']:        \n",
    "                ok=True         \n",
    "    return ok, val"
   ]
  },
  {
   "cell_type": "code",
   "execution_count": 96,
   "metadata": {},
   "outputs": [],
   "source": [
    "ok,val=check_y(y,df)"
   ]
  },
  {
   "cell_type": "code",
   "execution_count": 97,
   "metadata": {},
   "outputs": [
    {
     "data": {
      "text/plain": [
       "True"
      ]
     },
     "execution_count": 97,
     "metadata": {},
     "output_type": "execute_result"
    }
   ],
   "source": [
    "ok"
   ]
  },
  {
   "cell_type": "code",
   "execution_count": 98,
   "metadata": {},
   "outputs": [
    {
     "data": {
      "text/plain": [
       "'enum'"
      ]
     },
     "execution_count": 98,
     "metadata": {},
     "output_type": "execute_result"
    }
   ],
   "source": [
    "val"
   ]
  },
  {
   "cell_type": "code",
   "execution_count": 99,
   "metadata": {},
   "outputs": [
    {
     "name": "stdout",
     "output_type": "stream",
     "text": [
      "[['acc', 'good', 'unacc', 'vgood']]\n"
     ]
    }
   ],
   "source": [
    "if val=='enum':\n",
    "    print(df[y].levels())"
   ]
  },
  {
   "cell_type": "code",
   "execution_count": 100,
   "metadata": {},
   "outputs": [
    {
     "data": {
      "text/plain": [
       "{'C1': 'int',\n",
       " 'buying': 'enum',\n",
       " 'maint': 'enum',\n",
       " 'doors': 'int',\n",
       " 'persons': 'int',\n",
       " 'lug_boot': 'enum',\n",
       " 'safety': 'enum',\n",
       " 'class': 'enum'}"
      ]
     },
     "execution_count": 100,
     "metadata": {},
     "output_type": "execute_result"
    }
   ],
   "source": [
    "allV=get_variables_types(df)\n",
    "allV"
   ]
  },
  {
   "cell_type": "code",
   "execution_count": 101,
   "metadata": {},
   "outputs": [],
   "source": [
    "meta_data['variables']=allV"
   ]
  },
  {
   "cell_type": "markdown",
   "metadata": {},
   "source": [
    "Split the dataframe into train and test and train the AutoML model"
   ]
  },
  {
   "cell_type": "code",
   "execution_count": 102,
   "metadata": {},
   "outputs": [],
   "source": [
    "train, test = df.split_frame([0.9])"
   ]
  },
  {
   "cell_type": "code",
   "execution_count": 103,
   "metadata": {},
   "outputs": [
    {
     "name": "stdout",
     "output_type": "stream",
     "text": [
      "AutoML progress: |████████████████████████████████████████████████████████| 100%\n"
     ]
    }
   ],
   "source": [
    "aml = H2OAutoML(max_runtime_secs=run_time,project_name = name)\n",
    "model_start_time = time.time()\n",
    "aml.train(x=X,y=y,training_frame=train)"
   ]
  },
  {
   "cell_type": "code",
   "execution_count": 104,
   "metadata": {},
   "outputs": [],
   "source": [
    "meta_data['model_execution_time'] = time.time() - model_start_time"
   ]
  },
  {
   "cell_type": "code",
   "execution_count": 105,
   "metadata": {},
   "outputs": [],
   "source": [
    "aml_leaderboard_df=aml.leaderboard.as_data_frame()"
   ]
  },
  {
   "cell_type": "code",
   "execution_count": 106,
   "metadata": {},
   "outputs": [
    {
     "data": {
      "text/html": [
       "<div>\n",
       "<style scoped>\n",
       "    .dataframe tbody tr th:only-of-type {\n",
       "        vertical-align: middle;\n",
       "    }\n",
       "\n",
       "    .dataframe tbody tr th {\n",
       "        vertical-align: top;\n",
       "    }\n",
       "\n",
       "    .dataframe thead th {\n",
       "        text-align: right;\n",
       "    }\n",
       "</style>\n",
       "<table border=\"1\" class=\"dataframe\">\n",
       "  <thead>\n",
       "    <tr style=\"text-align: right;\">\n",
       "      <th></th>\n",
       "      <th>model_id</th>\n",
       "      <th>mean_per_class_error</th>\n",
       "      <th>logloss</th>\n",
       "      <th>rmse</th>\n",
       "      <th>mse</th>\n",
       "    </tr>\n",
       "  </thead>\n",
       "  <tbody>\n",
       "    <tr>\n",
       "      <th>0</th>\n",
       "      <td>GBM_grid_0_AutoML_20181016_163834_model_4</td>\n",
       "      <td>0.069628</td>\n",
       "      <td>0.088664</td>\n",
       "      <td>0.161820</td>\n",
       "      <td>0.026186</td>\n",
       "    </tr>\n",
       "    <tr>\n",
       "      <th>1</th>\n",
       "      <td>GBM_grid_0_AutoML_20181016_163834_model_15</td>\n",
       "      <td>0.074684</td>\n",
       "      <td>0.077306</td>\n",
       "      <td>0.154214</td>\n",
       "      <td>0.023782</td>\n",
       "    </tr>\n",
       "    <tr>\n",
       "      <th>2</th>\n",
       "      <td>GBM_grid_0_AutoML_20181016_163834_model_29</td>\n",
       "      <td>0.075647</td>\n",
       "      <td>0.080587</td>\n",
       "      <td>0.157806</td>\n",
       "      <td>0.024903</td>\n",
       "    </tr>\n",
       "    <tr>\n",
       "      <th>3</th>\n",
       "      <td>GBM_grid_0_AutoML_20181016_163834_model_20</td>\n",
       "      <td>0.079460</td>\n",
       "      <td>0.076665</td>\n",
       "      <td>0.143319</td>\n",
       "      <td>0.020540</td>\n",
       "    </tr>\n",
       "    <tr>\n",
       "      <th>4</th>\n",
       "      <td>GBM_grid_0_AutoML_20181016_163834_model_24</td>\n",
       "      <td>0.079799</td>\n",
       "      <td>0.067735</td>\n",
       "      <td>0.143651</td>\n",
       "      <td>0.020636</td>\n",
       "    </tr>\n",
       "    <tr>\n",
       "      <th>5</th>\n",
       "      <td>GBM_grid_0_AutoML_20181016_163834_model_3</td>\n",
       "      <td>0.083010</td>\n",
       "      <td>0.074586</td>\n",
       "      <td>0.153693</td>\n",
       "      <td>0.023622</td>\n",
       "    </tr>\n",
       "    <tr>\n",
       "      <th>6</th>\n",
       "      <td>StackedEnsemble_AllModels_0_AutoML_20181016_163834</td>\n",
       "      <td>0.083403</td>\n",
       "      <td>0.089778</td>\n",
       "      <td>0.153544</td>\n",
       "      <td>0.023576</td>\n",
       "    </tr>\n",
       "    <tr>\n",
       "      <th>7</th>\n",
       "      <td>StackedEnsemble_BestOfFamily_0_AutoML_20181016_163834</td>\n",
       "      <td>0.091417</td>\n",
       "      <td>0.100942</td>\n",
       "      <td>0.167275</td>\n",
       "      <td>0.027981</td>\n",
       "    </tr>\n",
       "    <tr>\n",
       "      <th>8</th>\n",
       "      <td>GBM_grid_0_AutoML_20181016_163834_model_23</td>\n",
       "      <td>0.093816</td>\n",
       "      <td>0.117848</td>\n",
       "      <td>0.179147</td>\n",
       "      <td>0.032094</td>\n",
       "    </tr>\n",
       "    <tr>\n",
       "      <th>9</th>\n",
       "      <td>GBM_grid_0_AutoML_20181016_163834_model_18</td>\n",
       "      <td>0.094095</td>\n",
       "      <td>0.080581</td>\n",
       "      <td>0.156603</td>\n",
       "      <td>0.024525</td>\n",
       "    </tr>\n",
       "    <tr>\n",
       "      <th>10</th>\n",
       "      <td>GBM_grid_0_AutoML_20181016_163834_model_0</td>\n",
       "      <td>0.094951</td>\n",
       "      <td>0.091165</td>\n",
       "      <td>0.165188</td>\n",
       "      <td>0.027287</td>\n",
       "    </tr>\n",
       "    <tr>\n",
       "      <th>11</th>\n",
       "      <td>GBM_grid_0_AutoML_20181016_163834_model_1</td>\n",
       "      <td>0.095005</td>\n",
       "      <td>0.077438</td>\n",
       "      <td>0.156128</td>\n",
       "      <td>0.024376</td>\n",
       "    </tr>\n",
       "    <tr>\n",
       "      <th>12</th>\n",
       "      <td>GBM_grid_0_AutoML_20181016_163834_model_5</td>\n",
       "      <td>0.095580</td>\n",
       "      <td>0.133201</td>\n",
       "      <td>0.195265</td>\n",
       "      <td>0.038128</td>\n",
       "    </tr>\n",
       "    <tr>\n",
       "      <th>13</th>\n",
       "      <td>GBM_grid_0_AutoML_20181016_163834_model_13</td>\n",
       "      <td>0.096430</td>\n",
       "      <td>0.100959</td>\n",
       "      <td>0.174452</td>\n",
       "      <td>0.030433</td>\n",
       "    </tr>\n",
       "    <tr>\n",
       "      <th>14</th>\n",
       "      <td>GBM_grid_0_AutoML_20181016_163834_model_17</td>\n",
       "      <td>0.097947</td>\n",
       "      <td>0.121736</td>\n",
       "      <td>0.183706</td>\n",
       "      <td>0.033748</td>\n",
       "    </tr>\n",
       "    <tr>\n",
       "      <th>15</th>\n",
       "      <td>GBM_grid_0_AutoML_20181016_163834_model_14</td>\n",
       "      <td>0.097995</td>\n",
       "      <td>0.112386</td>\n",
       "      <td>0.182093</td>\n",
       "      <td>0.033158</td>\n",
       "    </tr>\n",
       "    <tr>\n",
       "      <th>16</th>\n",
       "      <td>GBM_grid_0_AutoML_20181016_163834_model_2</td>\n",
       "      <td>0.107790</td>\n",
       "      <td>0.078080</td>\n",
       "      <td>0.158135</td>\n",
       "      <td>0.025007</td>\n",
       "    </tr>\n",
       "    <tr>\n",
       "      <th>17</th>\n",
       "      <td>GBM_grid_0_AutoML_20181016_163834_model_8</td>\n",
       "      <td>0.108334</td>\n",
       "      <td>0.117128</td>\n",
       "      <td>0.191757</td>\n",
       "      <td>0.036771</td>\n",
       "    </tr>\n",
       "    <tr>\n",
       "      <th>18</th>\n",
       "      <td>GBM_grid_0_AutoML_20181016_163834_model_34</td>\n",
       "      <td>0.113475</td>\n",
       "      <td>0.095586</td>\n",
       "      <td>0.173799</td>\n",
       "      <td>0.030206</td>\n",
       "    </tr>\n",
       "    <tr>\n",
       "      <th>19</th>\n",
       "      <td>GBM_grid_0_AutoML_20181016_163834_model_30</td>\n",
       "      <td>0.114621</td>\n",
       "      <td>0.106575</td>\n",
       "      <td>0.183678</td>\n",
       "      <td>0.033737</td>\n",
       "    </tr>\n",
       "    <tr>\n",
       "      <th>20</th>\n",
       "      <td>GBM_grid_0_AutoML_20181016_163834_model_6</td>\n",
       "      <td>0.115557</td>\n",
       "      <td>0.157321</td>\n",
       "      <td>0.214342</td>\n",
       "      <td>0.045943</td>\n",
       "    </tr>\n",
       "    <tr>\n",
       "      <th>21</th>\n",
       "      <td>GBM_grid_0_AutoML_20181016_163834_model_16</td>\n",
       "      <td>0.119080</td>\n",
       "      <td>0.108085</td>\n",
       "      <td>0.180474</td>\n",
       "      <td>0.032571</td>\n",
       "    </tr>\n",
       "    <tr>\n",
       "      <th>22</th>\n",
       "      <td>GBM_grid_0_AutoML_20181016_163834_model_12</td>\n",
       "      <td>0.119445</td>\n",
       "      <td>0.104178</td>\n",
       "      <td>0.174014</td>\n",
       "      <td>0.030281</td>\n",
       "    </tr>\n",
       "    <tr>\n",
       "      <th>23</th>\n",
       "      <td>GBM_grid_0_AutoML_20181016_163834_model_21</td>\n",
       "      <td>0.121495</td>\n",
       "      <td>0.104191</td>\n",
       "      <td>0.176346</td>\n",
       "      <td>0.031098</td>\n",
       "    </tr>\n",
       "    <tr>\n",
       "      <th>24</th>\n",
       "      <td>GBM_grid_0_AutoML_20181016_163834_model_19</td>\n",
       "      <td>0.123405</td>\n",
       "      <td>1.318600</td>\n",
       "      <td>0.732451</td>\n",
       "      <td>0.536485</td>\n",
       "    </tr>\n",
       "    <tr>\n",
       "      <th>25</th>\n",
       "      <td>GBM_grid_0_AutoML_20181016_163834_model_7</td>\n",
       "      <td>0.130994</td>\n",
       "      <td>0.173628</td>\n",
       "      <td>0.229037</td>\n",
       "      <td>0.052458</td>\n",
       "    </tr>\n",
       "    <tr>\n",
       "      <th>26</th>\n",
       "      <td>GBM_grid_0_AutoML_20181016_163834_model_22</td>\n",
       "      <td>0.132000</td>\n",
       "      <td>0.169887</td>\n",
       "      <td>0.218626</td>\n",
       "      <td>0.047797</td>\n",
       "    </tr>\n",
       "    <tr>\n",
       "      <th>27</th>\n",
       "      <td>DRF_0_AutoML_20181016_163834</td>\n",
       "      <td>0.142983</td>\n",
       "      <td>0.175493</td>\n",
       "      <td>0.225361</td>\n",
       "      <td>0.050788</td>\n",
       "    </tr>\n",
       "    <tr>\n",
       "      <th>28</th>\n",
       "      <td>GBM_grid_0_AutoML_20181016_163834_model_9</td>\n",
       "      <td>0.155580</td>\n",
       "      <td>0.170676</td>\n",
       "      <td>0.230253</td>\n",
       "      <td>0.053016</td>\n",
       "    </tr>\n",
       "    <tr>\n",
       "      <th>29</th>\n",
       "      <td>GBM_grid_0_AutoML_20181016_163834_model_10</td>\n",
       "      <td>0.170151</td>\n",
       "      <td>0.191392</td>\n",
       "      <td>0.230891</td>\n",
       "      <td>0.053311</td>\n",
       "    </tr>\n",
       "    <tr>\n",
       "      <th>30</th>\n",
       "      <td>GBM_grid_0_AutoML_20181016_163834_model_25</td>\n",
       "      <td>0.193747</td>\n",
       "      <td>0.168654</td>\n",
       "      <td>0.230245</td>\n",
       "      <td>0.053013</td>\n",
       "    </tr>\n",
       "    <tr>\n",
       "      <th>31</th>\n",
       "      <td>GBM_grid_0_AutoML_20181016_163834_model_35</td>\n",
       "      <td>0.201041</td>\n",
       "      <td>0.218984</td>\n",
       "      <td>0.254445</td>\n",
       "      <td>0.064742</td>\n",
       "    </tr>\n",
       "    <tr>\n",
       "      <th>32</th>\n",
       "      <td>GLM_grid_0_AutoML_20181016_163834_model_0</td>\n",
       "      <td>0.226875</td>\n",
       "      <td>0.282138</td>\n",
       "      <td>0.307562</td>\n",
       "      <td>0.094594</td>\n",
       "    </tr>\n",
       "    <tr>\n",
       "      <th>33</th>\n",
       "      <td>GBM_grid_0_AutoML_20181016_163834_model_33</td>\n",
       "      <td>0.234221</td>\n",
       "      <td>0.235155</td>\n",
       "      <td>0.268174</td>\n",
       "      <td>0.071917</td>\n",
       "    </tr>\n",
       "    <tr>\n",
       "      <th>34</th>\n",
       "      <td>XRT_0_AutoML_20181016_163834</td>\n",
       "      <td>0.250659</td>\n",
       "      <td>0.264706</td>\n",
       "      <td>0.265640</td>\n",
       "      <td>0.070564</td>\n",
       "    </tr>\n",
       "    <tr>\n",
       "      <th>35</th>\n",
       "      <td>GBM_grid_0_AutoML_20181016_163834_model_26</td>\n",
       "      <td>0.376106</td>\n",
       "      <td>0.320625</td>\n",
       "      <td>0.322125</td>\n",
       "      <td>0.103764</td>\n",
       "    </tr>\n",
       "    <tr>\n",
       "      <th>36</th>\n",
       "      <td>DeepLearning_0_AutoML_20181016_163834</td>\n",
       "      <td>0.402303</td>\n",
       "      <td>0.301699</td>\n",
       "      <td>0.315626</td>\n",
       "      <td>0.099620</td>\n",
       "    </tr>\n",
       "    <tr>\n",
       "      <th>37</th>\n",
       "      <td>GBM_grid_0_AutoML_20181016_163834_model_28</td>\n",
       "      <td>0.450557</td>\n",
       "      <td>0.407820</td>\n",
       "      <td>0.362288</td>\n",
       "      <td>0.131252</td>\n",
       "    </tr>\n",
       "    <tr>\n",
       "      <th>38</th>\n",
       "      <td>GBM_grid_0_AutoML_20181016_163834_model_11</td>\n",
       "      <td>0.460965</td>\n",
       "      <td>1.327846</td>\n",
       "      <td>0.734884</td>\n",
       "      <td>0.540054</td>\n",
       "    </tr>\n",
       "    <tr>\n",
       "      <th>39</th>\n",
       "      <td>GBM_grid_0_AutoML_20181016_163834_model_31</td>\n",
       "      <td>0.535180</td>\n",
       "      <td>0.437474</td>\n",
       "      <td>0.378857</td>\n",
       "      <td>0.143533</td>\n",
       "    </tr>\n",
       "    <tr>\n",
       "      <th>40</th>\n",
       "      <td>GBM_grid_0_AutoML_20181016_163834_model_32</td>\n",
       "      <td>0.602582</td>\n",
       "      <td>1.083067</td>\n",
       "      <td>0.456198</td>\n",
       "      <td>0.208117</td>\n",
       "    </tr>\n",
       "    <tr>\n",
       "      <th>41</th>\n",
       "      <td>GBM_grid_0_AutoML_20181016_163834_model_27</td>\n",
       "      <td>0.699607</td>\n",
       "      <td>0.663549</td>\n",
       "      <td>0.481933</td>\n",
       "      <td>0.232260</td>\n",
       "    </tr>\n",
       "  </tbody>\n",
       "</table>\n",
       "</div>"
      ],
      "text/plain": [
       "                                                 model_id  \\\n",
       "0               GBM_grid_0_AutoML_20181016_163834_model_4   \n",
       "1              GBM_grid_0_AutoML_20181016_163834_model_15   \n",
       "2              GBM_grid_0_AutoML_20181016_163834_model_29   \n",
       "3              GBM_grid_0_AutoML_20181016_163834_model_20   \n",
       "4              GBM_grid_0_AutoML_20181016_163834_model_24   \n",
       "5               GBM_grid_0_AutoML_20181016_163834_model_3   \n",
       "6      StackedEnsemble_AllModels_0_AutoML_20181016_163834   \n",
       "7   StackedEnsemble_BestOfFamily_0_AutoML_20181016_163834   \n",
       "8              GBM_grid_0_AutoML_20181016_163834_model_23   \n",
       "9              GBM_grid_0_AutoML_20181016_163834_model_18   \n",
       "10              GBM_grid_0_AutoML_20181016_163834_model_0   \n",
       "11              GBM_grid_0_AutoML_20181016_163834_model_1   \n",
       "12              GBM_grid_0_AutoML_20181016_163834_model_5   \n",
       "13             GBM_grid_0_AutoML_20181016_163834_model_13   \n",
       "14             GBM_grid_0_AutoML_20181016_163834_model_17   \n",
       "15             GBM_grid_0_AutoML_20181016_163834_model_14   \n",
       "16              GBM_grid_0_AutoML_20181016_163834_model_2   \n",
       "17              GBM_grid_0_AutoML_20181016_163834_model_8   \n",
       "18             GBM_grid_0_AutoML_20181016_163834_model_34   \n",
       "19             GBM_grid_0_AutoML_20181016_163834_model_30   \n",
       "20              GBM_grid_0_AutoML_20181016_163834_model_6   \n",
       "21             GBM_grid_0_AutoML_20181016_163834_model_16   \n",
       "22             GBM_grid_0_AutoML_20181016_163834_model_12   \n",
       "23             GBM_grid_0_AutoML_20181016_163834_model_21   \n",
       "24             GBM_grid_0_AutoML_20181016_163834_model_19   \n",
       "25              GBM_grid_0_AutoML_20181016_163834_model_7   \n",
       "26             GBM_grid_0_AutoML_20181016_163834_model_22   \n",
       "27                           DRF_0_AutoML_20181016_163834   \n",
       "28              GBM_grid_0_AutoML_20181016_163834_model_9   \n",
       "29             GBM_grid_0_AutoML_20181016_163834_model_10   \n",
       "30             GBM_grid_0_AutoML_20181016_163834_model_25   \n",
       "31             GBM_grid_0_AutoML_20181016_163834_model_35   \n",
       "32              GLM_grid_0_AutoML_20181016_163834_model_0   \n",
       "33             GBM_grid_0_AutoML_20181016_163834_model_33   \n",
       "34                           XRT_0_AutoML_20181016_163834   \n",
       "35             GBM_grid_0_AutoML_20181016_163834_model_26   \n",
       "36                  DeepLearning_0_AutoML_20181016_163834   \n",
       "37             GBM_grid_0_AutoML_20181016_163834_model_28   \n",
       "38             GBM_grid_0_AutoML_20181016_163834_model_11   \n",
       "39             GBM_grid_0_AutoML_20181016_163834_model_31   \n",
       "40             GBM_grid_0_AutoML_20181016_163834_model_32   \n",
       "41             GBM_grid_0_AutoML_20181016_163834_model_27   \n",
       "\n",
       "    mean_per_class_error   logloss      rmse       mse  \n",
       "0               0.069628  0.088664  0.161820  0.026186  \n",
       "1               0.074684  0.077306  0.154214  0.023782  \n",
       "2               0.075647  0.080587  0.157806  0.024903  \n",
       "3               0.079460  0.076665  0.143319  0.020540  \n",
       "4               0.079799  0.067735  0.143651  0.020636  \n",
       "5               0.083010  0.074586  0.153693  0.023622  \n",
       "6               0.083403  0.089778  0.153544  0.023576  \n",
       "7               0.091417  0.100942  0.167275  0.027981  \n",
       "8               0.093816  0.117848  0.179147  0.032094  \n",
       "9               0.094095  0.080581  0.156603  0.024525  \n",
       "10              0.094951  0.091165  0.165188  0.027287  \n",
       "11              0.095005  0.077438  0.156128  0.024376  \n",
       "12              0.095580  0.133201  0.195265  0.038128  \n",
       "13              0.096430  0.100959  0.174452  0.030433  \n",
       "14              0.097947  0.121736  0.183706  0.033748  \n",
       "15              0.097995  0.112386  0.182093  0.033158  \n",
       "16              0.107790  0.078080  0.158135  0.025007  \n",
       "17              0.108334  0.117128  0.191757  0.036771  \n",
       "18              0.113475  0.095586  0.173799  0.030206  \n",
       "19              0.114621  0.106575  0.183678  0.033737  \n",
       "20              0.115557  0.157321  0.214342  0.045943  \n",
       "21              0.119080  0.108085  0.180474  0.032571  \n",
       "22              0.119445  0.104178  0.174014  0.030281  \n",
       "23              0.121495  0.104191  0.176346  0.031098  \n",
       "24              0.123405  1.318600  0.732451  0.536485  \n",
       "25              0.130994  0.173628  0.229037  0.052458  \n",
       "26              0.132000  0.169887  0.218626  0.047797  \n",
       "27              0.142983  0.175493  0.225361  0.050788  \n",
       "28              0.155580  0.170676  0.230253  0.053016  \n",
       "29              0.170151  0.191392  0.230891  0.053311  \n",
       "30              0.193747  0.168654  0.230245  0.053013  \n",
       "31              0.201041  0.218984  0.254445  0.064742  \n",
       "32              0.226875  0.282138  0.307562  0.094594  \n",
       "33              0.234221  0.235155  0.268174  0.071917  \n",
       "34              0.250659  0.264706  0.265640  0.070564  \n",
       "35              0.376106  0.320625  0.322125  0.103764  \n",
       "36              0.402303  0.301699  0.315626  0.099620  \n",
       "37              0.450557  0.407820  0.362288  0.131252  \n",
       "38              0.460965  1.327846  0.734884  0.540054  \n",
       "39              0.535180  0.437474  0.378857  0.143533  \n",
       "40              0.602582  1.083067  0.456198  0.208117  \n",
       "41              0.699607  0.663549  0.481933  0.232260  "
      ]
     },
     "execution_count": 106,
     "metadata": {},
     "output_type": "execute_result"
    }
   ],
   "source": [
    "aml_leaderboard_df"
   ]
  },
  {
   "cell_type": "code",
   "execution_count": 107,
   "metadata": {},
   "outputs": [],
   "source": [
    "# STart best model as first model\n",
    "\n",
    "model_set=aml_leaderboard_df['model_id']\n",
    "mod_best=h2o.get_model(model_set[0])"
   ]
  },
  {
   "cell_type": "markdown",
   "metadata": {},
   "source": [
    "StackedEnsemble is the best model for this dataset"
   ]
  },
  {
   "cell_type": "code",
   "execution_count": 108,
   "metadata": {},
   "outputs": [
    {
     "data": {
      "text/plain": [
       "'GBM_grid_0_AutoML_20181016_163834_model_4'"
      ]
     },
     "execution_count": 108,
     "metadata": {},
     "output_type": "execute_result"
    }
   ],
   "source": [
    "mod_best._id"
   ]
  },
  {
   "cell_type": "code",
   "execution_count": 109,
   "metadata": {},
   "outputs": [],
   "source": [
    "se=get_stacked_ensemble(model_set)"
   ]
  },
  {
   "cell_type": "code",
   "execution_count": 110,
   "metadata": {},
   "outputs": [
    {
     "name": "stdout",
     "output_type": "stream",
     "text": [
      "StackedEnsemble_BestOfFamily_0_AutoML_20181016_163834\n"
     ]
    }
   ],
   "source": [
    "print(se)"
   ]
  },
  {
   "cell_type": "code",
   "execution_count": 111,
   "metadata": {},
   "outputs": [],
   "source": [
    "if se is not None:\n",
    "    mod_best=h2o.get_model(se)"
   ]
  },
  {
   "cell_type": "code",
   "execution_count": 112,
   "metadata": {},
   "outputs": [
    {
     "name": "stdout",
     "output_type": "stream",
     "text": [
      "Model Details\n",
      "=============\n",
      "H2OStackedEnsembleEstimator :  Stacked Ensemble\n",
      "Model Key:  StackedEnsemble_BestOfFamily_0_AutoML_20181016_163834\n",
      "No model summary for this model\n",
      "\n",
      "\n",
      "ModelMetricsMultinomialGLM: stackedensemble\n",
      "** Reported on train data. **\n",
      "\n",
      "MSE: 0.0015683018626747784\n",
      "RMSE: 0.03960179115488059\n",
      "\n",
      "ModelMetricsMultinomialGLM: stackedensemble\n",
      "** Reported on validation data. **\n",
      "\n",
      "MSE: 0.03437179772724187\n",
      "RMSE: 0.1853963260888464\n",
      "\n",
      "ModelMetricsMultinomialGLM: stackedensemble\n",
      "** Reported on cross-validation data. **\n",
      "\n",
      "MSE: 0.0279809091695698\n",
      "RMSE: 0.16727495081323385\n"
     ]
    },
    {
     "data": {
      "text/plain": []
     },
     "execution_count": 112,
     "metadata": {},
     "output_type": "execute_result"
    }
   ],
   "source": [
    "mod_best"
   ]
  },
  {
   "cell_type": "code",
   "execution_count": 113,
   "metadata": {},
   "outputs": [
    {
     "name": "stdout",
     "output_type": "stream",
     "text": [
      "Model Details\n",
      "=============\n",
      "H2OStackedEnsembleEstimator :  Stacked Ensemble\n",
      "Model Key:  StackedEnsemble_BestOfFamily_0_AutoML_20181016_163834\n",
      "No model summary for this model\n",
      "\n",
      "\n",
      "ModelMetricsMultinomialGLM: stackedensemble\n",
      "** Reported on train data. **\n",
      "\n",
      "MSE: 0.0015683018626747784\n",
      "RMSE: 0.03960179115488059\n",
      "\n",
      "ModelMetricsMultinomialGLM: stackedensemble\n",
      "** Reported on validation data. **\n",
      "\n",
      "MSE: 0.03437179772724187\n",
      "RMSE: 0.1853963260888464\n",
      "\n",
      "ModelMetricsMultinomialGLM: stackedensemble\n",
      "** Reported on cross-validation data. **\n",
      "\n",
      "MSE: 0.0279809091695698\n",
      "RMSE: 0.16727495081323385\n",
      "<bound method ModelBase.coef_norm of >\n"
     ]
    }
   ],
   "source": [
    "mods=mod_best.coef_norm\n",
    "print(mods)"
   ]
  },
  {
   "cell_type": "code",
   "execution_count": 114,
   "metadata": {},
   "outputs": [],
   "source": [
    "bm=stackedensemble_df(aml_leaderboard_df)"
   ]
  },
  {
   "cell_type": "code",
   "execution_count": 115,
   "metadata": {},
   "outputs": [
    {
     "data": {
      "text/plain": [
       "['GBM_grid_0_AutoML_20181016_163834_model_4',\n",
       " 'GLM_grid_0_AutoML_20181016_163834_model_0',\n",
       " 'DRF_0_AutoML_20181016_163834',\n",
       " 'XRT_0_AutoML_20181016_163834',\n",
       " 'DeepLearning_0_AutoML_20181016_163834']"
      ]
     },
     "execution_count": 115,
     "metadata": {},
     "output_type": "execute_result"
    }
   ],
   "source": [
    "bm"
   ]
  },
  {
   "cell_type": "code",
   "execution_count": 116,
   "metadata": {},
   "outputs": [],
   "source": [
    "#  Get best_models and coef_norm()\n",
    "best_models={}\n",
    "best_models=stackedensemble(mod_best)\n",
    "bm=[]\n",
    "if best_models is not None: \n",
    "    if 'Intercept' in best_models.keys():\n",
    "        del best_models['Intercept']\n",
    "    bm=list(best_models.keys())\n",
    "else:\n",
    "    best_models={}\n",
    "    bm=stackedensemble_df(aml_leaderboard_df)   \n",
    "    for b in bm:   \n",
    "        best_models[b]=None\n",
    "\n",
    "if mod_best.model_id not in bm:\n",
    "    bm.append(mod_best.model_id)"
   ]
  },
  {
   "cell_type": "code",
   "execution_count": 117,
   "metadata": {},
   "outputs": [],
   "source": [
    "aml_leaderboard_df=aml_leaderboard_df.loc[aml_leaderboard_df['model_id'].isin(bm)]"
   ]
  },
  {
   "cell_type": "code",
   "execution_count": 118,
   "metadata": {},
   "outputs": [
    {
     "data": {
      "text/html": [
       "<div>\n",
       "<style scoped>\n",
       "    .dataframe tbody tr th:only-of-type {\n",
       "        vertical-align: middle;\n",
       "    }\n",
       "\n",
       "    .dataframe tbody tr th {\n",
       "        vertical-align: top;\n",
       "    }\n",
       "\n",
       "    .dataframe thead th {\n",
       "        text-align: right;\n",
       "    }\n",
       "</style>\n",
       "<table border=\"1\" class=\"dataframe\">\n",
       "  <thead>\n",
       "    <tr style=\"text-align: right;\">\n",
       "      <th></th>\n",
       "      <th>model_id</th>\n",
       "      <th>mean_per_class_error</th>\n",
       "      <th>logloss</th>\n",
       "      <th>rmse</th>\n",
       "      <th>mse</th>\n",
       "    </tr>\n",
       "  </thead>\n",
       "  <tbody>\n",
       "    <tr>\n",
       "      <th>0</th>\n",
       "      <td>GBM_grid_0_AutoML_20181016_163834_model_4</td>\n",
       "      <td>0.069628</td>\n",
       "      <td>0.088664</td>\n",
       "      <td>0.161820</td>\n",
       "      <td>0.026186</td>\n",
       "    </tr>\n",
       "    <tr>\n",
       "      <th>7</th>\n",
       "      <td>StackedEnsemble_BestOfFamily_0_AutoML_20181016_163834</td>\n",
       "      <td>0.091417</td>\n",
       "      <td>0.100942</td>\n",
       "      <td>0.167275</td>\n",
       "      <td>0.027981</td>\n",
       "    </tr>\n",
       "    <tr>\n",
       "      <th>27</th>\n",
       "      <td>DRF_0_AutoML_20181016_163834</td>\n",
       "      <td>0.142983</td>\n",
       "      <td>0.175493</td>\n",
       "      <td>0.225361</td>\n",
       "      <td>0.050788</td>\n",
       "    </tr>\n",
       "    <tr>\n",
       "      <th>32</th>\n",
       "      <td>GLM_grid_0_AutoML_20181016_163834_model_0</td>\n",
       "      <td>0.226875</td>\n",
       "      <td>0.282138</td>\n",
       "      <td>0.307562</td>\n",
       "      <td>0.094594</td>\n",
       "    </tr>\n",
       "    <tr>\n",
       "      <th>34</th>\n",
       "      <td>XRT_0_AutoML_20181016_163834</td>\n",
       "      <td>0.250659</td>\n",
       "      <td>0.264706</td>\n",
       "      <td>0.265640</td>\n",
       "      <td>0.070564</td>\n",
       "    </tr>\n",
       "    <tr>\n",
       "      <th>36</th>\n",
       "      <td>DeepLearning_0_AutoML_20181016_163834</td>\n",
       "      <td>0.402303</td>\n",
       "      <td>0.301699</td>\n",
       "      <td>0.315626</td>\n",
       "      <td>0.099620</td>\n",
       "    </tr>\n",
       "  </tbody>\n",
       "</table>\n",
       "</div>"
      ],
      "text/plain": [
       "                                                 model_id  \\\n",
       "0               GBM_grid_0_AutoML_20181016_163834_model_4   \n",
       "7   StackedEnsemble_BestOfFamily_0_AutoML_20181016_163834   \n",
       "27                           DRF_0_AutoML_20181016_163834   \n",
       "32              GLM_grid_0_AutoML_20181016_163834_model_0   \n",
       "34                           XRT_0_AutoML_20181016_163834   \n",
       "36                  DeepLearning_0_AutoML_20181016_163834   \n",
       "\n",
       "    mean_per_class_error   logloss      rmse       mse  \n",
       "0               0.069628  0.088664  0.161820  0.026186  \n",
       "7               0.091417  0.100942  0.167275  0.027981  \n",
       "27              0.142983  0.175493  0.225361  0.050788  \n",
       "32              0.226875  0.282138  0.307562  0.094594  \n",
       "34              0.250659  0.264706  0.265640  0.070564  \n",
       "36              0.402303  0.301699  0.315626  0.099620  "
      ]
     },
     "execution_count": 118,
     "metadata": {},
     "output_type": "execute_result"
    }
   ],
   "source": [
    "aml_leaderboard_df"
   ]
  },
  {
   "cell_type": "code",
   "execution_count": 119,
   "metadata": {},
   "outputs": [],
   "source": [
    "\n",
    "# save leaderboard\n",
    "leaderboard_stats=run_id+'_leaderboard.csv'\n",
    "aml_leaderboard_df.to_csv(leaderboard_stats)"
   ]
  },
  {
   "cell_type": "code",
   "execution_count": 120,
   "metadata": {},
   "outputs": [
    {
     "name": "stdout",
     "output_type": "stream",
     "text": [
      "GBM_grid_0_AutoML_20181016_163834_model_4\n"
     ]
    }
   ],
   "source": [
    "top=aml_leaderboard_df.iloc[0]['model_id']\n",
    "print(top)"
   ]
  },
  {
   "cell_type": "code",
   "execution_count": 121,
   "metadata": {},
   "outputs": [
    {
     "name": "stdout",
     "output_type": "stream",
     "text": [
      "GBM_grid_0_AutoML_20181016_163834_model_4\n",
      "gbm\n"
     ]
    }
   ],
   "source": [
    "mod_best=h2o.get_model(top)\n",
    "print(mod_best._id)\n",
    "print(mod_best.algo)"
   ]
  },
  {
   "cell_type": "code",
   "execution_count": 122,
   "metadata": {},
   "outputs": [],
   "source": [
    "meta_data['mod_best']=mod_best._id\n",
    "meta_data['mod_best_algo']=mod_best.algo"
   ]
  },
  {
   "cell_type": "code",
   "execution_count": 123,
   "metadata": {},
   "outputs": [],
   "source": [
    "meta_data['models']=bm"
   ]
  },
  {
   "cell_type": "code",
   "execution_count": 124,
   "metadata": {},
   "outputs": [],
   "source": [
    "models_path=os.path.join(run_dir,'models')\n",
    "for mod in bm:\n",
    "    try:   \n",
    "        m=h2o.get_model(mod) \n",
    "        h2o.save_model(m, path = models_path)\n",
    "    except:    \n",
    "        pass"
   ]
  },
  {
   "cell_type": "code",
   "execution_count": 125,
   "metadata": {},
   "outputs": [
    {
     "name": "stdout",
     "output_type": "stream",
     "text": [
      "{'algo': 'gbm', 'model_id': 'GBM_grid_0_AutoML_20181016_163834_model_4', 'varimp': [('safety', 586.560791015625, 1.0, 0.35400462180641984), ('persons', 435.03448486328125, 0.7416699028075552, 0.26255457344859273), ('C1', 359.4259033203125, 0.6127683759733916, 0.21692283719139457), ('maint', 100.64899444580078, 0.17159175312677805, 0.06074427367074563), ('buying', 77.00688934326172, 0.13128543626300856, 0.04647565121297718), ('lug_boot', 72.73973083496094, 0.12401055772755065, 0.04390031058834476), ('doors', 25.51296043395996, 0.04349585042973037, 0.015397732081525305)]}\n"
     ]
    }
   ],
   "source": [
    "# GBM\n",
    " \n",
    "mod,mod_id=get_model_by_algo(\"GBM\",best_models)\n",
    "if mod is not None:\n",
    "    try:     \n",
    "        sh_df=mod.scoring_history()\n",
    "        sh_df.to_csv(run_id+'_gbm_scoring_history.csv') \n",
    "    except:\n",
    "        pass   \n",
    "    try:     \n",
    "        stats_gbm={}\n",
    "        stats_gbm=gbm_stats(mod)\n",
    "        n=run_id+'_gbm_stats.json'\n",
    "        dict_to_json(stats_gbm,n)\n",
    "        print(stats_gbm)\n",
    "    except:\n",
    "        pass"
   ]
  },
  {
   "cell_type": "code",
   "execution_count": 126,
   "metadata": {},
   "outputs": [],
   "source": [
    "# DeepLearning\n",
    "\n",
    "mod,mod_id=get_model_by_algo(\"Dee\",best_models)"
   ]
  },
  {
   "cell_type": "code",
   "execution_count": 127,
   "metadata": {},
   "outputs": [
    {
     "name": "stdout",
     "output_type": "stream",
     "text": [
      "{'algo': 'deeplearning', 'model_id': 'DeepLearning_0_AutoML_20181016_163834', 'varimp': [('safety.low', 1.0, 1.0, 0.10706584270870913), ('safety.med', 0.6995736360549927, 0.6995736360549927, 0.07490044088102357), ('persons', 0.6633797287940979, 0.6633797287940979, 0.071025309699215), ('maint.vhigh', 0.6202352046966553, 0.6202352046966553, 0.0664060048684561), ('maint.low', 0.6139724850654602, 0.6139724850654602, 0.06573548151349383), ('safety.high', 0.5517079830169678, 0.5517079830169678, 0.05906908013083383), ('lug_boot.small', 0.5169445872306824, 0.5169445872306824, 0.0553471078655588), ('buying.vhigh', 0.512730062007904, 0.512730062007904, 0.05489587617096493), ('buying.high', 0.5098448991775513, 0.5098448991775513, 0.05458697378118137), ('lug_boot.med', 0.5043025612831116, 0.5043025612831116, 0.05399357870393676), ('maint.high', 0.48341357707977295, 0.48341357707977295, 0.051757082006877404), ('C1', 0.48298379778862, 0.48298379778862, 0.05171106732489136), ('maint.med', 0.48217374086380005, 0.48217374086380005, 0.051624337897593485), ('lug_boot.big', 0.4803018569946289, 0.4803018569946289, 0.05142392307368784), ('buying.low', 0.45068973302841187, 0.45068973302841187, 0.04825347606685005), ('doors', 0.38503918051719666, 0.38503918051719666, 0.04122454433794443), ('buying.med', 0.3827539384365082, 0.3827539384365082, 0.04097987296878212), ('buying.missing(NA)', 0.0, 0.0, 0.0), ('maint.missing(NA)', 0.0, 0.0, 0.0), ('lug_boot.missing(NA)', 0.0, 0.0, 0.0), ('safety.missing(NA)', 0.0, 0.0, 0.0)]}\n"
     ]
    }
   ],
   "source": [
    "if mod is not None:\n",
    "    try:    \n",
    "        sh_df=mod.scoring_history()\n",
    "        sh_df.to_csv(run_id+'_dl_scoring_history.csv') \n",
    "    except:\n",
    "        pass \n",
    "    try:\n",
    "        stats_dl={}\n",
    "        stats_dl=dl_stats(mod)\n",
    "        n=run_id+'_dl_stats.json'\n",
    "        dict_to_json(stats_dl,n)\n",
    "        print(stats_dl)\n",
    "    except:\n",
    "        pass    \n",
    "    try:\n",
    "        cf=mod.confusion_matrix()    \n",
    "        cf_df.to_csv(run_id+'_dl_confusion_matrix.csv')\n",
    "    except:\n",
    "        pass"
   ]
  },
  {
   "cell_type": "code",
   "execution_count": 128,
   "metadata": {},
   "outputs": [],
   "source": [
    "# GLM\n",
    "\n",
    "mod,mod_id=get_model_by_algo(\"GLM\",best_models)\n",
    "if mod is not None:\n",
    "    try:     \n",
    "        stats_glm={}\n",
    "        stats_glm=glm_stats(mod)\n",
    "        n=run_id+'_glm_stats.json'\n",
    "        dict_to_json(stats_glm,n)\n",
    "        print(stats_glm)\n",
    "    except:\n",
    "         pass"
   ]
  },
  {
   "cell_type": "markdown",
   "metadata": {},
   "source": [
    "### Prediction"
   ]
  },
  {
   "cell_type": "code",
   "execution_count": 129,
   "metadata": {},
   "outputs": [],
   "source": [
    "def predictions(mod,data,run_id):\n",
    "    test = h2o.import_file(data)\n",
    "    mod_perf=mod_best.model_performance(test)\n",
    "              \n",
    "    stats_test={}\n",
    "    stats_test=model_performance_stats(mod_perf)\n",
    "\n",
    "    n=run_id+'_test_stats.json'\n",
    "    dict_to_json(stats_test,n) \n",
    "\n",
    "    try:    \n",
    "        cf=mod_perf.confusion_matrix(metrics=[\"f1\",\"f2\",\"f0point5\",\"accuracy\",\"precision\",\"recall\",\"specificity\",\"absolute_mcc\",\"min_per_class_accuracy\",\"mean_per_class_accuracy\"])\n",
    "        cf_df=cf[0].table.as_data_frame()\n",
    "        cf_df.to_csv(run_id+'_test_confusion_matrix.csv')\n",
    "    except:\n",
    "        pass\n",
    "\n",
    "    predictions = mod_best.predict(test)\n",
    "    predictions_df=test.cbind(predictions).as_data_frame() \n",
    "    predictions_df.to_csv(run_id+'_predictions.csv')\n",
    "    return\n",
    "\n",
    "def predictions_test(mod,test,run_id):\n",
    "    mod_perf=mod_best.model_performance(test)          \n",
    "    stats_test={}\n",
    "    stats_test=model_performance_stats(mod_perf)\n",
    "    n=run_id+'_test_stats.json'\n",
    "    dict_to_json(stats_test,n) \n",
    "    try:\n",
    "        cf=mod_perf.confusion_matrix(metrics=[\"f1\",\"f2\",\"f0point5\",\"accuracy\",\"precision\",\"recall\",\"specificity\",\"absolute_mcc\",\"min_per_class_accuracy\",\"mean_per_class_accuracy\"])\n",
    "        cf_df=cf[0].table.as_data_frame()\n",
    "        cf_df.to_csv(run_id+'_test_confusion_matrix.csv')\n",
    "    except:\n",
    "        pass\n",
    "    predictions = mod_best.predict(test)    \n",
    "    predictions_df=test.cbind(predictions).as_data_frame() \n",
    "    predictions_df.to_csv(run_id+'_predictions.csv')\n",
    "    return predictions"
   ]
  },
  {
   "cell_type": "code",
   "execution_count": 130,
   "metadata": {},
   "outputs": [
    {
     "name": "stdout",
     "output_type": "stream",
     "text": [
      "gbm prediction progress: |████████████████████████████████████████████████| 100%\n"
     ]
    }
   ],
   "source": [
    "predictions = mod_best.predict(test)    \n",
    "predictions_df=test.cbind(predictions).as_data_frame() \n",
    "predictions_df.to_csv(run_id+'_predictions.csv')"
   ]
  },
  {
   "cell_type": "code",
   "execution_count": 131,
   "metadata": {},
   "outputs": [],
   "source": [
    "# Update and save meta data\n",
    "\n",
    "meta_data['end_time'] = time.time()\n",
    "meta_data['execution_time'] = meta_data['end_time'] - meta_data['start_time']\n",
    "  \n",
    "n=run_id+'_meta_data.json'\n",
    "dict_to_json(meta_data,n)"
   ]
  },
  {
   "cell_type": "code",
   "execution_count": 132,
   "metadata": {},
   "outputs": [
    {
     "data": {
      "text/plain": [
       "{'run_id': 'rY5hrHhNl',\n",
       " 'start_time': 1539722312.2699974,\n",
       " 'target': None,\n",
       " 'max_models': 9,\n",
       " 'run_time': 333,\n",
       " 'scale': False,\n",
       " 'classification': False,\n",
       " 'balance': False,\n",
       " 'balance_threshold': 0.2,\n",
       " 'project': None,\n",
       " 'end_time': 1539722860.407942,\n",
       " 'execution_time': 548.1379446983337,\n",
       " 'nthreads': 1,\n",
       " 'min_mem_size': 6,\n",
       " 'analysis': 0,\n",
       " 'X': ['C1', 'doors', 'persons', 'buying', 'maint', 'lug_boot', 'safety'],\n",
       " 'variables': {'C1': 'int',\n",
       "  'buying': 'enum',\n",
       "  'maint': 'enum',\n",
       "  'doors': 'int',\n",
       "  'persons': 'int',\n",
       "  'lug_boot': 'enum',\n",
       "  'safety': 'enum',\n",
       "  'class': 'enum'},\n",
       " 'model_execution_time': 544.5350785255432,\n",
       " 'mod_best': 'GBM_grid_0_AutoML_20181016_163834_model_4',\n",
       " 'mod_best_algo': 'gbm',\n",
       " 'models': ['GBM_grid_0_AutoML_20181016_163834_model_4',\n",
       "  'GLM_grid_0_AutoML_20181016_163834_model_0',\n",
       "  'DRF_0_AutoML_20181016_163834',\n",
       "  'XRT_0_AutoML_20181016_163834',\n",
       "  'DeepLearning_0_AutoML_20181016_163834',\n",
       "  'StackedEnsemble_BestOfFamily_0_AutoML_20181016_163834']}"
      ]
     },
     "execution_count": 132,
     "metadata": {},
     "output_type": "execute_result"
    }
   ],
   "source": [
    "meta_data"
   ]
  },
  {
   "cell_type": "markdown",
   "metadata": {},
   "source": [
    "### Plots"
   ]
  },
  {
   "cell_type": "code",
   "execution_count": 133,
   "metadata": {},
   "outputs": [],
   "source": [
    "plots=aml.leaderboard"
   ]
  },
  {
   "cell_type": "markdown",
   "metadata": {},
   "source": [
    "Variable Importance for deeplearning model"
   ]
  },
  {
   "cell_type": "code",
   "execution_count": 134,
   "metadata": {},
   "outputs": [],
   "source": [
    "varImp=h2o.get_model(plots[1,\"model_id\"])"
   ]
  },
  {
   "cell_type": "code",
   "execution_count": 135,
   "metadata": {},
   "outputs": [
    {
     "data": {
      "text/html": [
       "<div>\n",
       "<style scoped>\n",
       "    .dataframe tbody tr th:only-of-type {\n",
       "        vertical-align: middle;\n",
       "    }\n",
       "\n",
       "    .dataframe tbody tr th {\n",
       "        vertical-align: top;\n",
       "    }\n",
       "\n",
       "    .dataframe thead th {\n",
       "        text-align: right;\n",
       "    }\n",
       "</style>\n",
       "<table border=\"1\" class=\"dataframe\">\n",
       "  <thead>\n",
       "    <tr style=\"text-align: right;\">\n",
       "      <th></th>\n",
       "      <th>variable</th>\n",
       "      <th>relative_importance</th>\n",
       "      <th>scaled_importance</th>\n",
       "      <th>percentage</th>\n",
       "    </tr>\n",
       "  </thead>\n",
       "  <tbody>\n",
       "    <tr>\n",
       "      <th>0</th>\n",
       "      <td>safety</td>\n",
       "      <td>1019.355286</td>\n",
       "      <td>1.000000</td>\n",
       "      <td>0.293340</td>\n",
       "    </tr>\n",
       "    <tr>\n",
       "      <th>1</th>\n",
       "      <td>persons</td>\n",
       "      <td>973.357117</td>\n",
       "      <td>0.954875</td>\n",
       "      <td>0.280103</td>\n",
       "    </tr>\n",
       "    <tr>\n",
       "      <th>2</th>\n",
       "      <td>C1</td>\n",
       "      <td>799.949646</td>\n",
       "      <td>0.784760</td>\n",
       "      <td>0.230201</td>\n",
       "    </tr>\n",
       "    <tr>\n",
       "      <th>3</th>\n",
       "      <td>maint</td>\n",
       "      <td>253.345184</td>\n",
       "      <td>0.248535</td>\n",
       "      <td>0.072905</td>\n",
       "    </tr>\n",
       "    <tr>\n",
       "      <th>4</th>\n",
       "      <td>lug_boot</td>\n",
       "      <td>187.853149</td>\n",
       "      <td>0.184286</td>\n",
       "      <td>0.054058</td>\n",
       "    </tr>\n",
       "    <tr>\n",
       "      <th>5</th>\n",
       "      <td>buying</td>\n",
       "      <td>172.765747</td>\n",
       "      <td>0.169485</td>\n",
       "      <td>0.049717</td>\n",
       "    </tr>\n",
       "    <tr>\n",
       "      <th>6</th>\n",
       "      <td>doors</td>\n",
       "      <td>68.372055</td>\n",
       "      <td>0.067074</td>\n",
       "      <td>0.019675</td>\n",
       "    </tr>\n",
       "  </tbody>\n",
       "</table>\n",
       "</div>"
      ],
      "text/plain": [
       "   variable  relative_importance  scaled_importance  percentage\n",
       "0    safety          1019.355286           1.000000    0.293340\n",
       "1   persons           973.357117           0.954875    0.280103\n",
       "2        C1           799.949646           0.784760    0.230201\n",
       "3     maint           253.345184           0.248535    0.072905\n",
       "4  lug_boot           187.853149           0.184286    0.054058\n",
       "5    buying           172.765747           0.169485    0.049717\n",
       "6     doors            68.372055           0.067074    0.019675"
      ]
     },
     "execution_count": 135,
     "metadata": {},
     "output_type": "execute_result"
    }
   ],
   "source": [
    "varImp.varimp(use_pandas=True)"
   ]
  },
  {
   "cell_type": "code",
   "execution_count": 136,
   "metadata": {},
   "outputs": [
    {
     "data": {
      "image/png": "[encoded data removed]",
      "text/plain": [
       "<Figure size 1008x720 with 1 Axes>"
      ]
     },
     "metadata": {},
     "output_type": "display_data"
    }
   ],
   "source": [
    "varImp.varimp_plot()"
   ]
  },
  {
   "cell_type": "code",
   "execution_count": 138,
   "metadata": {},
   "outputs": [],
   "source": [
    "#varImp.partial_plot(data=df, cols=['doors','lug_boot','maint','buying','C1','persons','safety'], figsize=(30,30))"
   ]
  },
  {
   "cell_type": "code",
   "execution_count": 139,
   "metadata": {},
   "outputs": [
    {
     "data": {
      "image/png": "[encoded data removed]",
      "text/plain": [
       "<Figure size 432x288 with 1 Axes>"
      ]
     },
     "metadata": {},
     "output_type": "display_data"
    }
   ],
   "source": [
    "varImp.plot()"
   ]
  },
  {
   "cell_type": "markdown",
   "metadata": {},
   "source": [
    "Confusion matrix"
   ]
  },
  {
   "cell_type": "code",
   "execution_count": 140,
   "metadata": {},
   "outputs": [
    {
     "name": "stdout",
     "output_type": "stream",
     "text": [
      "Model Details\n",
      "=============\n",
      "H2OGradientBoostingEstimator :  Gradient Boosting Machine\n",
      "Model Key:  GBM_grid_0_AutoML_20181016_163834_model_15\n",
      "\n",
      "\n",
      "ModelMetricsMultinomial: gbm\n",
      "** Reported on train data. **\n",
      "\n",
      "MSE: 0.0012482636827887102\n",
      "RMSE: 0.035330775292777124\n",
      "LogLoss: 0.013938382891481256\n",
      "Mean Per-Class Error: 0.0\n",
      "Confusion Matrix: Row labels: Actual class; Column labels: Predicted class\n",
      "\n"
     ]
    },
    {
     "data": {
      "text/html": [
       "<div style=\"overflow:auto\"><table style=\"width:50%\"><tr><td><b>acc</b></td>\n",
       "<td><b>good</b></td>\n",
       "<td><b>unacc</b></td>\n",
       "<td><b>vgood</b></td>\n",
       "<td><b>Error</b></td>\n",
       "<td><b>Rate</b></td></tr>\n",
       "<tr><td>275.0</td>\n",
       "<td>0.0</td>\n",
       "<td>0.0</td>\n",
       "<td>0.0</td>\n",
       "<td>0.0</td>\n",
       "<td>0 / 275</td></tr>\n",
       "<tr><td>0.0</td>\n",
       "<td>56.0</td>\n",
       "<td>0.0</td>\n",
       "<td>0.0</td>\n",
       "<td>0.0</td>\n",
       "<td>0 / 56</td></tr>\n",
       "<tr><td>0.0</td>\n",
       "<td>0.0</td>\n",
       "<td>877.0</td>\n",
       "<td>0.0</td>\n",
       "<td>0.0</td>\n",
       "<td>0 / 877</td></tr>\n",
       "<tr><td>0.0</td>\n",
       "<td>0.0</td>\n",
       "<td>0.0</td>\n",
       "<td>40.0</td>\n",
       "<td>0.0</td>\n",
       "<td>0 / 40</td></tr>\n",
       "<tr><td>275.0</td>\n",
       "<td>56.0</td>\n",
       "<td>877.0</td>\n",
       "<td>40.0</td>\n",
       "<td>0.0</td>\n",
       "<td>0 / 1,248</td></tr></table></div>"
      ],
      "text/plain": [
       "acc    good    unacc    vgood    Error    Rate\n",
       "-----  ------  -------  -------  -------  ---------\n",
       "275    0       0        0        0        0 / 275\n",
       "0      56      0        0        0        0 / 56\n",
       "0      0       877      0        0        0 / 877\n",
       "0      0       0        40       0        0 / 40\n",
       "275    56      877      40       0        0 / 1,248"
      ]
     },
     "metadata": {},
     "output_type": "display_data"
    },
    {
     "name": "stdout",
     "output_type": "stream",
     "text": [
      "Top-4 Hit Ratios: \n"
     ]
    },
    {
     "data": {
      "text/html": [
       "<div style=\"overflow:auto\"><table style=\"width:50%\"><tr><td><b>k</b></td>\n",
       "<td><b>hit_ratio</b></td></tr>\n",
       "<tr><td>1</td>\n",
       "<td>1.0</td></tr>\n",
       "<tr><td>2</td>\n",
       "<td>1.0</td></tr>\n",
       "<tr><td>3</td>\n",
       "<td>1.0</td></tr>\n",
       "<tr><td>4</td>\n",
       "<td>1.0</td></tr></table></div>"
      ],
      "text/plain": [
       "k    hit_ratio\n",
       "---  -----------\n",
       "1    1\n",
       "2    1\n",
       "3    1\n",
       "4    1"
      ]
     },
     "metadata": {},
     "output_type": "display_data"
    },
    {
     "name": "stdout",
     "output_type": "stream",
     "text": [
      "\n",
      "ModelMetricsMultinomial: gbm\n",
      "** Reported on validation data. **\n",
      "\n",
      "MSE: 0.031095138547026408\n",
      "RMSE: 0.17633813696142536\n",
      "LogLoss: 0.10263342438951789\n",
      "Mean Per-Class Error: 0.13916083916083916\n",
      "Confusion Matrix: Row labels: Actual class; Column labels: Predicted class\n",
      "\n"
     ]
    },
    {
     "data": {
      "text/html": [
       "<div style=\"overflow:auto\"><table style=\"width:50%\"><tr><td><b>acc</b></td>\n",
       "<td><b>good</b></td>\n",
       "<td><b>unacc</b></td>\n",
       "<td><b>vgood</b></td>\n",
       "<td><b>Error</b></td>\n",
       "<td><b>Rate</b></td></tr>\n",
       "<tr><td>66.0</td>\n",
       "<td>0.0</td>\n",
       "<td>0.0</td>\n",
       "<td>0.0</td>\n",
       "<td>0.0</td>\n",
       "<td>0 / 66</td></tr>\n",
       "<tr><td>0.0</td>\n",
       "<td>10.0</td>\n",
       "<td>0.0</td>\n",
       "<td>0.0</td>\n",
       "<td>0.0</td>\n",
       "<td>0 / 10</td></tr>\n",
       "<tr><td>3.0</td>\n",
       "<td>1.0</td>\n",
       "<td>216.0</td>\n",
       "<td>0.0</td>\n",
       "<td>0.0181818</td>\n",
       "<td>4 / 220</td></tr>\n",
       "<tr><td>3.0</td>\n",
       "<td>4.0</td>\n",
       "<td>0.0</td>\n",
       "<td>6.0</td>\n",
       "<td>0.5384615</td>\n",
       "<td>7 / 13</td></tr>\n",
       "<tr><td>72.0</td>\n",
       "<td>15.0</td>\n",
       "<td>216.0</td>\n",
       "<td>6.0</td>\n",
       "<td>0.0355987</td>\n",
       "<td>11 / 309</td></tr></table></div>"
      ],
      "text/plain": [
       "acc    good    unacc    vgood    Error      Rate\n",
       "-----  ------  -------  -------  ---------  --------\n",
       "66     0       0        0        0          0 / 66\n",
       "0      10      0        0        0          0 / 10\n",
       "3      1       216      0        0.0181818  4 / 220\n",
       "3      4       0        6        0.538462   7 / 13\n",
       "72     15      216      6        0.0355987  11 / 309"
      ]
     },
     "metadata": {},
     "output_type": "display_data"
    },
    {
     "name": "stdout",
     "output_type": "stream",
     "text": [
      "Top-4 Hit Ratios: \n"
     ]
    },
    {
     "data": {
      "text/html": [
       "<div style=\"overflow:auto\"><table style=\"width:50%\"><tr><td><b>k</b></td>\n",
       "<td><b>hit_ratio</b></td></tr>\n",
       "<tr><td>1</td>\n",
       "<td>0.9644013</td></tr>\n",
       "<tr><td>2</td>\n",
       "<td>1.0</td></tr>\n",
       "<tr><td>3</td>\n",
       "<td>1.0</td></tr>\n",
       "<tr><td>4</td>\n",
       "<td>1.0</td></tr></table></div>"
      ],
      "text/plain": [
       "k    hit_ratio\n",
       "---  -----------\n",
       "1    0.964401\n",
       "2    1\n",
       "3    1\n",
       "4    1"
      ]
     },
     "metadata": {},
     "output_type": "display_data"
    },
    {
     "name": "stdout",
     "output_type": "stream",
     "text": [
      "\n",
      "ModelMetricsMultinomial: gbm\n",
      "** Reported on cross-validation data. **\n",
      "\n",
      "MSE: 0.023781817746072274\n",
      "RMSE: 0.15421354592276346\n",
      "LogLoss: 0.07730644443102547\n",
      "Mean Per-Class Error: 0.07468372847221194\n",
      "Confusion Matrix: Row labels: Actual class; Column labels: Predicted class\n",
      "\n"
     ]
    },
    {
     "data": {
      "text/html": [
       "<div style=\"overflow:auto\"><table style=\"width:50%\"><tr><td><b>acc</b></td>\n",
       "<td><b>good</b></td>\n",
       "<td><b>unacc</b></td>\n",
       "<td><b>vgood</b></td>\n",
       "<td><b>Error</b></td>\n",
       "<td><b>Rate</b></td></tr>\n",
       "<tr><td>263.0</td>\n",
       "<td>6.0</td>\n",
       "<td>5.0</td>\n",
       "<td>1.0</td>\n",
       "<td>0.0436364</td>\n",
       "<td>12 / 275</td></tr>\n",
       "<tr><td>5.0</td>\n",
       "<td>47.0</td>\n",
       "<td>0.0</td>\n",
       "<td>4.0</td>\n",
       "<td>0.1607143</td>\n",
       "<td>9 / 56</td></tr>\n",
       "<tr><td>16.0</td>\n",
       "<td>1.0</td>\n",
       "<td>860.0</td>\n",
       "<td>0.0</td>\n",
       "<td>0.0193843</td>\n",
       "<td>17 / 877</td></tr>\n",
       "<tr><td>2.0</td>\n",
       "<td>1.0</td>\n",
       "<td>0.0</td>\n",
       "<td>37.0</td>\n",
       "<td>0.075</td>\n",
       "<td>3 / 40</td></tr>\n",
       "<tr><td>286.0</td>\n",
       "<td>55.0</td>\n",
       "<td>865.0</td>\n",
       "<td>42.0</td>\n",
       "<td>0.0328526</td>\n",
       "<td>41 / 1,248</td></tr></table></div>"
      ],
      "text/plain": [
       "acc    good    unacc    vgood    Error      Rate\n",
       "-----  ------  -------  -------  ---------  ----------\n",
       "263    6       5        1        0.0436364  12 / 275\n",
       "5      47      0        4        0.160714   9 / 56\n",
       "16     1       860      0        0.0193843  17 / 877\n",
       "2      1       0        37       0.075      3 / 40\n",
       "286    55      865      42       0.0328526  41 / 1,248"
      ]
     },
     "metadata": {},
     "output_type": "display_data"
    },
    {
     "name": "stdout",
     "output_type": "stream",
     "text": [
      "Top-4 Hit Ratios: \n"
     ]
    },
    {
     "data": {
      "text/html": [
       "<div style=\"overflow:auto\"><table style=\"width:50%\"><tr><td><b>k</b></td>\n",
       "<td><b>hit_ratio</b></td></tr>\n",
       "<tr><td>1</td>\n",
       "<td>0.9671474</td></tr>\n",
       "<tr><td>2</td>\n",
       "<td>0.9991987</td></tr>\n",
       "<tr><td>3</td>\n",
       "<td>0.9999999</td></tr>\n",
       "<tr><td>4</td>\n",
       "<td>0.9999999</td></tr></table></div>"
      ],
      "text/plain": [
       "k    hit_ratio\n",
       "---  -----------\n",
       "1    0.967147\n",
       "2    0.999199\n",
       "3    1\n",
       "4    1"
      ]
     },
     "metadata": {},
     "output_type": "display_data"
    },
    {
     "name": "stdout",
     "output_type": "stream",
     "text": [
      "Cross-Validation Metrics Summary: \n"
     ]
    },
    {
     "data": {
      "text/html": [
       "<div style=\"overflow:auto\"><table style=\"width:50%\"><tr><td><b></b></td>\n",
       "<td><b>mean</b></td>\n",
       "<td><b>sd</b></td>\n",
       "<td><b>cv_1_valid</b></td>\n",
       "<td><b>cv_2_valid</b></td>\n",
       "<td><b>cv_3_valid</b></td>\n",
       "<td><b>cv_4_valid</b></td>\n",
       "<td><b>cv_5_valid</b></td></tr>\n",
       "<tr><td>accuracy</td>\n",
       "<td>0.9671422</td>\n",
       "<td>0.0110947</td>\n",
       "<td>0.944</td>\n",
       "<td>0.992</td>\n",
       "<td>0.972</td>\n",
       "<td>0.9678715</td>\n",
       "<td>0.9598393</td></tr>\n",
       "<tr><td>err</td>\n",
       "<td>0.0328578</td>\n",
       "<td>0.0110947</td>\n",
       "<td>0.056</td>\n",
       "<td>0.008</td>\n",
       "<td>0.028</td>\n",
       "<td>0.0321285</td>\n",
       "<td>0.0401606</td></tr>\n",
       "<tr><td>err_count</td>\n",
       "<td>8.2</td>\n",
       "<td>2.7712812</td>\n",
       "<td>14.0</td>\n",
       "<td>2.0</td>\n",
       "<td>7.0</td>\n",
       "<td>8.0</td>\n",
       "<td>10.0</td></tr>\n",
       "<tr><td>logloss</td>\n",
       "<td>0.0773225</td>\n",
       "<td>0.0188601</td>\n",
       "<td>0.1106132</td>\n",
       "<td>0.0315457</td>\n",
       "<td>0.0697960</td>\n",
       "<td>0.0803884</td>\n",
       "<td>0.0942691</td></tr>\n",
       "<tr><td>max_per_class_error</td>\n",
       "<td>0.1922112</td>\n",
       "<td>0.0628586</td>\n",
       "<td>0.2727273</td>\n",
       "<td>0.0344828</td>\n",
       "<td>0.25</td>\n",
       "<td>0.25</td>\n",
       "<td>0.1538462</td></tr>\n",
       "<tr><td>mean_per_class_accuracy</td>\n",
       "<td>0.9260922</td>\n",
       "<td>0.0239256</td>\n",
       "<td>0.9089516</td>\n",
       "<td>0.9913793</td>\n",
       "<td>0.9213974</td>\n",
       "<td>0.8943152</td>\n",
       "<td>0.9144174</td></tr>\n",
       "<tr><td>mean_per_class_error</td>\n",
       "<td>0.0739078</td>\n",
       "<td>0.0239256</td>\n",
       "<td>0.0910484</td>\n",
       "<td>0.0086207</td>\n",
       "<td>0.0786025</td>\n",
       "<td>0.1056848</td>\n",
       "<td>0.0855826</td></tr>\n",
       "<tr><td>mse</td>\n",
       "<td>0.0237878</td>\n",
       "<td>0.0065492</td>\n",
       "<td>0.0354657</td>\n",
       "<td>0.0083058</td>\n",
       "<td>0.0200699</td>\n",
       "<td>0.0252314</td>\n",
       "<td>0.0298665</td></tr>\n",
       "<tr><td>r2</td>\n",
       "<td>0.9678698</td>\n",
       "<td>0.0095872</td>\n",
       "<td>0.9476488</td>\n",
       "<td>0.9893163</td>\n",
       "<td>0.9719781</td>\n",
       "<td>0.9683018</td>\n",
       "<td>0.962104</td></tr>\n",
       "<tr><td>rmse</td>\n",
       "<td>0.1505581</td>\n",
       "<td>0.0236653</td>\n",
       "<td>0.1883233</td>\n",
       "<td>0.0911359</td>\n",
       "<td>0.1416684</td>\n",
       "<td>0.1588440</td>\n",
       "<td>0.1728191</td></tr></table></div>"
      ],
      "text/plain": [
       "                         mean       sd          cv_1_valid    cv_2_valid    cv_3_valid    cv_4_valid    cv_5_valid\n",
       "-----------------------  ---------  ----------  ------------  ------------  ------------  ------------  ------------\n",
       "accuracy                 0.967142   0.0110947   0.944         0.992         0.972         0.967871      0.959839\n",
       "err                      0.0328578  0.0110947   0.056         0.008         0.028         0.0321285     0.0401606\n",
       "err_count                8.2        2.77128     14            2             7             8             10\n",
       "logloss                  0.0773225  0.0188601   0.110613      0.0315457     0.069796      0.0803884     0.0942691\n",
       "max_per_class_error      0.192211   0.0628586   0.272727      0.0344828     0.25          0.25          0.153846\n",
       "mean_per_class_accuracy  0.926092   0.0239256   0.908952      0.991379      0.921397      0.894315      0.914417\n",
       "mean_per_class_error     0.0739078  0.0239256   0.0910484     0.00862069    0.0786025     0.105685      0.0855826\n",
       "mse                      0.0237878  0.00654922  0.0354657     0.00830575    0.0200699     0.0252314     0.0298665\n",
       "r2                       0.96787    0.00958725  0.947649      0.989316      0.971978      0.968302      0.962104\n",
       "rmse                     0.150558   0.0236653   0.188323      0.0911359     0.141668      0.158844      0.172819"
      ]
     },
     "metadata": {},
     "output_type": "display_data"
    },
    {
     "name": "stdout",
     "output_type": "stream",
     "text": [
      "Scoring History: \n"
     ]
    },
    {
     "data": {
      "text/html": [
       "<div style=\"overflow:auto\"><table style=\"width:50%\"><tr><td><b></b></td>\n",
       "<td><b>timestamp</b></td>\n",
       "<td><b>duration</b></td>\n",
       "<td><b>number_of_trees</b></td>\n",
       "<td><b>training_rmse</b></td>\n",
       "<td><b>training_logloss</b></td>\n",
       "<td><b>training_classification_error</b></td>\n",
       "<td><b>validation_rmse</b></td>\n",
       "<td><b>validation_logloss</b></td>\n",
       "<td><b>validation_classification_error</b></td></tr>\n",
       "<tr><td></td>\n",
       "<td>2018-10-16 16:40:35</td>\n",
       "<td> 1 min  8.299 sec</td>\n",
       "<td>0.0</td>\n",
       "<td>0.75</td>\n",
       "<td>1.3862944</td>\n",
       "<td>0.4727564</td>\n",
       "<td>0.75</td>\n",
       "<td>1.3862944</td>\n",
       "<td>0.4692557</td></tr>\n",
       "<tr><td></td>\n",
       "<td>2018-10-16 16:40:35</td>\n",
       "<td> 1 min  8.330 sec</td>\n",
       "<td>5.0</td>\n",
       "<td>0.6483665</td>\n",
       "<td>1.0522229</td>\n",
       "<td>0.2147436</td>\n",
       "<td>0.6544070</td>\n",
       "<td>1.0710701</td>\n",
       "<td>0.2168285</td></tr>\n",
       "<tr><td></td>\n",
       "<td>2018-10-16 16:40:36</td>\n",
       "<td> 1 min  8.360 sec</td>\n",
       "<td>10.0</td>\n",
       "<td>0.5494332</td>\n",
       "<td>0.8031455</td>\n",
       "<td>0.0809295</td>\n",
       "<td>0.5592295</td>\n",
       "<td>0.8282903</td>\n",
       "<td>0.1359223</td></tr>\n",
       "<tr><td></td>\n",
       "<td>2018-10-16 16:40:36</td>\n",
       "<td> 1 min  8.393 sec</td>\n",
       "<td>15.0</td>\n",
       "<td>0.4659269</td>\n",
       "<td>0.6263464</td>\n",
       "<td>0.0616987</td>\n",
       "<td>0.4767456</td>\n",
       "<td>0.6503149</td>\n",
       "<td>0.0938511</td></tr>\n",
       "<tr><td></td>\n",
       "<td>2018-10-16 16:40:36</td>\n",
       "<td> 1 min  8.423 sec</td>\n",
       "<td>20.0</td>\n",
       "<td>0.4095219</td>\n",
       "<td>0.5164981</td>\n",
       "<td>0.0544872</td>\n",
       "<td>0.4233477</td>\n",
       "<td>0.5439133</td>\n",
       "<td>0.0841424</td></tr>\n",
       "<tr><td>---</td>\n",
       "<td>---</td>\n",
       "<td>---</td>\n",
       "<td>---</td>\n",
       "<td>---</td>\n",
       "<td>---</td>\n",
       "<td>---</td>\n",
       "<td>---</td>\n",
       "<td>---</td>\n",
       "<td>---</td></tr>\n",
       "<tr><td></td>\n",
       "<td>2018-10-16 16:40:37</td>\n",
       "<td> 1 min  9.647 sec</td>\n",
       "<td>240.0</td>\n",
       "<td>0.0418783</td>\n",
       "<td>0.0170026</td>\n",
       "<td>0.0</td>\n",
       "<td>0.1759342</td>\n",
       "<td>0.1023021</td>\n",
       "<td>0.0355987</td></tr>\n",
       "<tr><td></td>\n",
       "<td>2018-10-16 16:40:37</td>\n",
       "<td> 1 min  9.677 sec</td>\n",
       "<td>245.0</td>\n",
       "<td>0.0399149</td>\n",
       "<td>0.0160636</td>\n",
       "<td>0.0</td>\n",
       "<td>0.1750878</td>\n",
       "<td>0.1017722</td>\n",
       "<td>0.0355987</td></tr>\n",
       "<tr><td></td>\n",
       "<td>2018-10-16 16:40:37</td>\n",
       "<td> 1 min  9.706 sec</td>\n",
       "<td>250.0</td>\n",
       "<td>0.0383816</td>\n",
       "<td>0.0153087</td>\n",
       "<td>0.0</td>\n",
       "<td>0.1746468</td>\n",
       "<td>0.1014964</td>\n",
       "<td>0.0355987</td></tr>\n",
       "<tr><td></td>\n",
       "<td>2018-10-16 16:40:37</td>\n",
       "<td> 1 min  9.737 sec</td>\n",
       "<td>255.0</td>\n",
       "<td>0.0366198</td>\n",
       "<td>0.0145446</td>\n",
       "<td>0.0</td>\n",
       "<td>0.1761572</td>\n",
       "<td>0.1026029</td>\n",
       "<td>0.0355987</td></tr>\n",
       "<tr><td></td>\n",
       "<td>2018-10-16 16:40:37</td>\n",
       "<td> 1 min  9.762 sec</td>\n",
       "<td>260.0</td>\n",
       "<td>0.0353308</td>\n",
       "<td>0.0139384</td>\n",
       "<td>0.0</td>\n",
       "<td>0.1763381</td>\n",
       "<td>0.1026334</td>\n",
       "<td>0.0355987</td></tr></table></div>"
      ],
      "text/plain": [
       "     timestamp            duration          number_of_trees    training_rmse         training_logloss      training_classification_error    validation_rmse      validation_logloss    validation_classification_error\n",
       "---  -------------------  ----------------  -----------------  --------------------  --------------------  -------------------------------  -------------------  --------------------  ---------------------------------\n",
       "     2018-10-16 16:40:35  1 min  8.299 sec  0.0                0.75                  1.386294361119894     0.47275641025641024              0.75                 1.3862943611198935    0.4692556634304207\n",
       "     2018-10-16 16:40:35  1 min  8.330 sec  5.0                0.6483665263804637    1.0522229193698325    0.21474358974358973              0.6544069936723709   1.071070106723656     0.2168284789644013\n",
       "     2018-10-16 16:40:36  1 min  8.360 sec  10.0               0.5494331974410374    0.8031454784681186    0.08092948717948718              0.5592294607284981   0.828290345676548     0.13592233009708737\n",
       "     2018-10-16 16:40:36  1 min  8.393 sec  15.0               0.4659269282935258    0.6263463595838656    0.06169871794871795              0.47674558741280537  0.6503148725938709    0.09385113268608414\n",
       "     2018-10-16 16:40:36  1 min  8.423 sec  20.0               0.4095218763694118    0.5164980925688007    0.05448717948717949              0.42334767807606927  0.5439132986467425    0.08414239482200647\n",
       "---  ---                  ---               ---                ---                   ---                   ---                              ---                  ---                   ---\n",
       "     2018-10-16 16:40:37  1 min  9.647 sec  240.0              0.04187829698675377   0.01700256846513138   0.0                              0.17593415686186487  0.10230206175033897   0.03559870550161812\n",
       "     2018-10-16 16:40:37  1 min  9.677 sec  245.0              0.03991487954745748   0.016063571801639018  0.0                              0.17508783121334034  0.10177215137686535   0.03559870550161812\n",
       "     2018-10-16 16:40:37  1 min  9.706 sec  250.0              0.03838159236436559   0.015308670273745575  0.0                              0.1746468156618289   0.10149638932326326   0.03559870550161812\n",
       "     2018-10-16 16:40:37  1 min  9.737 sec  255.0              0.036619759286594944  0.014544618286968567  0.0                              0.17615722523155308  0.10260292404359374   0.03559870550161812\n",
       "     2018-10-16 16:40:37  1 min  9.762 sec  260.0              0.035330775292777124  0.013938382891481256  0.0                              0.17633813696142536  0.10263342438951789   0.03559870550161812"
      ]
     },
     "metadata": {},
     "output_type": "display_data"
    },
    {
     "name": "stdout",
     "output_type": "stream",
     "text": [
      "\n",
      "See the whole table with table.as_data_frame()\n",
      "Variable Importances: \n"
     ]
    },
    {
     "data": {
      "text/html": [
       "<div style=\"overflow:auto\"><table style=\"width:50%\"><tr><td><b>variable</b></td>\n",
       "<td><b>relative_importance</b></td>\n",
       "<td><b>scaled_importance</b></td>\n",
       "<td><b>percentage</b></td></tr>\n",
       "<tr><td>safety</td>\n",
       "<td>1019.3552856</td>\n",
       "<td>1.0</td>\n",
       "<td>0.2933398</td></tr>\n",
       "<tr><td>persons</td>\n",
       "<td>973.3571167</td>\n",
       "<td>0.9548752</td>\n",
       "<td>0.2801029</td></tr>\n",
       "<tr><td>C1</td>\n",
       "<td>799.9496460</td>\n",
       "<td>0.7847604</td>\n",
       "<td>0.2302015</td></tr>\n",
       "<tr><td>maint</td>\n",
       "<td>253.3451843</td>\n",
       "<td>0.2485347</td>\n",
       "<td>0.0729051</td></tr>\n",
       "<tr><td>lug_boot</td>\n",
       "<td>187.8531494</td>\n",
       "<td>0.1842862</td>\n",
       "<td>0.0540585</td></tr>\n",
       "<tr><td>buying</td>\n",
       "<td>172.7657471</td>\n",
       "<td>0.1694853</td>\n",
       "<td>0.0497168</td></tr>\n",
       "<tr><td>doors</td>\n",
       "<td>68.3720551</td>\n",
       "<td>0.0670738</td>\n",
       "<td>0.0196754</td></tr></table></div>"
      ],
      "text/plain": [
       "variable    relative_importance    scaled_importance    percentage\n",
       "----------  ---------------------  -------------------  ------------\n",
       "safety      1019.36                1                    0.29334\n",
       "persons     973.357                0.954875             0.280103\n",
       "C1          799.95                 0.78476              0.230201\n",
       "maint       253.345                0.248535             0.0729051\n",
       "lug_boot    187.853                0.184286             0.0540585\n",
       "buying      172.766                0.169485             0.0497168\n",
       "doors       68.3721                0.0670738            0.0196754"
      ]
     },
     "metadata": {},
     "output_type": "display_data"
    },
    {
     "data": {
      "text/plain": [
       "<bound method H2OMultinomialModel.confusion_matrix of >"
      ]
     },
     "execution_count": 140,
     "metadata": {},
     "output_type": "execute_result"
    }
   ],
   "source": [
    "varImp.confusion_matrix"
   ]
  },
  {
   "cell_type": "code",
   "execution_count": 141,
   "metadata": {
    "scrolled": true
   },
   "outputs": [
    {
     "name": "stdout",
     "output_type": "stream",
     "text": [
      "\n",
      "ModelMetricsMultinomial: gbm\n",
      "** Reported on train data. **\n",
      "\n",
      "MSE: 0.0012482636827887102\n",
      "RMSE: 0.035330775292777124\n",
      "LogLoss: 0.013938382891481256\n",
      "Mean Per-Class Error: 0.0\n",
      "Confusion Matrix: Row labels: Actual class; Column labels: Predicted class\n",
      "\n"
     ]
    },
    {
     "data": {
      "text/html": [
       "<div style=\"overflow:auto\"><table style=\"width:50%\"><tr><td><b>acc</b></td>\n",
       "<td><b>good</b></td>\n",
       "<td><b>unacc</b></td>\n",
       "<td><b>vgood</b></td>\n",
       "<td><b>Error</b></td>\n",
       "<td><b>Rate</b></td></tr>\n",
       "<tr><td>275.0</td>\n",
       "<td>0.0</td>\n",
       "<td>0.0</td>\n",
       "<td>0.0</td>\n",
       "<td>0.0</td>\n",
       "<td>0 / 275</td></tr>\n",
       "<tr><td>0.0</td>\n",
       "<td>56.0</td>\n",
       "<td>0.0</td>\n",
       "<td>0.0</td>\n",
       "<td>0.0</td>\n",
       "<td>0 / 56</td></tr>\n",
       "<tr><td>0.0</td>\n",
       "<td>0.0</td>\n",
       "<td>877.0</td>\n",
       "<td>0.0</td>\n",
       "<td>0.0</td>\n",
       "<td>0 / 877</td></tr>\n",
       "<tr><td>0.0</td>\n",
       "<td>0.0</td>\n",
       "<td>0.0</td>\n",
       "<td>40.0</td>\n",
       "<td>0.0</td>\n",
       "<td>0 / 40</td></tr>\n",
       "<tr><td>275.0</td>\n",
       "<td>56.0</td>\n",
       "<td>877.0</td>\n",
       "<td>40.0</td>\n",
       "<td>0.0</td>\n",
       "<td>0 / 1,248</td></tr></table></div>"
      ],
      "text/plain": [
       "acc    good    unacc    vgood    Error    Rate\n",
       "-----  ------  -------  -------  -------  ---------\n",
       "275    0       0        0        0        0 / 275\n",
       "0      56      0        0        0        0 / 56\n",
       "0      0       877      0        0        0 / 877\n",
       "0      0       0        40       0        0 / 40\n",
       "275    56      877      40       0        0 / 1,248"
      ]
     },
     "metadata": {},
     "output_type": "display_data"
    },
    {
     "name": "stdout",
     "output_type": "stream",
     "text": [
      "Top-4 Hit Ratios: \n"
     ]
    },
    {
     "data": {
      "text/html": [
       "<div style=\"overflow:auto\"><table style=\"width:50%\"><tr><td><b>k</b></td>\n",
       "<td><b>hit_ratio</b></td></tr>\n",
       "<tr><td>1</td>\n",
       "<td>1.0</td></tr>\n",
       "<tr><td>2</td>\n",
       "<td>1.0</td></tr>\n",
       "<tr><td>3</td>\n",
       "<td>1.0</td></tr>\n",
       "<tr><td>4</td>\n",
       "<td>1.0</td></tr></table></div>"
      ],
      "text/plain": [
       "k    hit_ratio\n",
       "---  -----------\n",
       "1    1\n",
       "2    1\n",
       "3    1\n",
       "4    1"
      ]
     },
     "metadata": {},
     "output_type": "display_data"
    }
   ],
   "source": [
    "roc=varImp.model_performance()\n",
    "roc.show()"
   ]
  },
  {
   "cell_type": "code",
   "execution_count": 142,
   "metadata": {},
   "outputs": [],
   "source": [
    "os.chdir(server_path)"
   ]
  },
  {
   "cell_type": "code",
   "execution_count": 143,
   "metadata": {},
   "outputs": [
    {
     "name": "stdout",
     "output_type": "stream",
     "text": [
      "H2O session _sid_8d0f closed.\n"
     ]
    }
   ],
   "source": [
    "h2o.cluster().shutdown()"
   ]
  }
 ],
 "metadata": {
  "kernelspec": {
   "display_name": "Python 3",
   "language": "python",
   "name": "python3"
  },
  "language_info": {
   "codemirror_mode": {
    "name": "ipython",
    "version": 3
   },
   "file_extension": ".py",
   "mimetype": "text/x-python",
   "name": "python",
   "nbconvert_exporter": "python",
   "pygments_lexer": "ipython3",
   "version": "3.6.5"
  }
 },
 "nbformat": 4,
 "nbformat_minor": 2
}
