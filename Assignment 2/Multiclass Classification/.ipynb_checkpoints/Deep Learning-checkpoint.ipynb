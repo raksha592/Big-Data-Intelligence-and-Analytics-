{
 "cells": [
  {
   "cell_type": "markdown",
   "metadata": {},
   "source": [
    "## Deep learning"
   ]
  },
  {
   "cell_type": "code",
   "execution_count": 1,
   "metadata": {},
   "outputs": [],
   "source": [
    "import h2o\n",
    "import random, os, sys\n",
    "from datetime import datetime\n",
    "import pandas as pd\n",
    "import logging\n",
    "import csv\n",
    "import optparse\n",
    "import time\n",
    "import json\n",
    "from distutils.util import strtobool"
   ]
  },
  {
   "cell_type": "markdown",
   "metadata": {},
   "source": [
    "Define all the starter functions"
   ]
  },
  {
   "cell_type": "code",
   "execution_count": 2,
   "metadata": {},
   "outputs": [],
   "source": [
    "def impute_missing_values(df, x, scal=False):\n",
    "    # determine column types\n",
    "    ints, reals, enums = [], [], []\n",
    "    for key, val in df.types.items():\n",
    "        if key in x:\n",
    "            if val == 'enum':\n",
    "                enums.append(key)\n",
    "            elif val == 'int':\n",
    "                ints.append(key)            \n",
    "            else: \n",
    "                reals.append(key)    \n",
    "    _ = df[reals].impute(method='mean')\n",
    "    _ = df[ints].impute(method='median')\n",
    "    if scal:\n",
    "        df[reals] = df[reals].scale()\n",
    "        df[ints] = df[ints].scale()    \n",
    "    return\n",
    "\n",
    "\n",
    "def get_independent_variables(df, targ):\n",
    "    C = [name for name in df.columns if name != targ]\n",
    "    # determine column types\n",
    "    ints, reals, enums = [], [], []\n",
    "    for key, val in df.types.items():\n",
    "        if key in C:\n",
    "            if val == 'enum':\n",
    "                enums.append(key)\n",
    "            elif val == 'int':\n",
    "                ints.append(key)            \n",
    "            else: \n",
    "                reals.append(key)    \n",
    "    x=ints+enums+reals\n",
    "    return x\n",
    "    \n",
    "def get_all_variables_csv(i):\n",
    "    ivd={}\n",
    "    try:\n",
    "        iv = pd.read_csv(i,header=None)\n",
    "    except:\n",
    "        sys.exit(1)    \n",
    "    col=iv.values.tolist()[0]\n",
    "    dt=iv.values.tolist()[1]\n",
    "    i=0\n",
    "    for c in col:\n",
    "        ivd[c.strip()]=dt[i].strip()\n",
    "        i+=1        \n",
    "    return ivd\n",
    "    \n",
    "    \n",
    "\n",
    "def check_all_variables(df,dct,y=None):     \n",
    "    targ=list(dct.keys())     \n",
    "    for key, val in df.types.items():\n",
    "        if key in targ:\n",
    "            if dct[key] not in ['real','int','enum']:                      \n",
    "                targ.remove(key)  \n",
    "    for key, val in df.types.items():\n",
    "        if key in targ:            \n",
    "            if dct[key] != val:\n",
    "                print('convert ',key,' ',dct[key],' ',val)\n",
    "            if dct[key]=='enum':\n",
    "                try:\n",
    "                    df[key] = df[key].asfactor() \n",
    "                except:\n",
    "                    targ.remove(key)                 \n",
    "            if dct[key]=='int': \n",
    "                try:                \n",
    "                    df[key] = df[key].asnumeric() \n",
    "                except:\n",
    "                    targ.remove(key)                  \n",
    "            if dct[key]=='real':\n",
    "                try:                \n",
    "                    df[key] = df[key].asnumeric()  \n",
    "                except:\n",
    "                    targ.remove(key)                  \n",
    "    if y is None:\n",
    "        y=df.columns[-1] \n",
    "    if y in targ:\n",
    "        targ.remove(y)\n",
    "    else:\n",
    "        y=targ.pop()            \n",
    "    return targ\n",
    "\n",
    "def check_X(x,df):\n",
    "    for name in x:\n",
    "        if name not in df.columns:\n",
    "            x.remove(name)  \n",
    "    return x "
   ]
  },
  {
   "cell_type": "markdown",
   "metadata": {},
   "source": [
    "Initialize H2O"
   ]
  },
  {
   "cell_type": "code",
   "execution_count": 3,
   "metadata": {},
   "outputs": [
    {
     "name": "stdout",
     "output_type": "stream",
     "text": [
      "Checking whether there is an H2O instance running at http://localhost:13546..... not found.\n",
      "Attempting to start a local H2O server...\n",
      "; Java HotSpot(TM) 64-Bit Server VM (build 25.141-b15, mixed mode)\n",
      "  Starting server from C:\\ProgramData\\Anaconda3\\lib\\site-packages\\h2o\\backend\\bin\\h2o.jar\n",
      "  Ice root: C:\\Users\\raksh\\AppData\\Local\\Temp\\tmp47f68vfy\n",
      "  JVM stdout: C:\\Users\\raksh\\AppData\\Local\\Temp\\tmp47f68vfy\\h2o_raksha_started_from_python.out\n",
      "  JVM stderr: C:\\Users\\raksh\\AppData\\Local\\Temp\\tmp47f68vfy\\h2o_raksha_started_from_python.err\n",
      "  Server is running at http://127.0.0.1:13546\n",
      "Connecting to H2O server at http://127.0.0.1:13546... successful.\n"
     ]
    },
    {
     "data": {
      "text/html": [
       "<div style=\"overflow:auto\"><table style=\"width:50%\"><tr><td>H2O cluster uptime:</td>\n",
       "<td>02 secs</td></tr>\n",
       "<tr><td>H2O cluster timezone:</td>\n",
       "<td>America/New_York</td></tr>\n",
       "<tr><td>H2O data parsing timezone:</td>\n",
       "<td>UTC</td></tr>\n",
       "<tr><td>H2O cluster version:</td>\n",
       "<td>3.20.0.8</td></tr>\n",
       "<tr><td>H2O cluster version age:</td>\n",
       "<td>24 days </td></tr>\n",
       "<tr><td>H2O cluster name:</td>\n",
       "<td>H2O_from_python_raksha_v7s9m1</td></tr>\n",
       "<tr><td>H2O cluster total nodes:</td>\n",
       "<td>1</td></tr>\n",
       "<tr><td>H2O cluster free memory:</td>\n",
       "<td>5.750 Gb</td></tr>\n",
       "<tr><td>H2O cluster total cores:</td>\n",
       "<td>4</td></tr>\n",
       "<tr><td>H2O cluster allowed cores:</td>\n",
       "<td>4</td></tr>\n",
       "<tr><td>H2O cluster status:</td>\n",
       "<td>accepting new members, healthy</td></tr>\n",
       "<tr><td>H2O connection url:</td>\n",
       "<td>http://127.0.0.1:13546</td></tr>\n",
       "<tr><td>H2O connection proxy:</td>\n",
       "<td>None</td></tr>\n",
       "<tr><td>H2O internal security:</td>\n",
       "<td>False</td></tr>\n",
       "<tr><td>H2O API Extensions:</td>\n",
       "<td>Algos, AutoML, Core V3, Core V4</td></tr>\n",
       "<tr><td>Python version:</td>\n",
       "<td>3.6.5 final</td></tr></table></div>"
      ],
      "text/plain": [
       "--------------------------  -------------------------------\n",
       "H2O cluster uptime:         02 secs\n",
       "H2O cluster timezone:       America/New_York\n",
       "H2O data parsing timezone:  UTC\n",
       "H2O cluster version:        3.20.0.8\n",
       "H2O cluster version age:    24 days\n",
       "H2O cluster name:           H2O_from_python_raksha_v7s9m1\n",
       "H2O cluster total nodes:    1\n",
       "H2O cluster free memory:    5.750 Gb\n",
       "H2O cluster total cores:    4\n",
       "H2O cluster allowed cores:  4\n",
       "H2O cluster status:         accepting new members, healthy\n",
       "H2O connection url:         http://127.0.0.1:13546\n",
       "H2O connection proxy:\n",
       "H2O internal security:      False\n",
       "H2O API Extensions:         Algos, AutoML, Core V3, Core V4\n",
       "Python version:             3.6.5 final\n",
       "--------------------------  -------------------------------"
      ]
     },
     "metadata": {},
     "output_type": "display_data"
    }
   ],
   "source": [
    "port_no=random.randint(5555,55555)\n",
    "h2o.init(strict_version_check=False,min_mem_size_GB=6,port=port_no)"
   ]
  },
  {
   "cell_type": "markdown",
   "metadata": {},
   "source": [
    "Import data"
   ]
  },
  {
   "cell_type": "code",
   "execution_count": 4,
   "metadata": {},
   "outputs": [
    {
     "name": "stdout",
     "output_type": "stream",
     "text": [
      "Parse progress: |█████████████████████████████████████████████████████████| 100%\n"
     ]
    }
   ],
   "source": [
    "df = h2o.import_file(\"car_clean.csv\")"
   ]
  },
  {
   "cell_type": "code",
   "execution_count": 5,
   "metadata": {},
   "outputs": [],
   "source": [
    "all_variables=None\n",
    "scale=False"
   ]
  },
  {
   "cell_type": "code",
   "execution_count": 6,
   "metadata": {},
   "outputs": [
    {
     "name": "stdout",
     "output_type": "stream",
     "text": [
      "Rows:1727\n",
      "Cols:8\n",
      "\n",
      "\n"
     ]
    },
    {
     "data": {
      "text/html": [
       "<table>\n",
       "<thead>\n",
       "<tr><th>       </th><th>C1               </th><th>buying  </th><th>maint  </th><th>doors             </th><th>persons           </th><th>lug_boot  </th><th>safety  </th><th>class  </th></tr>\n",
       "</thead>\n",
       "<tbody>\n",
       "<tr><td>type   </td><td>int              </td><td>enum    </td><td>enum   </td><td>int               </td><td>int               </td><td>enum      </td><td>enum    </td><td>enum   </td></tr>\n",
       "<tr><td>mins   </td><td>0.0              </td><td>        </td><td>       </td><td>2.0               </td><td>2.0               </td><td>          </td><td>        </td><td>       </td></tr>\n",
       "<tr><td>mean   </td><td>863.0            </td><td>        </td><td>       </td><td>3.0007722007722   </td><td>3.0008688097306666</td><td>          </td><td>        </td><td>       </td></tr>\n",
       "<tr><td>maxs   </td><td>1726.0           </td><td>        </td><td>       </td><td>4.0               </td><td>4.0               </td><td>          </td><td>        </td><td>       </td></tr>\n",
       "<tr><td>sigma  </td><td>498.6862741243236</td><td>        </td><td>       </td><td>0.8166539469613198</td><td>1.0004343105525066</td><td>          </td><td>        </td><td>       </td></tr>\n",
       "<tr><td>zeros  </td><td>1                </td><td>        </td><td>       </td><td>0                 </td><td>0                 </td><td>          </td><td>        </td><td>       </td></tr>\n",
       "<tr><td>missing</td><td>0                </td><td>0       </td><td>0      </td><td>432               </td><td>576               </td><td>0         </td><td>0       </td><td>0      </td></tr>\n",
       "<tr><td>0      </td><td>0.0              </td><td>vhigh   </td><td>vhigh  </td><td>2.0               </td><td>2.0               </td><td>small     </td><td>med     </td><td>unacc  </td></tr>\n",
       "<tr><td>1      </td><td>1.0              </td><td>vhigh   </td><td>vhigh  </td><td>2.0               </td><td>2.0               </td><td>small     </td><td>high    </td><td>unacc  </td></tr>\n",
       "<tr><td>2      </td><td>2.0              </td><td>vhigh   </td><td>vhigh  </td><td>2.0               </td><td>2.0               </td><td>med       </td><td>low     </td><td>unacc  </td></tr>\n",
       "<tr><td>3      </td><td>3.0              </td><td>vhigh   </td><td>vhigh  </td><td>2.0               </td><td>2.0               </td><td>med       </td><td>med     </td><td>unacc  </td></tr>\n",
       "<tr><td>4      </td><td>4.0              </td><td>vhigh   </td><td>vhigh  </td><td>2.0               </td><td>2.0               </td><td>med       </td><td>high    </td><td>unacc  </td></tr>\n",
       "<tr><td>5      </td><td>5.0              </td><td>vhigh   </td><td>vhigh  </td><td>2.0               </td><td>2.0               </td><td>big       </td><td>low     </td><td>unacc  </td></tr>\n",
       "<tr><td>6      </td><td>6.0              </td><td>vhigh   </td><td>vhigh  </td><td>2.0               </td><td>2.0               </td><td>big       </td><td>med     </td><td>unacc  </td></tr>\n",
       "<tr><td>7      </td><td>7.0              </td><td>vhigh   </td><td>vhigh  </td><td>2.0               </td><td>2.0               </td><td>big       </td><td>high    </td><td>unacc  </td></tr>\n",
       "<tr><td>8      </td><td>8.0              </td><td>vhigh   </td><td>vhigh  </td><td>2.0               </td><td>4.0               </td><td>small     </td><td>low     </td><td>unacc  </td></tr>\n",
       "<tr><td>9      </td><td>9.0              </td><td>vhigh   </td><td>vhigh  </td><td>2.0               </td><td>4.0               </td><td>small     </td><td>med     </td><td>unacc  </td></tr>\n",
       "</tbody>\n",
       "</table>"
      ]
     },
     "metadata": {},
     "output_type": "display_data"
    }
   ],
   "source": [
    "df.describe()"
   ]
  },
  {
   "cell_type": "markdown",
   "metadata": {},
   "source": [
    "Define Target variables"
   ]
  },
  {
   "cell_type": "code",
   "execution_count": 7,
   "metadata": {},
   "outputs": [],
   "source": [
    "y = \"class\""
   ]
  },
  {
   "cell_type": "code",
   "execution_count": 8,
   "metadata": {},
   "outputs": [],
   "source": [
    "df[y] = df[y].asfactor()"
   ]
  },
  {
   "cell_type": "code",
   "execution_count": 9,
   "metadata": {},
   "outputs": [],
   "source": [
    "if all_variables is not None:\n",
    "    ivd=get_all_variables_csv(all_variables)\n",
    "    print(ivd)    \n",
    "    X=check_all_variables(df,ivd,y)\n",
    "    print(X)"
   ]
  },
  {
   "cell_type": "code",
   "execution_count": 10,
   "metadata": {},
   "outputs": [],
   "source": [
    "X = []  \n",
    "if all_variables is None:\n",
    "    X=get_independent_variables(df, y)  \n",
    "else: \n",
    "    ivd=get_all_variables_csv(all_variables)    \n",
    "    X=check_all_variables(df, ivd)\n",
    "\n",
    "\n",
    "X=check_X(X,df)\n",
    "\n",
    "\n",
    "# Add independent variables\n",
    "\n",
    "#meta_data['X']=X  \n",
    "\n",
    "\n",
    "# impute missing values\n",
    "\n",
    "_=impute_missing_values(df,X, scale)"
   ]
  },
  {
   "cell_type": "markdown",
   "metadata": {},
   "source": [
    "Split the dataset and run the model for train and test"
   ]
  },
  {
   "cell_type": "code",
   "execution_count": 11,
   "metadata": {},
   "outputs": [],
   "source": [
    "train, test = df.split_frame([0.9])"
   ]
  },
  {
   "cell_type": "code",
   "execution_count": 13,
   "metadata": {},
   "outputs": [
    {
     "name": "stdout",
     "output_type": "stream",
     "text": [
      "deeplearning Model Build progress: |██████████████████████████████████████| 100%\n"
     ]
    }
   ],
   "source": [
    "from h2o.estimators.deeplearning import H2ODeepLearningEstimator\n",
    "dl = H2ODeepLearningEstimator()\n",
    "dl.train(x=X, y = y, training_frame=train, validation_frame=test)"
   ]
  },
  {
   "cell_type": "markdown",
   "metadata": {},
   "source": [
    "### Plots and Metrics"
   ]
  },
  {
   "cell_type": "code",
   "execution_count": 15,
   "metadata": {},
   "outputs": [
    {
     "name": "stdout",
     "output_type": "stream",
     "text": [
      "Model Details\n",
      "=============\n",
      "H2ODeepLearningEstimator :  Deep Learning\n",
      "Model Key:  DeepLearning_model_python_1539717738893_2\n",
      "\n",
      "\n",
      "ModelMetricsMultinomial: deeplearning\n",
      "** Reported on train data. **\n",
      "\n",
      "MSE: 0.035072867649807146\n",
      "RMSE: 0.18727751506736506\n",
      "LogLoss: 0.11898740299811555\n",
      "Mean Per-Class Error: 0.05583076014160632\n",
      "Confusion Matrix: Row labels: Actual class; Column labels: Predicted class\n",
      "\n"
     ]
    },
    {
     "data": {
      "text/html": [
       "<div style=\"overflow:auto\"><table style=\"width:50%\"><tr><td><b>acc</b></td>\n",
       "<td><b>good</b></td>\n",
       "<td><b>unacc</b></td>\n",
       "<td><b>vgood</b></td>\n",
       "<td><b>Error</b></td>\n",
       "<td><b>Rate</b></td></tr>\n",
       "<tr><td>279.0</td>\n",
       "<td>5.0</td>\n",
       "<td>58.0</td>\n",
       "<td>0.0</td>\n",
       "<td>0.1842105</td>\n",
       "<td>63 / 342</td></tr>\n",
       "<tr><td>0.0</td>\n",
       "<td>62.0</td>\n",
       "<td>0.0</td>\n",
       "<td>1.0</td>\n",
       "<td>0.0158730</td>\n",
       "<td>1 / 63</td></tr>\n",
       "<tr><td>8.0</td>\n",
       "<td>0.0</td>\n",
       "<td>1078.0</td>\n",
       "<td>0.0</td>\n",
       "<td>0.0073665</td>\n",
       "<td>8 / 1,086</td></tr>\n",
       "<tr><td>0.0</td>\n",
       "<td>1.0</td>\n",
       "<td>0.0</td>\n",
       "<td>62.0</td>\n",
       "<td>0.0158730</td>\n",
       "<td>1 / 63</td></tr>\n",
       "<tr><td>287.0</td>\n",
       "<td>68.0</td>\n",
       "<td>1136.0</td>\n",
       "<td>63.0</td>\n",
       "<td>0.0469755</td>\n",
       "<td>73 / 1,554</td></tr></table></div>"
      ],
      "text/plain": [
       "acc    good    unacc    vgood    Error       Rate\n",
       "-----  ------  -------  -------  ----------  ----------\n",
       "279    5       58       0        0.184211    63 / 342\n",
       "0      62      0        1        0.015873    1 / 63\n",
       "8      0       1078     0        0.00736648  8 / 1,086\n",
       "0      1       0        62       0.015873    1 / 63\n",
       "287    68      1136     63       0.0469755   73 / 1,554"
      ]
     },
     "metadata": {},
     "output_type": "display_data"
    },
    {
     "name": "stdout",
     "output_type": "stream",
     "text": [
      "Top-4 Hit Ratios: \n"
     ]
    },
    {
     "data": {
      "text/html": [
       "<div style=\"overflow:auto\"><table style=\"width:50%\"><tr><td><b>k</b></td>\n",
       "<td><b>hit_ratio</b></td></tr>\n",
       "<tr><td>1</td>\n",
       "<td>0.9530245</td></tr>\n",
       "<tr><td>2</td>\n",
       "<td>1.0</td></tr>\n",
       "<tr><td>3</td>\n",
       "<td>1.0</td></tr>\n",
       "<tr><td>4</td>\n",
       "<td>1.0</td></tr></table></div>"
      ],
      "text/plain": [
       "k    hit_ratio\n",
       "---  -----------\n",
       "1    0.953024\n",
       "2    1\n",
       "3    1\n",
       "4    1"
      ]
     },
     "metadata": {},
     "output_type": "display_data"
    },
    {
     "name": "stdout",
     "output_type": "stream",
     "text": [
      "\n",
      "ModelMetricsMultinomial: deeplearning\n",
      "** Reported on validation data. **\n",
      "\n",
      "MSE: 0.04481416528338164\n",
      "RMSE: 0.21169356457715394\n",
      "LogLoss: 0.16062525863806038\n",
      "Mean Per-Class Error: 0.17073170731707316\n",
      "Confusion Matrix: Row labels: Actual class; Column labels: Predicted class\n",
      "\n"
     ]
    },
    {
     "data": {
      "text/html": [
       "<div style=\"overflow:auto\"><table style=\"width:50%\"><tr><td><b>acc</b></td>\n",
       "<td><b>good</b></td>\n",
       "<td><b>unacc</b></td>\n",
       "<td><b>vgood</b></td>\n",
       "<td><b>Error</b></td>\n",
       "<td><b>Rate</b></td></tr>\n",
       "<tr><td>35.0</td>\n",
       "<td>0.0</td>\n",
       "<td>5.0</td>\n",
       "<td>2.0</td>\n",
       "<td>0.1666667</td>\n",
       "<td>7 / 42</td></tr>\n",
       "<tr><td>0.0</td>\n",
       "<td>6.0</td>\n",
       "<td>0.0</td>\n",
       "<td>0.0</td>\n",
       "<td>0.0</td>\n",
       "<td>0 / 6</td></tr>\n",
       "<tr><td>2.0</td>\n",
       "<td>0.0</td>\n",
       "<td>121.0</td>\n",
       "<td>0.0</td>\n",
       "<td>0.0162602</td>\n",
       "<td>2 / 123</td></tr>\n",
       "<tr><td>0.0</td>\n",
       "<td>1.0</td>\n",
       "<td>0.0</td>\n",
       "<td>1.0</td>\n",
       "<td>0.5</td>\n",
       "<td>1 / 2</td></tr>\n",
       "<tr><td>37.0</td>\n",
       "<td>7.0</td>\n",
       "<td>126.0</td>\n",
       "<td>3.0</td>\n",
       "<td>0.0578035</td>\n",
       "<td>10 / 173</td></tr></table></div>"
      ],
      "text/plain": [
       "acc    good    unacc    vgood    Error      Rate\n",
       "-----  ------  -------  -------  ---------  --------\n",
       "35     0       5        2        0.166667   7 / 42\n",
       "0      6       0        0        0          0 / 6\n",
       "2      0       121      0        0.0162602  2 / 123\n",
       "0      1       0        1        0.5        1 / 2\n",
       "37     7       126      3        0.0578035  10 / 173"
      ]
     },
     "metadata": {},
     "output_type": "display_data"
    },
    {
     "name": "stdout",
     "output_type": "stream",
     "text": [
      "Top-4 Hit Ratios: \n"
     ]
    },
    {
     "data": {
      "text/html": [
       "<div style=\"overflow:auto\"><table style=\"width:50%\"><tr><td><b>k</b></td>\n",
       "<td><b>hit_ratio</b></td></tr>\n",
       "<tr><td>1</td>\n",
       "<td>0.9421966</td></tr>\n",
       "<tr><td>2</td>\n",
       "<td>1.0</td></tr>\n",
       "<tr><td>3</td>\n",
       "<td>1.0</td></tr>\n",
       "<tr><td>4</td>\n",
       "<td>1.0</td></tr></table></div>"
      ],
      "text/plain": [
       "k    hit_ratio\n",
       "---  -----------\n",
       "1    0.942197\n",
       "2    1\n",
       "3    1\n",
       "4    1"
      ]
     },
     "metadata": {},
     "output_type": "display_data"
    },
    {
     "name": "stdout",
     "output_type": "stream",
     "text": [
      "Scoring History: \n"
     ]
    },
    {
     "data": {
      "text/html": [
       "<div style=\"overflow:auto\"><table style=\"width:50%\"><tr><td><b></b></td>\n",
       "<td><b>timestamp</b></td>\n",
       "<td><b>duration</b></td>\n",
       "<td><b>training_speed</b></td>\n",
       "<td><b>epochs</b></td>\n",
       "<td><b>iterations</b></td>\n",
       "<td><b>samples</b></td>\n",
       "<td><b>training_rmse</b></td>\n",
       "<td><b>training_logloss</b></td>\n",
       "<td><b>training_r2</b></td>\n",
       "<td><b>training_classification_error</b></td>\n",
       "<td><b>validation_rmse</b></td>\n",
       "<td><b>validation_logloss</b></td>\n",
       "<td><b>validation_r2</b></td>\n",
       "<td><b>validation_classification_error</b></td></tr>\n",
       "<tr><td></td>\n",
       "<td>2018-10-16 15:24:36</td>\n",
       "<td> 0.000 sec</td>\n",
       "<td>None</td>\n",
       "<td>0.0</td>\n",
       "<td>0</td>\n",
       "<td>0.0</td>\n",
       "<td>nan</td>\n",
       "<td>nan</td>\n",
       "<td>nan</td>\n",
       "<td>nan</td>\n",
       "<td>nan</td>\n",
       "<td>nan</td>\n",
       "<td>nan</td>\n",
       "<td>nan</td></tr>\n",
       "<tr><td></td>\n",
       "<td>2018-10-16 15:24:37</td>\n",
       "<td> 1.757 sec</td>\n",
       "<td>1475 obs/sec</td>\n",
       "<td>1.0</td>\n",
       "<td>1</td>\n",
       "<td>1554.0</td>\n",
       "<td>0.4550346</td>\n",
       "<td>1.0364122</td>\n",
       "<td>0.7302737</td>\n",
       "<td>0.2445302</td>\n",
       "<td>0.4374787</td>\n",
       "<td>1.0853457</td>\n",
       "<td>0.7477079</td>\n",
       "<td>0.2254335</td></tr>\n",
       "<tr><td></td>\n",
       "<td>2018-10-16 15:24:42</td>\n",
       "<td> 6.756 sec</td>\n",
       "<td>2360 obs/sec</td>\n",
       "<td>9.0</td>\n",
       "<td>9</td>\n",
       "<td>13986.0</td>\n",
       "<td>0.2199219</td>\n",
       "<td>0.1644180</td>\n",
       "<td>0.9369955</td>\n",
       "<td>0.0649936</td>\n",
       "<td>0.2239029</td>\n",
       "<td>0.1693611</td>\n",
       "<td>0.9339141</td>\n",
       "<td>0.0635838</td></tr>\n",
       "<tr><td></td>\n",
       "<td>2018-10-16 15:24:43</td>\n",
       "<td> 7.475 sec</td>\n",
       "<td>2366 obs/sec</td>\n",
       "<td>10.0</td>\n",
       "<td>10</td>\n",
       "<td>15540.0</td>\n",
       "<td>0.1872775</td>\n",
       "<td>0.1189874</td>\n",
       "<td>0.9543116</td>\n",
       "<td>0.0469755</td>\n",
       "<td>0.2116936</td>\n",
       "<td>0.1606253</td>\n",
       "<td>0.9409248</td>\n",
       "<td>0.0578035</td></tr></table></div>"
      ],
      "text/plain": [
       "    timestamp            duration    training_speed    epochs    iterations    samples    training_rmse    training_logloss    training_r2    training_classification_error    validation_rmse    validation_logloss    validation_r2    validation_classification_error\n",
       "--  -------------------  ----------  ----------------  --------  ------------  ---------  ---------------  ------------------  -------------  -------------------------------  -----------------  --------------------  ---------------  ---------------------------------\n",
       "    2018-10-16 15:24:36  0.000 sec                     0         0             0          nan              nan                 nan            nan                              nan                nan                   nan              nan\n",
       "    2018-10-16 15:24:37  1.757 sec   1475 obs/sec      1         1             1554       0.455035         1.03641             0.730274       0.24453                          0.437479           1.08535               0.747708         0.225434\n",
       "    2018-10-16 15:24:42  6.756 sec   2360 obs/sec      9         9             13986      0.219922         0.164418            0.936996       0.0649936                        0.223903           0.169361              0.933914         0.0635838\n",
       "    2018-10-16 15:24:43  7.475 sec   2366 obs/sec      10        10            15540      0.187278         0.118987            0.954312       0.0469755                        0.211694           0.160625              0.940925         0.0578035"
      ]
     },
     "metadata": {},
     "output_type": "display_data"
    },
    {
     "name": "stdout",
     "output_type": "stream",
     "text": [
      "Variable Importances: \n"
     ]
    },
    {
     "data": {
      "text/html": [
       "<div style=\"overflow:auto\"><table style=\"width:50%\"><tr><td><b>variable</b></td>\n",
       "<td><b>relative_importance</b></td>\n",
       "<td><b>scaled_importance</b></td>\n",
       "<td><b>percentage</b></td></tr>\n",
       "<tr><td>safety.low</td>\n",
       "<td>1.0</td>\n",
       "<td>1.0</td>\n",
       "<td>0.0755247</td></tr>\n",
       "<tr><td>safety.high</td>\n",
       "<td>0.9026052</td>\n",
       "<td>0.9026052</td>\n",
       "<td>0.0681690</td></tr>\n",
       "<tr><td>maint.vhigh</td>\n",
       "<td>0.8335341</td>\n",
       "<td>0.8335341</td>\n",
       "<td>0.0629524</td></tr>\n",
       "<tr><td>lug_boot.small</td>\n",
       "<td>0.8307771</td>\n",
       "<td>0.8307771</td>\n",
       "<td>0.0627442</td></tr>\n",
       "<tr><td>persons</td>\n",
       "<td>0.8055347</td>\n",
       "<td>0.8055347</td>\n",
       "<td>0.0608378</td></tr>\n",
       "<tr><td>---</td>\n",
       "<td>---</td>\n",
       "<td>---</td>\n",
       "<td>---</td></tr>\n",
       "<tr><td>doors</td>\n",
       "<td>0.6344479</td>\n",
       "<td>0.6344479</td>\n",
       "<td>0.0479165</td></tr>\n",
       "<tr><td>buying.missing(NA)</td>\n",
       "<td>0.0</td>\n",
       "<td>0.0</td>\n",
       "<td>0.0</td></tr>\n",
       "<tr><td>maint.missing(NA)</td>\n",
       "<td>0.0</td>\n",
       "<td>0.0</td>\n",
       "<td>0.0</td></tr>\n",
       "<tr><td>lug_boot.missing(NA)</td>\n",
       "<td>0.0</td>\n",
       "<td>0.0</td>\n",
       "<td>0.0</td></tr>\n",
       "<tr><td>safety.missing(NA)</td>\n",
       "<td>0.0</td>\n",
       "<td>0.0</td>\n",
       "<td>0.0</td></tr></table></div>"
      ],
      "text/plain": [
       "variable              relative_importance    scaled_importance    percentage\n",
       "--------------------  ---------------------  -------------------  -------------------\n",
       "safety.low            1.0                    1.0                  0.07552470413138042\n",
       "safety.high           0.9026051759719849     0.9026051759719849   0.06816898886273672\n",
       "maint.vhigh           0.8335340619087219     0.8335340619087219   0.06295241340908395\n",
       "lug_boot.small        0.830777108669281      0.830777108669281    0.06274419533137113\n",
       "persons               0.8055347204208374     0.8055347204208374   0.06083777142733798\n",
       "---                   ---                    ---                  ---\n",
       "doors                 0.6344479322433472     0.6344479322433472   0.04791649236944488\n",
       "buying.missing(NA)    0.0                    0.0                  0.0\n",
       "maint.missing(NA)     0.0                    0.0                  0.0\n",
       "lug_boot.missing(NA)  0.0                    0.0                  0.0\n",
       "safety.missing(NA)    0.0                    0.0                  0.0"
      ]
     },
     "metadata": {},
     "output_type": "display_data"
    },
    {
     "name": "stdout",
     "output_type": "stream",
     "text": [
      "\n",
      "See the whole table with table.as_data_frame()\n"
     ]
    },
    {
     "data": {
      "text/plain": [
       "<bound method H2OMultinomialModel.confusion_matrix of >"
      ]
     },
     "execution_count": 15,
     "metadata": {},
     "output_type": "execute_result"
    }
   ],
   "source": [
    "dl.confusion_matrix"
   ]
  },
  {
   "cell_type": "code",
   "execution_count": 18,
   "metadata": {},
   "outputs": [
    {
     "data": {
      "image/png": "[encoded data removed]",
      "text/plain": [
       "<Figure size 1008x720 with 1 Axes>"
      ]
     },
     "metadata": {},
     "output_type": "display_data"
    }
   ],
   "source": [
    "dl.varimp_plot(num_of_features=33)"
   ]
  },
  {
   "cell_type": "code",
   "execution_count": 19,
   "metadata": {},
   "outputs": [
    {
     "data": {
      "image/png": "[encoded data removed]",
      "text/plain": [
       "<Figure size 432x288 with 1 Axes>"
      ]
     },
     "metadata": {},
     "output_type": "display_data"
    }
   ],
   "source": [
    "dl.plot()"
   ]
  },
  {
   "cell_type": "code",
   "execution_count": 22,
   "metadata": {},
   "outputs": [
    {
     "name": "stdout",
     "output_type": "stream",
     "text": [
      "\n",
      "ModelMetricsMultinomial: deeplearning\n",
      "** Reported on train data. **\n",
      "\n",
      "MSE: 0.035072867649807146\n",
      "RMSE: 0.18727751506736506\n",
      "LogLoss: 0.11898740299811555\n",
      "Mean Per-Class Error: 0.05583076014160632\n",
      "Confusion Matrix: Row labels: Actual class; Column labels: Predicted class\n",
      "\n"
     ]
    },
    {
     "data": {
      "text/html": [
       "<div style=\"overflow:auto\"><table style=\"width:50%\"><tr><td><b>acc</b></td>\n",
       "<td><b>good</b></td>\n",
       "<td><b>unacc</b></td>\n",
       "<td><b>vgood</b></td>\n",
       "<td><b>Error</b></td>\n",
       "<td><b>Rate</b></td></tr>\n",
       "<tr><td>279.0</td>\n",
       "<td>5.0</td>\n",
       "<td>58.0</td>\n",
       "<td>0.0</td>\n",
       "<td>0.1842105</td>\n",
       "<td>63 / 342</td></tr>\n",
       "<tr><td>0.0</td>\n",
       "<td>62.0</td>\n",
       "<td>0.0</td>\n",
       "<td>1.0</td>\n",
       "<td>0.0158730</td>\n",
       "<td>1 / 63</td></tr>\n",
       "<tr><td>8.0</td>\n",
       "<td>0.0</td>\n",
       "<td>1078.0</td>\n",
       "<td>0.0</td>\n",
       "<td>0.0073665</td>\n",
       "<td>8 / 1,086</td></tr>\n",
       "<tr><td>0.0</td>\n",
       "<td>1.0</td>\n",
       "<td>0.0</td>\n",
       "<td>62.0</td>\n",
       "<td>0.0158730</td>\n",
       "<td>1 / 63</td></tr>\n",
       "<tr><td>287.0</td>\n",
       "<td>68.0</td>\n",
       "<td>1136.0</td>\n",
       "<td>63.0</td>\n",
       "<td>0.0469755</td>\n",
       "<td>73 / 1,554</td></tr></table></div>"
      ],
      "text/plain": [
       "acc    good    unacc    vgood    Error       Rate\n",
       "-----  ------  -------  -------  ----------  ----------\n",
       "279    5       58       0        0.184211    63 / 342\n",
       "0      62      0        1        0.015873    1 / 63\n",
       "8      0       1078     0        0.00736648  8 / 1,086\n",
       "0      1       0        62       0.015873    1 / 63\n",
       "287    68      1136     63       0.0469755   73 / 1,554"
      ]
     },
     "metadata": {},
     "output_type": "display_data"
    },
    {
     "name": "stdout",
     "output_type": "stream",
     "text": [
      "Top-4 Hit Ratios: \n"
     ]
    },
    {
     "data": {
      "text/html": [
       "<div style=\"overflow:auto\"><table style=\"width:50%\"><tr><td><b>k</b></td>\n",
       "<td><b>hit_ratio</b></td></tr>\n",
       "<tr><td>1</td>\n",
       "<td>0.9530245</td></tr>\n",
       "<tr><td>2</td>\n",
       "<td>1.0</td></tr>\n",
       "<tr><td>3</td>\n",
       "<td>1.0</td></tr>\n",
       "<tr><td>4</td>\n",
       "<td>1.0</td></tr></table></div>"
      ],
      "text/plain": [
       "k    hit_ratio\n",
       "---  -----------\n",
       "1    0.953024\n",
       "2    1\n",
       "3    1\n",
       "4    1"
      ]
     },
     "metadata": {},
     "output_type": "display_data"
    },
    {
     "data": {
      "text/plain": []
     },
     "execution_count": 22,
     "metadata": {},
     "output_type": "execute_result"
    }
   ],
   "source": [
    "dl.model_performance()"
   ]
  }
 ],
 "metadata": {
  "kernelspec": {
   "display_name": "Python 3",
   "language": "python",
   "name": "python3"
  },
  "language_info": {
   "codemirror_mode": {
    "name": "ipython",
    "version": 3
   },
   "file_extension": ".py",
   "mimetype": "text/x-python",
   "name": "python",
   "nbconvert_exporter": "python",
   "pygments_lexer": "ipython3",
   "version": "3.6.5"
  }
 },
 "nbformat": 4,
 "nbformat_minor": 2
}
